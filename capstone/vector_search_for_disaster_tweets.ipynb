{
 "cells": [
  {
   "cell_type": "markdown",
   "id": "bd12e2a4",
   "metadata": {},
   "source": [
    "# What makes a Tweet an indicator of an ongoing Disaster \n",
    "\n",
    "We all know about the \"Boy who cried Wolf\", and it's equivalent tweets such as \"its shaking in San Francisco\" which could mean its fun being in SF or an earthqauke. \n",
    "\n",
    "In any disaster situation avaliabiltiy of the first responder could make the difference between life and death. Last year when there was severe weather system in Bayarea, crowd sourced tweets did a better job in giving updates on flood zones then any other medium. \n",
    "\n",
    "For a disaster management system supporting First responder team its important to understand when a tweet signals an actual disaster."
   ]
  },
  {
   "cell_type": "markdown",
   "id": "b83e1fa7",
   "metadata": {},
   "source": [
    "# Business Understanding\n",
    "\n",
    "From a business perspective, we are tasked with identifying patterns in the tweet that would indicate a disaster in progress and the first responders can respond quickly and efficiently in the form of \n",
    "- Tweets asking people to stay away form the disaster zone \n",
    "- Checking progress and providing additional support \n",
    "- Providing on time help "
   ]
  },
  {
   "cell_type": "markdown",
   "id": "87e97089",
   "metadata": {},
   "source": [
    "### Data Mining Goals and KPI\n",
    "\n",
    "- Build predictive model with 75% accuracy\n",
    "- Build predictive model with 75% recall\n",
    "- Build predictive model with 75% precision"
   ]
  },
  {
   "cell_type": "markdown",
   "id": "da728d78",
   "metadata": {},
   "source": [
    "# Data Understanding\n",
    "\n",
    "The Data is from Kaggle (https://www.kaggle.com/competitions/nlp-getting-started/overview). Given its a getting started NLP project there are multiple articles and solutions provided online to solve it. \n",
    "List of sources I referred,\n",
    "- https://www.kaggle.com/competitions/nlp-getting-started/code \n",
    "- https://www.kaggle.com/code/jessicaval/disaster-tweets-prediction-logreg-embeddings\n",
    "- https://medium.com/analytics-vidhya/introduction-to-nlp-with-disaster-tweets-3b672a75748c\n",
    "\n",
    "\n",
    "### The data is made of the following attributes \n",
    "\n",
    "- id: a unique identifier of every tweet\n",
    "- keyword: a particular keyword from the tweet (this can be blank)\n",
    "- location: the location the tweet was sent from (this can be blank)\n",
    "- text: the text of the tweet\n",
    "- target: present only in the train data, and denotes if the tweet is about a real disaster (1) or not (0)"
   ]
  },
  {
   "cell_type": "code",
   "execution_count": 14,
   "id": "770845a1",
   "metadata": {},
   "outputs": [],
   "source": [
    "import pandas as pd\n",
    "import numpy as np\n",
    "import string"
   ]
  },
  {
   "cell_type": "code",
   "execution_count": 15,
   "id": "dc949da4",
   "metadata": {},
   "outputs": [
    {
     "data": {
      "text/html": [
       "<div>\n",
       "<style scoped>\n",
       "    .dataframe tbody tr th:only-of-type {\n",
       "        vertical-align: middle;\n",
       "    }\n",
       "\n",
       "    .dataframe tbody tr th {\n",
       "        vertical-align: top;\n",
       "    }\n",
       "\n",
       "    .dataframe thead th {\n",
       "        text-align: right;\n",
       "    }\n",
       "</style>\n",
       "<table border=\"1\" class=\"dataframe\">\n",
       "  <thead>\n",
       "    <tr style=\"text-align: right;\">\n",
       "      <th></th>\n",
       "      <th>id</th>\n",
       "      <th>keyword</th>\n",
       "      <th>location</th>\n",
       "      <th>text</th>\n",
       "    </tr>\n",
       "  </thead>\n",
       "  <tbody>\n",
       "    <tr>\n",
       "      <th>0</th>\n",
       "      <td>0</td>\n",
       "      <td>NaN</td>\n",
       "      <td>NaN</td>\n",
       "      <td>Just happened a terrible car crash</td>\n",
       "    </tr>\n",
       "    <tr>\n",
       "      <th>1</th>\n",
       "      <td>2</td>\n",
       "      <td>NaN</td>\n",
       "      <td>NaN</td>\n",
       "      <td>Heard about #earthquake is different cities, s...</td>\n",
       "    </tr>\n",
       "    <tr>\n",
       "      <th>2</th>\n",
       "      <td>3</td>\n",
       "      <td>NaN</td>\n",
       "      <td>NaN</td>\n",
       "      <td>there is a forest fire at spot pond, geese are...</td>\n",
       "    </tr>\n",
       "    <tr>\n",
       "      <th>3</th>\n",
       "      <td>9</td>\n",
       "      <td>NaN</td>\n",
       "      <td>NaN</td>\n",
       "      <td>Apocalypse lighting. #Spokane #wildfires</td>\n",
       "    </tr>\n",
       "    <tr>\n",
       "      <th>4</th>\n",
       "      <td>11</td>\n",
       "      <td>NaN</td>\n",
       "      <td>NaN</td>\n",
       "      <td>Typhoon Soudelor kills 28 in China and Taiwan</td>\n",
       "    </tr>\n",
       "  </tbody>\n",
       "</table>\n",
       "</div>"
      ],
      "text/plain": [
       "   id keyword location                                               text\n",
       "0   0     NaN      NaN                 Just happened a terrible car crash\n",
       "1   2     NaN      NaN  Heard about #earthquake is different cities, s...\n",
       "2   3     NaN      NaN  there is a forest fire at spot pond, geese are...\n",
       "3   9     NaN      NaN           Apocalypse lighting. #Spokane #wildfires\n",
       "4  11     NaN      NaN      Typhoon Soudelor kills 28 in China and Taiwan"
      ]
     },
     "execution_count": 15,
     "metadata": {},
     "output_type": "execute_result"
    }
   ],
   "source": [
    "df_test = pd.read_csv('nlp-getting-started/test.csv')\n",
    "df_test.head()"
   ]
  },
  {
   "cell_type": "code",
   "execution_count": 16,
   "id": "325eeb64",
   "metadata": {},
   "outputs": [
    {
     "data": {
      "text/html": [
       "<div>\n",
       "<style scoped>\n",
       "    .dataframe tbody tr th:only-of-type {\n",
       "        vertical-align: middle;\n",
       "    }\n",
       "\n",
       "    .dataframe tbody tr th {\n",
       "        vertical-align: top;\n",
       "    }\n",
       "\n",
       "    .dataframe thead th {\n",
       "        text-align: right;\n",
       "    }\n",
       "</style>\n",
       "<table border=\"1\" class=\"dataframe\">\n",
       "  <thead>\n",
       "    <tr style=\"text-align: right;\">\n",
       "      <th></th>\n",
       "      <th>id</th>\n",
       "      <th>keyword</th>\n",
       "      <th>location</th>\n",
       "      <th>text</th>\n",
       "      <th>target</th>\n",
       "    </tr>\n",
       "  </thead>\n",
       "  <tbody>\n",
       "    <tr>\n",
       "      <th>0</th>\n",
       "      <td>1</td>\n",
       "      <td>NaN</td>\n",
       "      <td>NaN</td>\n",
       "      <td>Our Deeds are the Reason of this #earthquake M...</td>\n",
       "      <td>1</td>\n",
       "    </tr>\n",
       "    <tr>\n",
       "      <th>1</th>\n",
       "      <td>4</td>\n",
       "      <td>NaN</td>\n",
       "      <td>NaN</td>\n",
       "      <td>Forest fire near La Ronge Sask. Canada</td>\n",
       "      <td>1</td>\n",
       "    </tr>\n",
       "    <tr>\n",
       "      <th>2</th>\n",
       "      <td>5</td>\n",
       "      <td>NaN</td>\n",
       "      <td>NaN</td>\n",
       "      <td>All residents asked to 'shelter in place' are ...</td>\n",
       "      <td>1</td>\n",
       "    </tr>\n",
       "    <tr>\n",
       "      <th>3</th>\n",
       "      <td>6</td>\n",
       "      <td>NaN</td>\n",
       "      <td>NaN</td>\n",
       "      <td>13,000 people receive #wildfires evacuation or...</td>\n",
       "      <td>1</td>\n",
       "    </tr>\n",
       "    <tr>\n",
       "      <th>4</th>\n",
       "      <td>7</td>\n",
       "      <td>NaN</td>\n",
       "      <td>NaN</td>\n",
       "      <td>Just got sent this photo from Ruby #Alaska as ...</td>\n",
       "      <td>1</td>\n",
       "    </tr>\n",
       "  </tbody>\n",
       "</table>\n",
       "</div>"
      ],
      "text/plain": [
       "   id keyword location                                               text  \\\n",
       "0   1     NaN      NaN  Our Deeds are the Reason of this #earthquake M...   \n",
       "1   4     NaN      NaN             Forest fire near La Ronge Sask. Canada   \n",
       "2   5     NaN      NaN  All residents asked to 'shelter in place' are ...   \n",
       "3   6     NaN      NaN  13,000 people receive #wildfires evacuation or...   \n",
       "4   7     NaN      NaN  Just got sent this photo from Ruby #Alaska as ...   \n",
       "\n",
       "   target  \n",
       "0       1  \n",
       "1       1  \n",
       "2       1  \n",
       "3       1  \n",
       "4       1  "
      ]
     },
     "execution_count": 16,
     "metadata": {},
     "output_type": "execute_result"
    }
   ],
   "source": [
    "df = pd.read_csv('nlp-getting-started/train.csv')\n",
    "df.head()"
   ]
  },
  {
   "cell_type": "code",
   "execution_count": 17,
   "id": "2384f18e",
   "metadata": {},
   "outputs": [
    {
     "data": {
      "text/plain": [
       "(7613, 5)"
      ]
     },
     "execution_count": 17,
     "metadata": {},
     "output_type": "execute_result"
    }
   ],
   "source": [
    "df.shape"
   ]
  },
  {
   "cell_type": "code",
   "execution_count": 18,
   "id": "ab10e5c9",
   "metadata": {},
   "outputs": [
    {
     "name": "stdout",
     "output_type": "stream",
     "text": [
      "There are 3 categorical variables\n",
      "\n",
      "The categorical variables are : ['keyword', 'location', 'text']\n"
     ]
    }
   ],
   "source": [
    "categorical = [var for var in df.columns if df[var].dtype in ['object', 'category', 'string']]\n",
    "print('There are {} categorical variables\\n'.format(len(categorical)))\n",
    "print('The categorical variables are :', categorical)"
   ]
  },
  {
   "cell_type": "code",
   "execution_count": 19,
   "id": "e1cd79c8",
   "metadata": {},
   "outputs": [
    {
     "data": {
      "text/html": [
       "<div>\n",
       "<style scoped>\n",
       "    .dataframe tbody tr th:only-of-type {\n",
       "        vertical-align: middle;\n",
       "    }\n",
       "\n",
       "    .dataframe tbody tr th {\n",
       "        vertical-align: top;\n",
       "    }\n",
       "\n",
       "    .dataframe thead th {\n",
       "        text-align: right;\n",
       "    }\n",
       "</style>\n",
       "<table border=\"1\" class=\"dataframe\">\n",
       "  <thead>\n",
       "    <tr style=\"text-align: right;\">\n",
       "      <th></th>\n",
       "      <th>keyword</th>\n",
       "      <th>location</th>\n",
       "      <th>text</th>\n",
       "    </tr>\n",
       "  </thead>\n",
       "  <tbody>\n",
       "    <tr>\n",
       "      <th>0</th>\n",
       "      <td>NaN</td>\n",
       "      <td>NaN</td>\n",
       "      <td>Our Deeds are the Reason of this #earthquake M...</td>\n",
       "    </tr>\n",
       "    <tr>\n",
       "      <th>1</th>\n",
       "      <td>NaN</td>\n",
       "      <td>NaN</td>\n",
       "      <td>Forest fire near La Ronge Sask. Canada</td>\n",
       "    </tr>\n",
       "    <tr>\n",
       "      <th>2</th>\n",
       "      <td>NaN</td>\n",
       "      <td>NaN</td>\n",
       "      <td>All residents asked to 'shelter in place' are ...</td>\n",
       "    </tr>\n",
       "    <tr>\n",
       "      <th>3</th>\n",
       "      <td>NaN</td>\n",
       "      <td>NaN</td>\n",
       "      <td>13,000 people receive #wildfires evacuation or...</td>\n",
       "    </tr>\n",
       "    <tr>\n",
       "      <th>4</th>\n",
       "      <td>NaN</td>\n",
       "      <td>NaN</td>\n",
       "      <td>Just got sent this photo from Ruby #Alaska as ...</td>\n",
       "    </tr>\n",
       "  </tbody>\n",
       "</table>\n",
       "</div>"
      ],
      "text/plain": [
       "  keyword location                                               text\n",
       "0     NaN      NaN  Our Deeds are the Reason of this #earthquake M...\n",
       "1     NaN      NaN             Forest fire near La Ronge Sask. Canada\n",
       "2     NaN      NaN  All residents asked to 'shelter in place' are ...\n",
       "3     NaN      NaN  13,000 people receive #wildfires evacuation or...\n",
       "4     NaN      NaN  Just got sent this photo from Ruby #Alaska as ..."
      ]
     },
     "execution_count": 19,
     "metadata": {},
     "output_type": "execute_result"
    }
   ],
   "source": [
    "df[categorical].head()"
   ]
  },
  {
   "cell_type": "code",
   "execution_count": 20,
   "id": "bc8cc8c9",
   "metadata": {},
   "outputs": [
    {
     "data": {
      "text/plain": [
       "fatalities               45\n",
       "deluge                   42\n",
       "armageddon               42\n",
       "sinking                  41\n",
       "damage                   41\n",
       "                         ..\n",
       "forest%20fire            19\n",
       "epicentre                12\n",
       "threat                   11\n",
       "inundation               10\n",
       "radiation%20emergency     9\n",
       "Name: keyword, Length: 221, dtype: int64"
      ]
     },
     "execution_count": 20,
     "metadata": {},
     "output_type": "execute_result"
    }
   ],
   "source": [
    "df.keyword.value_counts()"
   ]
  },
  {
   "cell_type": "code",
   "execution_count": 21,
   "id": "d8a3b77f",
   "metadata": {},
   "outputs": [
    {
     "data": {
      "text/plain": [
       "USA                    104\n",
       "New York                71\n",
       "United States           50\n",
       "London                  45\n",
       "Canada                  29\n",
       "                      ... \n",
       "MontrÌ©al, QuÌ©bec       1\n",
       "Montreal                 1\n",
       "ÌÏT: 6.4682,3.18287      1\n",
       "Live4Heed??              1\n",
       "Lincoln                  1\n",
       "Name: location, Length: 3341, dtype: int64"
      ]
     },
     "execution_count": 21,
     "metadata": {},
     "output_type": "execute_result"
    }
   ],
   "source": [
    "df.location.value_counts()"
   ]
  },
  {
   "cell_type": "markdown",
   "id": "d1adff20",
   "metadata": {},
   "source": [
    "### Null value Count"
   ]
  },
  {
   "cell_type": "code",
   "execution_count": 22,
   "id": "ee91c176",
   "metadata": {},
   "outputs": [
    {
     "data": {
      "text/plain": [
       "keyword       61\n",
       "location    2533\n",
       "text           0\n",
       "dtype: int64"
      ]
     },
     "execution_count": 22,
     "metadata": {},
     "output_type": "execute_result"
    }
   ],
   "source": [
    "df[categorical].isnull().sum()"
   ]
  },
  {
   "cell_type": "markdown",
   "id": "9352f7bf",
   "metadata": {},
   "source": [
    "### Frequency distribution of categorical variables"
   ]
  },
  {
   "cell_type": "code",
   "execution_count": 23,
   "id": "4d6e9749",
   "metadata": {},
   "outputs": [
    {
     "name": "stdout",
     "output_type": "stream",
     "text": [
      "fatalities               0.005911\n",
      "deluge                   0.005517\n",
      "armageddon               0.005517\n",
      "sinking                  0.005386\n",
      "damage                   0.005386\n",
      "                           ...   \n",
      "forest%20fire            0.002496\n",
      "epicentre                0.001576\n",
      "threat                   0.001445\n",
      "inundation               0.001314\n",
      "radiation%20emergency    0.001182\n",
      "Name: keyword, Length: 221, dtype: float64\n",
      "USA                    0.013661\n",
      "New York               0.009326\n",
      "United States          0.006568\n",
      "London                 0.005911\n",
      "Canada                 0.003809\n",
      "                         ...   \n",
      "MontrÌ©al, QuÌ©bec     0.000131\n",
      "Montreal               0.000131\n",
      "ÌÏT: 6.4682,3.18287    0.000131\n",
      "Live4Heed??            0.000131\n",
      "Lincoln                0.000131\n",
      "Name: location, Length: 3341, dtype: float64\n",
      "11-Year-Old Boy Charged With Manslaughter of Toddler: Report: An 11-year-old boy has been charged with manslaughter over the fatal sh...        0.001314\n",
      "He came to a land which was engulfed in tribal war and turned it into a land of peace i.e. Madinah. #ProphetMuhammad #islam                     0.000788\n",
      "The Prophet (peace be upon him) said 'Save yourself from Hellfire even if it is by giving half a date in charity.'                              0.000788\n",
      "#Bestnaijamade: 16yr old PKK suicide bomber who detonated bomb in ... http://t.co/KSAwlYuX02 bestnaijamade bestnaijamade bestnaijamade beÛ_    0.000788\n",
      "Madhya Pradesh Train Derailment: Village Youth Saved Many Lives                                                                                 0.000657\n",
      "                                                                                                                                                  ...   \n",
      "Escape The Heat (and the #ORShow) for a trail run on Desolation Loop you'll be glad you did http://t.co/n2ucNzh38P http://t.co/VU8fWYMw5r       0.000131\n",
      "Hey girl you must be Toe Hobbit: Part Two: ghe Desolation of Smaug because I'm not interested in seeing you. Sorry.                             0.000131\n",
      "Emotional Desolation the effect of alcoholism/addiction on family - http://t.co/31tGtLz3YA Forgiving is hard http://t.co/C7rcO2eMwF             0.000131\n",
      "Fotoset: elanorofrohan: 10th December 2013 Green Carpet in Zurich for the Swiss Premiere of The Desolation... http://t.co/BQ3P7n7w06            0.000131\n",
      "The Latest: More Homes Razed by Northern California Wildfire - ABC News http://t.co/YmY4rSkQ3d                                                  0.000131\n",
      "Name: text, Length: 7503, dtype: float64\n"
     ]
    },
    {
     "name": "stderr",
     "output_type": "stream",
     "text": [
      "/var/folders/3y/h66zz12x4p9_7hpzsntxf_6m0000gn/T/ipykernel_40625/2172132597.py:2: DeprecationWarning: `np.float` is a deprecated alias for the builtin `float`. To silence this warning, use `float` by itself. Doing this will not modify any behavior and is safe. If you specifically wanted the numpy scalar type, use `np.float64` here.\n",
      "Deprecated in NumPy 1.20; for more details and guidance: https://numpy.org/devdocs/release/1.20.0-notes.html#deprecations\n",
      "  print(df[var].value_counts()/np.float(len(df)))\n",
      "/var/folders/3y/h66zz12x4p9_7hpzsntxf_6m0000gn/T/ipykernel_40625/2172132597.py:2: DeprecationWarning: `np.float` is a deprecated alias for the builtin `float`. To silence this warning, use `float` by itself. Doing this will not modify any behavior and is safe. If you specifically wanted the numpy scalar type, use `np.float64` here.\n",
      "Deprecated in NumPy 1.20; for more details and guidance: https://numpy.org/devdocs/release/1.20.0-notes.html#deprecations\n",
      "  print(df[var].value_counts()/np.float(len(df)))\n",
      "/var/folders/3y/h66zz12x4p9_7hpzsntxf_6m0000gn/T/ipykernel_40625/2172132597.py:2: DeprecationWarning: `np.float` is a deprecated alias for the builtin `float`. To silence this warning, use `float` by itself. Doing this will not modify any behavior and is safe. If you specifically wanted the numpy scalar type, use `np.float64` here.\n",
      "Deprecated in NumPy 1.20; for more details and guidance: https://numpy.org/devdocs/release/1.20.0-notes.html#deprecations\n",
      "  print(df[var].value_counts()/np.float(len(df)))\n"
     ]
    }
   ],
   "source": [
    "for var in categorical: \n",
    "    print(df[var].value_counts()/np.float(len(df)))"
   ]
  },
  {
   "cell_type": "markdown",
   "id": "bdb26706",
   "metadata": {},
   "source": [
    "### Remove Duplicate tweets "
   ]
  },
  {
   "cell_type": "code",
   "execution_count": 25,
   "id": "3efed2a8",
   "metadata": {},
   "outputs": [
    {
     "data": {
      "text/plain": [
       "(179, 5)"
      ]
     },
     "execution_count": 25,
     "metadata": {},
     "output_type": "execute_result"
    }
   ],
   "source": [
    "#Find all the duplicated Tweets\n",
    "df_duplicated = df[df.duplicated([\"text\"], keep = False)] #179 rows\n",
    "df_duplicated.shape"
   ]
  },
  {
   "cell_type": "code",
   "execution_count": 26,
   "id": "040c815c",
   "metadata": {},
   "outputs": [
    {
     "data": {
      "text/plain": [
       "(7552, 5)"
      ]
     },
     "execution_count": 26,
     "metadata": {},
     "output_type": "execute_result"
    }
   ],
   "source": [
    "df = df.drop_duplicates(subset=['keyword','location','text'])\n",
    "df.shape"
   ]
  },
  {
   "cell_type": "markdown",
   "id": "efc42159",
   "metadata": {},
   "source": [
    "### Remove tweets labelled more then once "
   ]
  },
  {
   "cell_type": "code",
   "execution_count": 28,
   "id": "16aac04f",
   "metadata": {},
   "outputs": [
    {
     "data": {
      "text/html": [
       "<div>\n",
       "<style scoped>\n",
       "    .dataframe tbody tr th:only-of-type {\n",
       "        vertical-align: middle;\n",
       "    }\n",
       "\n",
       "    .dataframe tbody tr th {\n",
       "        vertical-align: top;\n",
       "    }\n",
       "\n",
       "    .dataframe thead th {\n",
       "        text-align: right;\n",
       "    }\n",
       "</style>\n",
       "<table border=\"1\" class=\"dataframe\">\n",
       "  <thead>\n",
       "    <tr style=\"text-align: right;\">\n",
       "      <th></th>\n",
       "      <th>id</th>\n",
       "      <th>keyword</th>\n",
       "      <th>location</th>\n",
       "      <th>text</th>\n",
       "      <th>target</th>\n",
       "    </tr>\n",
       "  </thead>\n",
       "  <tbody>\n",
       "    <tr>\n",
       "      <th>1197</th>\n",
       "      <td>1723</td>\n",
       "      <td>buildings%20burning</td>\n",
       "      <td>Mackay, QLD, Australia</td>\n",
       "      <td>Mmmmmm I'm burning.... I'm burning buildings I'm building.... Oooooohhhh oooh ooh...</td>\n",
       "      <td>1</td>\n",
       "    </tr>\n",
       "    <tr>\n",
       "      <th>1214</th>\n",
       "      <td>1752</td>\n",
       "      <td>buildings%20burning</td>\n",
       "      <td>Epic City, BB.</td>\n",
       "      <td>I Pledge Allegiance To The P.O.P.E. And The Burning Buildings of Epic City. ??????</td>\n",
       "      <td>0</td>\n",
       "    </tr>\n",
       "    <tr>\n",
       "      <th>1221</th>\n",
       "      <td>1760</td>\n",
       "      <td>buildings%20burning</td>\n",
       "      <td>dallas</td>\n",
       "      <td>like for the music video I want some real action shit like burning buildings and police chases not some weak ben winston shit</td>\n",
       "      <td>1</td>\n",
       "    </tr>\n",
       "    <tr>\n",
       "      <th>1331</th>\n",
       "      <td>1922</td>\n",
       "      <td>burning%20buildings</td>\n",
       "      <td>Mackay, QLD, Australia</td>\n",
       "      <td>Mmmmmm I'm burning.... I'm burning buildings I'm building.... Oooooohhhh oooh ooh...</td>\n",
       "      <td>0</td>\n",
       "    </tr>\n",
       "    <tr>\n",
       "      <th>1349</th>\n",
       "      <td>1950</td>\n",
       "      <td>burning%20buildings</td>\n",
       "      <td>dallas</td>\n",
       "      <td>like for the music video I want some real action shit like burning buildings and police chases not some weak ben winston shit</td>\n",
       "      <td>0</td>\n",
       "    </tr>\n",
       "    <tr>\n",
       "      <th>1365</th>\n",
       "      <td>1968</td>\n",
       "      <td>burning%20buildings</td>\n",
       "      <td>Epic City, BB.</td>\n",
       "      <td>I Pledge Allegiance To The P.O.P.E. And The Burning Buildings of Epic City. ??????</td>\n",
       "      <td>1</td>\n",
       "    </tr>\n",
       "    <tr>\n",
       "      <th>3240</th>\n",
       "      <td>4656</td>\n",
       "      <td>engulfed</td>\n",
       "      <td>NaN</td>\n",
       "      <td>He came to a land which was engulfed in tribal war and turned it into a land of peace i.e. Madinah. #ProphetMuhammad #islam</td>\n",
       "      <td>0</td>\n",
       "    </tr>\n",
       "    <tr>\n",
       "      <th>3243</th>\n",
       "      <td>4659</td>\n",
       "      <td>engulfed</td>\n",
       "      <td>Kuwait</td>\n",
       "      <td>He came to a land which was engulfed in tribal war and turned it into a land of peace i.e. Madinah. #ProphetMuhammad #islam</td>\n",
       "      <td>1</td>\n",
       "    </tr>\n",
       "    <tr>\n",
       "      <th>3248</th>\n",
       "      <td>4669</td>\n",
       "      <td>engulfed</td>\n",
       "      <td>Bahrain</td>\n",
       "      <td>He came to a land which was engulfed in tribal war and turned it into a land of peace i.e. Madinah. #ProphetMuhammad #islam</td>\n",
       "      <td>1</td>\n",
       "    </tr>\n",
       "    <tr>\n",
       "      <th>4221</th>\n",
       "      <td>5996</td>\n",
       "      <td>hazardous</td>\n",
       "      <td>NaN</td>\n",
       "      <td>#foodscare #offers2go #NestleIndia slips into loss after #Magginoodle #ban unsafe and hazardous for #humanconsumption</td>\n",
       "      <td>1</td>\n",
       "    </tr>\n",
       "    <tr>\n",
       "      <th>4239</th>\n",
       "      <td>6023</td>\n",
       "      <td>hazardous</td>\n",
       "      <td>Mysore, Karnataka</td>\n",
       "      <td>#foodscare #offers2go #NestleIndia slips into loss after #Magginoodle #ban unsafe and hazardous for #humanconsumption</td>\n",
       "      <td>1</td>\n",
       "    </tr>\n",
       "    <tr>\n",
       "      <th>4244</th>\n",
       "      <td>6031</td>\n",
       "      <td>hazardous</td>\n",
       "      <td>New Delhi, Delhi</td>\n",
       "      <td>#foodscare #offers2go #NestleIndia slips into loss after #Magginoodle #ban unsafe and hazardous for #humanconsumption</td>\n",
       "      <td>0</td>\n",
       "    </tr>\n",
       "    <tr>\n",
       "      <th>4290</th>\n",
       "      <td>6094</td>\n",
       "      <td>hellfire</td>\n",
       "      <td>Jubail IC, Saudi Arabia.</td>\n",
       "      <td>#Allah describes piling up #wealth thinking it would last #forever as the description of the people of #Hellfire in Surah Humaza. #Reflect</td>\n",
       "      <td>0</td>\n",
       "    </tr>\n",
       "    <tr>\n",
       "      <th>4299</th>\n",
       "      <td>6105</td>\n",
       "      <td>hellfire</td>\n",
       "      <td>?????? ??? ?????? ????????</td>\n",
       "      <td>#Allah describes piling up #wealth thinking it would last #forever as the description of the people of #Hellfire in Surah Humaza. #Reflect</td>\n",
       "      <td>0</td>\n",
       "    </tr>\n",
       "    <tr>\n",
       "      <th>4306</th>\n",
       "      <td>6113</td>\n",
       "      <td>hellfire</td>\n",
       "      <td>NaN</td>\n",
       "      <td>Hellfire! We donÛªt even want to think about it or mention it so letÛªs not do anything that leads to it #islam!</td>\n",
       "      <td>0</td>\n",
       "    </tr>\n",
       "    <tr>\n",
       "      <th>4312</th>\n",
       "      <td>6123</td>\n",
       "      <td>hellfire</td>\n",
       "      <td>?????? ???? ??????</td>\n",
       "      <td>#Allah describes piling up #wealth thinking it would last #forever as the description of the people of #Hellfire in Surah Humaza. #Reflect</td>\n",
       "      <td>1</td>\n",
       "    </tr>\n",
       "    <tr>\n",
       "      <th>4320</th>\n",
       "      <td>6134</td>\n",
       "      <td>hellfire</td>\n",
       "      <td>Riyadh ')</td>\n",
       "      <td>Hellfire! We donÛªt even want to think about it or mention it so letÛªs not do anything that leads to it #islam!</td>\n",
       "      <td>1</td>\n",
       "    </tr>\n",
       "    <tr>\n",
       "      <th>6091</th>\n",
       "      <td>8698</td>\n",
       "      <td>sinking</td>\n",
       "      <td>Every Where in the World</td>\n",
       "      <td>that horrible sinking feeling when youÛªve been at home on your phone for a while and you realise its been on 3G this whole time</td>\n",
       "      <td>1</td>\n",
       "    </tr>\n",
       "    <tr>\n",
       "      <th>6094</th>\n",
       "      <td>8702</td>\n",
       "      <td>sinking</td>\n",
       "      <td>NaN</td>\n",
       "      <td>that horrible sinking feeling when youÛªve been at home on your phone for a while and you realise its been on 3G this whole time</td>\n",
       "      <td>0</td>\n",
       "    </tr>\n",
       "    <tr>\n",
       "      <th>6123</th>\n",
       "      <td>8739</td>\n",
       "      <td>sinking</td>\n",
       "      <td>MA</td>\n",
       "      <td>that horrible sinking feeling when youÛªve been at home on your phone for a while and you realise its been on 3G this whole time</td>\n",
       "      <td>1</td>\n",
       "    </tr>\n",
       "  </tbody>\n",
       "</table>\n",
       "</div>"
      ],
      "text/plain": [
       "        id              keyword                    location  \\\n",
       "1197  1723  buildings%20burning      Mackay, QLD, Australia   \n",
       "1214  1752  buildings%20burning              Epic City, BB.   \n",
       "1221  1760  buildings%20burning                      dallas   \n",
       "1331  1922  burning%20buildings      Mackay, QLD, Australia   \n",
       "1349  1950  burning%20buildings                      dallas   \n",
       "1365  1968  burning%20buildings              Epic City, BB.   \n",
       "3240  4656             engulfed                         NaN   \n",
       "3243  4659             engulfed                     Kuwait    \n",
       "3248  4669             engulfed                     Bahrain   \n",
       "4221  5996            hazardous                         NaN   \n",
       "4239  6023            hazardous           Mysore, Karnataka   \n",
       "4244  6031            hazardous            New Delhi, Delhi   \n",
       "4290  6094             hellfire    Jubail IC, Saudi Arabia.   \n",
       "4299  6105             hellfire  ?????? ??? ?????? ????????   \n",
       "4306  6113             hellfire                         NaN   \n",
       "4312  6123             hellfire          ?????? ???? ??????   \n",
       "4320  6134             hellfire                   Riyadh ')   \n",
       "6091  8698              sinking    Every Where in the World   \n",
       "6094  8702              sinking                         NaN   \n",
       "6123  8739              sinking                          MA   \n",
       "\n",
       "                                                                                                                                            text  \\\n",
       "1197                                                        Mmmmmm I'm burning.... I'm burning buildings I'm building.... Oooooohhhh oooh ooh...   \n",
       "1214                                                          I Pledge Allegiance To The P.O.P.E. And The Burning Buildings of Epic City. ??????   \n",
       "1221               like for the music video I want some real action shit like burning buildings and police chases not some weak ben winston shit   \n",
       "1331                                                        Mmmmmm I'm burning.... I'm burning buildings I'm building.... Oooooohhhh oooh ooh...   \n",
       "1349               like for the music video I want some real action shit like burning buildings and police chases not some weak ben winston shit   \n",
       "1365                                                          I Pledge Allegiance To The P.O.P.E. And The Burning Buildings of Epic City. ??????   \n",
       "3240                 He came to a land which was engulfed in tribal war and turned it into a land of peace i.e. Madinah. #ProphetMuhammad #islam   \n",
       "3243                 He came to a land which was engulfed in tribal war and turned it into a land of peace i.e. Madinah. #ProphetMuhammad #islam   \n",
       "3248                 He came to a land which was engulfed in tribal war and turned it into a land of peace i.e. Madinah. #ProphetMuhammad #islam   \n",
       "4221                       #foodscare #offers2go #NestleIndia slips into loss after #Magginoodle #ban unsafe and hazardous for #humanconsumption   \n",
       "4239                       #foodscare #offers2go #NestleIndia slips into loss after #Magginoodle #ban unsafe and hazardous for #humanconsumption   \n",
       "4244                       #foodscare #offers2go #NestleIndia slips into loss after #Magginoodle #ban unsafe and hazardous for #humanconsumption   \n",
       "4290  #Allah describes piling up #wealth thinking it would last #forever as the description of the people of #Hellfire in Surah Humaza. #Reflect   \n",
       "4299  #Allah describes piling up #wealth thinking it would last #forever as the description of the people of #Hellfire in Surah Humaza. #Reflect   \n",
       "4306                          Hellfire! We donÛªt even want to think about it or mention it so letÛªs not do anything that leads to it #islam!   \n",
       "4312  #Allah describes piling up #wealth thinking it would last #forever as the description of the people of #Hellfire in Surah Humaza. #Reflect   \n",
       "4320                          Hellfire! We donÛªt even want to think about it or mention it so letÛªs not do anything that leads to it #islam!   \n",
       "6091           that horrible sinking feeling when youÛªve been at home on your phone for a while and you realise its been on 3G this whole time   \n",
       "6094           that horrible sinking feeling when youÛªve been at home on your phone for a while and you realise its been on 3G this whole time   \n",
       "6123           that horrible sinking feeling when youÛªve been at home on your phone for a while and you realise its been on 3G this whole time   \n",
       "\n",
       "      target  \n",
       "1197       1  \n",
       "1214       0  \n",
       "1221       1  \n",
       "1331       0  \n",
       "1349       0  \n",
       "1365       1  \n",
       "3240       0  \n",
       "3243       1  \n",
       "3248       1  \n",
       "4221       1  \n",
       "4239       1  \n",
       "4244       0  \n",
       "4290       0  \n",
       "4299       0  \n",
       "4306       0  \n",
       "4312       1  \n",
       "4320       1  \n",
       "6091       1  \n",
       "6094       0  \n",
       "6123       1  "
      ]
     },
     "execution_count": 28,
     "metadata": {},
     "output_type": "execute_result"
    }
   ],
   "source": [
    "#Find all the tweets that have been labeled more than once\n",
    "pd.set_option('display.max_colwidth', None) #to display the whole text\n",
    "df_errors = df.groupby('text').filter(lambda x: x['target'].nunique() > 1, display)\n",
    "df_errors.head(20)"
   ]
  },
  {
   "cell_type": "code",
   "execution_count": 29,
   "id": "a19bf51c",
   "metadata": {},
   "outputs": [
    {
     "data": {
      "text/plain": [
       "(22, 5)"
      ]
     },
     "execution_count": 29,
     "metadata": {},
     "output_type": "execute_result"
    }
   ],
   "source": [
    "df_errors.shape"
   ]
  },
  {
   "cell_type": "code",
   "execution_count": 30,
   "id": "a0ee95d0",
   "metadata": {},
   "outputs": [],
   "source": [
    "# remove the errors from the training dataset \n",
    "df = df[~df.id.isin(df_errors.id)]"
   ]
  },
  {
   "cell_type": "code",
   "execution_count": 31,
   "id": "b598ccf7",
   "metadata": {},
   "outputs": [
    {
     "data": {
      "text/plain": [
       "(7530, 5)"
      ]
     },
     "execution_count": 31,
     "metadata": {},
     "output_type": "execute_result"
    }
   ],
   "source": [
    "df.shape"
   ]
  },
  {
   "cell_type": "code",
   "execution_count": 34,
   "id": "600af4c6",
   "metadata": {},
   "outputs": [
    {
     "data": {
      "text/plain": [
       "keyword       61\n",
       "location    2489\n",
       "text           0\n",
       "dtype: int64"
      ]
     },
     "execution_count": 34,
     "metadata": {},
     "output_type": "execute_result"
    }
   ],
   "source": [
    "df[categorical].isnull().sum()"
   ]
  },
  {
   "cell_type": "markdown",
   "id": "0f5f075d",
   "metadata": {},
   "source": [
    "# Text Processing "
   ]
  },
  {
   "cell_type": "markdown",
   "id": "24edd644",
   "metadata": {},
   "source": [
    "### The text preprocessing steps followed in this project are:\n",
    "\n",
    "- Tokenization\n",
    "- Lower casing\n",
    "- Stop words removal\n",
    "- Filling Missing Data by Keyword Extraction and Entity Recognition\n",
    "- Entities, URL Links and Punctuation Removal\n",
    "- Spelling Correction\n",
    "- Lemmatization"
   ]
  },
  {
   "cell_type": "code",
   "execution_count": 35,
   "id": "128534af",
   "metadata": {},
   "outputs": [],
   "source": [
    "# initialise the stop words\n",
    "# downloaded from https://github.com/igorbrigadir/stopwords/blob/master/en/terrier.txt \n",
    "# alternatively can use nltk.download(\"stopwords\")\n",
    "with open('helper/stopwords.txt') as f:\n",
    "    stopwords = f.read().splitlines()\n",
    "\n",
    "stop_words = set(stopwords) "
   ]
  },
  {
   "cell_type": "markdown",
   "id": "3da338bc",
   "metadata": {},
   "source": [
    "### Lemmatization with NLTK\n",
    "\n",
    "Lemmatization is the process of grouping together the different inflected forms of a word so they can be analyzed as a single item.\n",
    "Examples of lemmatization:\n",
    "\n",
    "- rocks -> rock\n",
    "- corpora -> corpus\n",
    "- better -> good"
   ]
  },
  {
   "cell_type": "code",
   "execution_count": 49,
   "id": "e3cc4cb9",
   "metadata": {},
   "outputs": [
    {
     "name": "stderr",
     "output_type": "stream",
     "text": [
      "[nltk_data] Downloading package wordnet to /Users/sridevi/nltk_data...\n",
      "[nltk_data]   Package wordnet is already up-to-date!\n",
      "[nltk_data] Downloading package omw-1.4 to /Users/sridevi/nltk_data...\n",
      "[nltk_data]   Package omw-1.4 is already up-to-date!\n",
      "[nltk_data] Downloading package punkt to /Users/sridevi/nltk_data...\n",
      "[nltk_data]   Package punkt is already up-to-date!\n",
      "[nltk_data] Downloading package stopwords to\n",
      "[nltk_data]     /Users/sridevi/nltk_data...\n",
      "[nltk_data]   Package stopwords is already up-to-date!\n"
     ]
    },
    {
     "data": {
      "text/plain": [
       "True"
      ]
     },
     "execution_count": 49,
     "metadata": {},
     "output_type": "execute_result"
    }
   ],
   "source": [
    "import nltk\n",
    "from builtins import str\n",
    "from nltk.tokenize import word_tokenize\n",
    "from nltk.corpus import stopwords\n",
    "import emoji\n",
    "from spellchecker import SpellChecker\n",
    "import urllib.parse\n",
    "import re\n",
    "from nltk.stem import WordNetLemmatizer\n",
    "nltk.download('wordnet')\n",
    "nltk.download('omw-1.4')\n",
    "nltk.download('punkt')\n",
    "nltk.download(\"stopwords\")"
   ]
  },
  {
   "cell_type": "code",
   "execution_count": 50,
   "id": "66fccedb",
   "metadata": {},
   "outputs": [
    {
     "name": "stdout",
     "output_type": "stream",
     "text": [
      "rocks : rock\n",
      "corpora : corpus\n",
      "better : good\n"
     ]
    }
   ],
   "source": [
    "# initialise the Lemmatizer\n",
    "lemmatizer = WordNetLemmatizer()\n",
    "print(\"rocks :\", lemmatizer.lemmatize(\"rocks\"))\n",
    "print(\"corpora :\", lemmatizer.lemmatize(\"corpora\"))\n",
    "print(\"better :\", lemmatizer.lemmatize(\"better\", pos =\"a\"))"
   ]
  },
  {
   "cell_type": "code",
   "execution_count": 51,
   "id": "44d1d331",
   "metadata": {},
   "outputs": [
    {
     "name": "stdout",
     "output_type": "stream",
     "text": [
      "check amazing website\n",
      "goooooooaaaaaal\n"
     ]
    }
   ],
   "source": [
    "# make sure some words are not flagged as misspelled\n",
    "spell = SpellChecker()\n",
    "spell.word_frequency.load_words(['aftershock'])\n",
    "\n",
    "def preprocess_text(text, ignorespelling):\n",
    "    # Check if the input is a string\n",
    "    if not isinstance(text, str):\n",
    "        # Return non-string input as-is or convert to string\n",
    "        return str(text) if text is not None else ''\n",
    "    # Unquote words \n",
    "    text = urllib.parse.unquote(text)\n",
    "    text = text.replace(\"20\",\" \")\n",
    "    # Remove URLs\n",
    "    text = re.sub(r'http\\S+', '', text)\n",
    "    # Remove user mentions\n",
    "    text = re.sub(r\"@\\S+\", \"\", text)\n",
    "    # Remove hashtags\n",
    "    text = re.sub(r\"#\\S+\", \"\", text)\n",
    "    # Remove punctuation\n",
    "    text = re.sub(f\"[{string.punctuation}]\", \"\", text)\n",
    "    # Remove emojis\n",
    "    text = emoji.emojize(text, variant='emoji_type')\n",
    "    # Lowercase the text\n",
    "    text = text.lower()\n",
    "    # Tokenize the text\n",
    "    words = word_tokenize(text)\n",
    "    # Remove stop words\n",
    "    words = [w for w in words if w not in stop_words]\n",
    "    # fix the spelling \n",
    "    if(ignorespelling == False):\n",
    "        prevwords = words.copy()\n",
    "        words[:] = [spell.correction(w) for w in words]\n",
    "        # if words return a list with [None] after spell check then revert to the old list \n",
    "        for w in words:\n",
    "            if w == None:\n",
    "                words = prevwords   \n",
    "                break;\n",
    "    # Join the tokens back together\n",
    "    return ' '.join(words)\n",
    "\n",
    "string_with_url = \"Chek out this;,, amzing:: website: https://www.example.com! #AwesomeContent @username\"\n",
    "string_with_no_words = \"goooooooaaaaaal\"\n",
    "\n",
    "print(preprocess_text(string_with_url, False))\n",
    "print(preprocess_text(string_with_no_words, False))"
   ]
  },
  {
   "cell_type": "code",
   "execution_count": 52,
   "id": "60cc063d",
   "metadata": {},
   "outputs": [],
   "source": [
    "# note this code snippet takes a while to complete \n",
    "\n",
    "for var in categorical: \n",
    "    if var == \"location\":\n",
    "        df[var] = df[var].apply(lambda x: preprocess_text(x, True) if pd.isna(x)!= True else x)\n",
    "    else:\n",
    "        df[var] = df[var].apply(lambda x: preprocess_text(x, False) if pd.isna(x)!= True else x)\n"
   ]
  },
  {
   "cell_type": "code",
   "execution_count": 53,
   "id": "c49d8d23",
   "metadata": {},
   "outputs": [],
   "source": [
    "#storing the results in a CSV file for futher processing since the the Text processing step takes a long time\n",
    "df.to_csv('nlp-getting-started/train_with_text_processed.csv',index=False)"
   ]
  },
  {
   "cell_type": "code",
   "execution_count": 54,
   "id": "7050738b",
   "metadata": {},
   "outputs": [
    {
     "data": {
      "text/html": [
       "<div>\n",
       "<style scoped>\n",
       "    .dataframe tbody tr th:only-of-type {\n",
       "        vertical-align: middle;\n",
       "    }\n",
       "\n",
       "    .dataframe tbody tr th {\n",
       "        vertical-align: top;\n",
       "    }\n",
       "\n",
       "    .dataframe thead th {\n",
       "        text-align: right;\n",
       "    }\n",
       "</style>\n",
       "<table border=\"1\" class=\"dataframe\">\n",
       "  <thead>\n",
       "    <tr style=\"text-align: right;\">\n",
       "      <th></th>\n",
       "      <th>id</th>\n",
       "      <th>keyword</th>\n",
       "      <th>location</th>\n",
       "      <th>text</th>\n",
       "      <th>target</th>\n",
       "    </tr>\n",
       "  </thead>\n",
       "  <tbody>\n",
       "    <tr>\n",
       "      <th>0</th>\n",
       "      <td>1</td>\n",
       "      <td>NaN</td>\n",
       "      <td>NaN</td>\n",
       "      <td>deeds reason may allah forgive</td>\n",
       "      <td>1</td>\n",
       "    </tr>\n",
       "    <tr>\n",
       "      <th>1</th>\n",
       "      <td>4</td>\n",
       "      <td>NaN</td>\n",
       "      <td>NaN</td>\n",
       "      <td>forest fire near la range ask canada</td>\n",
       "      <td>1</td>\n",
       "    </tr>\n",
       "    <tr>\n",
       "      <th>2</th>\n",
       "      <td>5</td>\n",
       "      <td>NaN</td>\n",
       "      <td>NaN</td>\n",
       "      <td>residents asked shelter place being notified officers evacuation shelter place orders expected</td>\n",
       "      <td>1</td>\n",
       "    </tr>\n",
       "    <tr>\n",
       "      <th>3</th>\n",
       "      <td>6</td>\n",
       "      <td>NaN</td>\n",
       "      <td>NaN</td>\n",
       "      <td>13000 people receive evacuation orders california</td>\n",
       "      <td>1</td>\n",
       "    </tr>\n",
       "    <tr>\n",
       "      <th>4</th>\n",
       "      <td>7</td>\n",
       "      <td>NaN</td>\n",
       "      <td>NaN</td>\n",
       "      <td>just photo ruby smoke pours school</td>\n",
       "      <td>1</td>\n",
       "    </tr>\n",
       "  </tbody>\n",
       "</table>\n",
       "</div>"
      ],
      "text/plain": [
       "   id keyword location  \\\n",
       "0   1     NaN      NaN   \n",
       "1   4     NaN      NaN   \n",
       "2   5     NaN      NaN   \n",
       "3   6     NaN      NaN   \n",
       "4   7     NaN      NaN   \n",
       "\n",
       "                                                                                             text  \\\n",
       "0                                                                  deeds reason may allah forgive   \n",
       "1                                                            forest fire near la range ask canada   \n",
       "2  residents asked shelter place being notified officers evacuation shelter place orders expected   \n",
       "3                                               13000 people receive evacuation orders california   \n",
       "4                                                              just photo ruby smoke pours school   \n",
       "\n",
       "   target  \n",
       "0       1  \n",
       "1       1  \n",
       "2       1  \n",
       "3       1  \n",
       "4       1  "
      ]
     },
     "execution_count": 54,
     "metadata": {},
     "output_type": "execute_result"
    }
   ],
   "source": [
    "df.head()"
   ]
  },
  {
   "cell_type": "code",
   "execution_count": 55,
   "id": "33590165",
   "metadata": {},
   "outputs": [
    {
     "data": {
      "text/plain": [
       "keyword       61\n",
       "location    2489\n",
       "text           0\n",
       "dtype: int64"
      ]
     },
     "execution_count": 55,
     "metadata": {},
     "output_type": "execute_result"
    }
   ],
   "source": [
    "df[categorical].isnull().sum()"
   ]
  },
  {
   "cell_type": "code",
   "execution_count": 56,
   "id": "0a7bca7b",
   "metadata": {},
   "outputs": [
    {
     "name": "stdout",
     "output_type": "stream",
     "text": [
      "fatalities             0.005976\n",
      "deluge                 0.005578\n",
      "armageddon             0.005578\n",
      "damage                 0.005445\n",
      "body bags              0.005445\n",
      "                         ...   \n",
      "forest fire            0.002523\n",
      "epicentre              0.001594\n",
      "threat                 0.001461\n",
      "foundation             0.001328\n",
      "radiation emergency    0.001195\n",
      "Name: keyword, Length: 221, dtype: float64\n"
     ]
    },
    {
     "name": "stderr",
     "output_type": "stream",
     "text": [
      "/var/folders/3y/h66zz12x4p9_7hpzsntxf_6m0000gn/T/ipykernel_40625/817671917.py:1: DeprecationWarning: `np.float` is a deprecated alias for the builtin `float`. To silence this warning, use `float` by itself. Doing this will not modify any behavior and is safe. If you specifically wanted the numpy scalar type, use `np.float64` here.\n",
      "Deprecated in NumPy 1.20; for more details and guidance: https://numpy.org/devdocs/release/1.20.0-notes.html#deprecations\n",
      "  print(df['keyword'].value_counts()/np.float(len(df)))\n"
     ]
    }
   ],
   "source": [
    "print(df['keyword'].value_counts()/np.float(len(df)))"
   ]
  },
  {
   "cell_type": "code",
   "execution_count": null,
   "id": "fe44a69e",
   "metadata": {},
   "outputs": [],
   "source": [
    "df2 = pd.read_csv('nlp-getting-started/train_with_text_processed.csv')\n",
    "df2.head()"
   ]
  },
  {
   "cell_type": "markdown",
   "id": "21e77685",
   "metadata": {},
   "source": [
    "# Filling missing Data \n",
    "\n",
    "There are missing data in both training and test dataset. \n",
    "Example in the training data following is the null value count \n",
    "- keyword       61\n",
    "- location    2533\n",
    "- text           0"
   ]
  },
  {
   "cell_type": "markdown",
   "id": "dd8d3c68",
   "metadata": {},
   "source": [
    "### Keyword Cloud "
   ]
  },
  {
   "cell_type": "code",
   "execution_count": 130,
   "id": "153445c4",
   "metadata": {},
   "outputs": [
    {
     "name": "stdout",
     "output_type": "stream",
     "text": [
      "Collecting wordcloud\n",
      "  Downloading wordcloud-1.9.3-cp310-cp310-macosx_10_9_x86_64.whl (172 kB)\n",
      "\u001b[2K     \u001b[90m━━━━━━━━━━━━━━━━━━━━━━━━━━━━━━━━━━━━━━━\u001b[0m \u001b[32m172.6/172.6 kB\u001b[0m \u001b[31m2.7 MB/s\u001b[0m eta \u001b[36m0:00:00\u001b[0ma \u001b[36m0:00:01\u001b[0m\n",
      "\u001b[?25hRequirement already satisfied: numpy>=1.6.1 in /Users/sridevi/anaconda3/lib/python3.10/site-packages (from wordcloud) (1.23.5)\n",
      "Requirement already satisfied: pillow in /Users/sridevi/anaconda3/lib/python3.10/site-packages (from wordcloud) (9.4.0)\n",
      "Requirement already satisfied: matplotlib in /Users/sridevi/anaconda3/lib/python3.10/site-packages (from wordcloud) (3.7.0)\n",
      "Requirement already satisfied: packaging>=20.0 in /Users/sridevi/anaconda3/lib/python3.10/site-packages (from matplotlib->wordcloud) (22.0)\n",
      "Requirement already satisfied: contourpy>=1.0.1 in /Users/sridevi/anaconda3/lib/python3.10/site-packages (from matplotlib->wordcloud) (1.0.5)\n",
      "Requirement already satisfied: cycler>=0.10 in /Users/sridevi/anaconda3/lib/python3.10/site-packages (from matplotlib->wordcloud) (0.11.0)\n",
      "Requirement already satisfied: fonttools>=4.22.0 in /Users/sridevi/anaconda3/lib/python3.10/site-packages (from matplotlib->wordcloud) (4.25.0)\n",
      "Requirement already satisfied: kiwisolver>=1.0.1 in /Users/sridevi/anaconda3/lib/python3.10/site-packages (from matplotlib->wordcloud) (1.4.4)\n",
      "Requirement already satisfied: python-dateutil>=2.7 in /Users/sridevi/anaconda3/lib/python3.10/site-packages (from matplotlib->wordcloud) (2.8.2)\n",
      "Requirement already satisfied: pyparsing>=2.3.1 in /Users/sridevi/anaconda3/lib/python3.10/site-packages (from matplotlib->wordcloud) (3.0.9)\n",
      "Requirement already satisfied: six>=1.5 in /Users/sridevi/anaconda3/lib/python3.10/site-packages (from python-dateutil>=2.7->matplotlib->wordcloud) (1.16.0)\n",
      "Installing collected packages: wordcloud\n",
      "Successfully installed wordcloud-1.9.3\n",
      "Note: you may need to restart the kernel to use updated packages.\n"
     ]
    }
   ],
   "source": [
    "pip install wordcloud"
   ]
  },
  {
   "cell_type": "code",
   "execution_count": 144,
   "id": "6a9fd7ef",
   "metadata": {},
   "outputs": [],
   "source": [
    "from wordcloud import WordCloud, STOPWORDS\n",
    "import matplotlib.pyplot as plt"
   ]
  },
  {
   "cell_type": "code",
   "execution_count": 143,
   "id": "9c362fcf",
   "metadata": {},
   "outputs": [
    {
     "data": {
      "image/png": "[encoded data removed]",
      "text/plain": [
       "<Figure size 800x800 with 1 Axes>"
      ]
     },
     "metadata": {},
     "output_type": "display_data"
    }
   ],
   "source": [
    "keyword = \"\"\n",
    "stopwords = set(STOPWORDS)\n",
    "\n",
    "for index, row in df.iterrows():\n",
    "    if pd.isna(row['keyword'])!= True:\n",
    "        keyword += \" \"+row['keyword']\n",
    "\n",
    "wordcloud = WordCloud(width = 800, height = 800,\n",
    "                background_color ='white',\n",
    "                stopwords = stopwords,\n",
    "                min_font_size = 10).generate(keyword)\n",
    " \n",
    "# plot the WordCloud image                       \n",
    "plt.figure(figsize = (8, 8), facecolor = None)\n",
    "plt.imshow(wordcloud)\n",
    "plt.axis(\"off\")\n",
    "plt.tight_layout(pad = 0)\n",
    " \n",
    "plt.show()"
   ]
  },
  {
   "cell_type": "markdown",
   "id": "9442156e",
   "metadata": {},
   "source": [
    "# Keyword Extractor YAKE vs BERT\n",
    "\n",
    "https://medium.com/@adityamishra.rishu/keyword-extractor-yake-35870de21a0d"
   ]
  },
  {
   "cell_type": "code",
   "execution_count": 57,
   "id": "a0d7e967",
   "metadata": {},
   "outputs": [
    {
     "name": "stdout",
     "output_type": "stream",
     "text": [
      "Requirement already satisfied: yake in /Users/sridevi/anaconda3/lib/python3.10/site-packages (0.4.8)\n",
      "Requirement already satisfied: segtok in /Users/sridevi/anaconda3/lib/python3.10/site-packages (from yake) (1.5.11)\n",
      "Requirement already satisfied: numpy in /Users/sridevi/anaconda3/lib/python3.10/site-packages (from yake) (1.23.5)\n",
      "Requirement already satisfied: networkx in /Users/sridevi/anaconda3/lib/python3.10/site-packages (from yake) (2.8.4)\n",
      "Requirement already satisfied: click>=6.0 in /Users/sridevi/anaconda3/lib/python3.10/site-packages (from yake) (8.0.4)\n",
      "Requirement already satisfied: tabulate in /Users/sridevi/anaconda3/lib/python3.10/site-packages (from yake) (0.8.10)\n",
      "Requirement already satisfied: jellyfish in /Users/sridevi/anaconda3/lib/python3.10/site-packages (from yake) (0.9.0)\n",
      "Requirement already satisfied: regex in /Users/sridevi/anaconda3/lib/python3.10/site-packages (from segtok->yake) (2022.7.9)\n",
      "Note: you may need to restart the kernel to use updated packages.\n"
     ]
    }
   ],
   "source": [
    "pip install yake"
   ]
  },
  {
   "cell_type": "code",
   "execution_count": 58,
   "id": "af8c60a9",
   "metadata": {},
   "outputs": [
    {
     "name": "stdout",
     "output_type": "stream",
     "text": [
      "('shelter', 0.10463417723629108)\n"
     ]
    }
   ],
   "source": [
    "# Keyword etractor example with Yake\n",
    "import yake\n",
    "\n",
    "text = \"residents asked shelter place being notified officers evacuation shelter place orders expected\"\n",
    "# Specifying Parameters\n",
    "language = \"en\"\n",
    "max_ngram_size = 1\n",
    "deduplication_thresold = 0.9\n",
    "deduplication_algo = 'seqm'\n",
    "windowSize = 1\n",
    "numOfKeywords = 1\n",
    "\n",
    "custom_kw_extractor = yake.KeywordExtractor(lan=language, n=max_ngram_size, dedupLim=deduplication_thresold, dedupFunc=deduplication_algo, windowsSize=windowSize, top=numOfKeywords, features=None)\n",
    "keywords = custom_kw_extractor.extract_keywords(text)\n",
    "\n",
    "for kw in keywords:\n",
    "    print(kw)"
   ]
  },
  {
   "cell_type": "markdown",
   "id": "2af4e6f5",
   "metadata": {},
   "source": [
    "#### BERT keyword extractor\n",
    "\n",
    "<center>\n",
    "    <img src = images/bert_example.png width = 50%/>\n",
    "</center>\n",
    "\n",
    "https://huggingface.co/yanekyuk/bert-keyword-extractor"
   ]
  },
  {
   "cell_type": "code",
   "execution_count": 70,
   "id": "1a6bc33d",
   "metadata": {},
   "outputs": [
    {
     "name": "stdout",
     "output_type": "stream",
     "text": [
      "[{'entity': 'B-KEY', 'score': 0.9372667, 'index': 9, 'word': 'shelter', 'start': 65, 'end': 72}]\n",
      "{'entity': 'B-KEY', 'score': 0.9372667, 'index': 9, 'word': 'shelter', 'start': 65, 'end': 72}\n",
      "shelter\n"
     ]
    }
   ],
   "source": [
    "# Keyword etractor example with BERT\n",
    "from transformers import pipeline\n",
    "pipe = pipeline(\"token-classification\", model=\"yanekyuk/bert-keyword-extractor\")\n",
    "result = pipe(\"residents asked shelter place being notified officers evacuation shelter place orders expected\")\n",
    "print(result)\n",
    "print(result[0])\n",
    "print(result[0].get('word'))"
   ]
  },
  {
   "cell_type": "code",
   "execution_count": 110,
   "id": "33c9c551",
   "metadata": {},
   "outputs": [
    {
     "name": "stdout",
     "output_type": "stream",
     "text": [
      "\n",
      "\n",
      "people died heat wave far\n",
      "[{'entity': 'B-KEY', 'score': 0.9998497, 'index': 3, 'word': 'heat', 'start': 12, 'end': 16}, {'entity': 'I-KEY', 'score': 0.9999114, 'index': 4, 'word': 'wave', 'start': 17, 'end': 21}]\n",
      "[('people', 0.15831692877998726)]\n",
      "\n",
      "\n",
      "haha south tampa flooded hah wait second live south tampa am gon na am gon na fuck\n",
      "[]\n",
      "[('gon', 0.07571113878390312)]\n",
      "\n",
      "\n",
      "18 19 days ive lost count\n",
      "[]\n",
      "[('days', 0.15831692877998726)]\n",
      "\n",
      "\n",
      "ago mandar arrived ago\n",
      "[{'entity': 'B-KEY', 'score': 0.99800354, 'index': 2, 'word': 'man', 'start': 4, 'end': 7}, {'entity': 'I-KEY', 'score': 0.99775034, 'index': 3, 'word': '##dar', 'start': 7, 'end': 10}]\n",
      "[('ago', 0.14323823713631006)]\n",
      "\n",
      "\n",
      "damage school bus 80 multi car crash\n",
      "[]\n",
      "[('damage', 0.15831692877998726)]\n"
     ]
    }
   ],
   "source": [
    "# compare keyword generation between BERT and YAKE\n",
    "for index, row in df.iloc[10:15].iterrows():\n",
    "    if(pd.isnull(row['keyword'])):\n",
    "        print(\"\\n\")\n",
    "        print(row['text'])\n",
    "        print(pipe(row['text']))\n",
    "        print(custom_kw_extractor.extract_keywords(row['text']))"
   ]
  },
  {
   "cell_type": "markdown",
   "id": "4725cebb",
   "metadata": {},
   "source": [
    "## Conclusion\n",
    "\n",
    "Examples \n",
    "\n",
    "- people died heat wave far\n",
    "    - Keyword from BERT - [{'entity': 'B-KEY', 'score': 0.9998497, 'index': 3, 'word': 'heat', 'start': 12, 'end': 16}, {'entity': 'I-KEY', 'score': 0.9999114, 'index': 4, 'word': 'wave', 'start': 17, 'end': 21}]\n",
    "    - Keyword from YAKE - [('people', 0.15831692877998726)]\n",
    "\n",
    "- haha south tampa flooded hah wait second live south tampa am gon na am gon na fuck\n",
    "    -  Keyword from BERT - []\n",
    "    - Keyword from YAKE - [('gon', 0.07571113878390312)]\n",
    "\n",
    "The keyword generationo needs to be modified to detect the disaster words. Currently both the models are not giving relevant keyword in both the cases and could be detrimental to analysis \n",
    "\n",
    "Refer - https://www.researchgate.net/publication/333072450_Keyphrase_Extraction_from_Disaster-related_Tweets "
   ]
  },
  {
   "cell_type": "code",
   "execution_count": 111,
   "id": "7690a772",
   "metadata": {},
   "outputs": [],
   "source": [
    "# uncomment the following code to add keyword using the BERT model \n",
    "\n",
    "# keyword_list = []\n",
    "# for index, row in df.iterrows():\n",
    "#     if(pd.isnull(row['keyword'])):\n",
    "#         result = pipe(row['text']))\n",
    "#         print(custom_kw_extractor.extract_keywords(row['text']))\n",
    "#         if(len(result)>1):\n",
    "#             df.at[index,'keyword'] = result[0].get('word')\n",
    "#             keyword_list.append(result[0].get('word'))\n",
    "\n",
    "# print(keyword_list)"
   ]
  },
  {
   "cell_type": "markdown",
   "id": "b9c3e135",
   "metadata": {},
   "source": [
    "# Sentiment Analysis "
   ]
  },
  {
   "cell_type": "code",
   "execution_count": 112,
   "id": "397d1d02",
   "metadata": {},
   "outputs": [
    {
     "name": "stdout",
     "output_type": "stream",
     "text": [
      "Requirement already satisfied: torch in /Users/sridevi/anaconda3/lib/python3.10/site-packages (1.12.1)\n",
      "Requirement already satisfied: typing_extensions in /Users/sridevi/anaconda3/lib/python3.10/site-packages (from torch) (4.4.0)\n",
      "Note: you may need to restart the kernel to use updated packages.\n"
     ]
    }
   ],
   "source": [
    "pip install torch"
   ]
  },
  {
   "cell_type": "code",
   "execution_count": 113,
   "id": "0a06357c",
   "metadata": {},
   "outputs": [
    {
     "name": "stderr",
     "output_type": "stream",
     "text": [
      "No model was supplied, defaulted to distilbert-base-uncased-finetuned-sst-2-english and revision af0f99b (https://huggingface.co/distilbert-base-uncased-finetuned-sst-2-english).\n",
      "Using a pipeline without specifying a model name and revision in production is not recommended.\n"
     ]
    },
    {
     "data": {
      "text/plain": [
       "[{'label': 'POSITIVE', 'score': 0.999843955039978}]"
      ]
     },
     "execution_count": 113,
     "metadata": {},
     "output_type": "execute_result"
    }
   ],
   "source": [
    "# Example of sentiment analysis with hugging face \n",
    "from transformers import pipeline\n",
    "classifier = pipeline(\"sentiment-analysis\")\n",
    "classifier(\"I love BERT\")"
   ]
  },
  {
   "cell_type": "code",
   "execution_count": 114,
   "id": "f0239534",
   "metadata": {},
   "outputs": [],
   "source": [
    "sentiment_list = []\n",
    "score_list = []\n",
    "\n",
    "# for index, row in df.tail().iterrows(): #uncomment for testing with smaller datasize\n",
    "for index, row in df.iterrows():\n",
    "    result = classifier(row['text'])\n",
    "    if(len(result)>=1):\n",
    "        sentiment_list.append(result[0].get('label'))\n",
    "        score_list.append(result[0].get('score'))\n",
    "    else:\n",
    "        sentiment_list.append(\"Missing\")\n",
    "        score_list.append(0)\n",
    "        \n",
    "df['sentiment'] = sentiment_list\n",
    "df['score'] = score_list"
   ]
  },
  {
   "cell_type": "code",
   "execution_count": 115,
   "id": "d182ad96",
   "metadata": {},
   "outputs": [
    {
     "data": {
      "text/html": [
       "<div>\n",
       "<style scoped>\n",
       "    .dataframe tbody tr th:only-of-type {\n",
       "        vertical-align: middle;\n",
       "    }\n",
       "\n",
       "    .dataframe tbody tr th {\n",
       "        vertical-align: top;\n",
       "    }\n",
       "\n",
       "    .dataframe thead th {\n",
       "        text-align: right;\n",
       "    }\n",
       "</style>\n",
       "<table border=\"1\" class=\"dataframe\">\n",
       "  <thead>\n",
       "    <tr style=\"text-align: right;\">\n",
       "      <th></th>\n",
       "      <th>id</th>\n",
       "      <th>keyword</th>\n",
       "      <th>location</th>\n",
       "      <th>text</th>\n",
       "      <th>target</th>\n",
       "      <th>sentiment</th>\n",
       "      <th>score</th>\n",
       "    </tr>\n",
       "  </thead>\n",
       "  <tbody>\n",
       "    <tr>\n",
       "      <th>0</th>\n",
       "      <td>1</td>\n",
       "      <td>NaN</td>\n",
       "      <td>NaN</td>\n",
       "      <td>deeds reason may allah forgive</td>\n",
       "      <td>1</td>\n",
       "      <td>POSITIVE</td>\n",
       "      <td>0.969080</td>\n",
       "    </tr>\n",
       "    <tr>\n",
       "      <th>1</th>\n",
       "      <td>4</td>\n",
       "      <td>NaN</td>\n",
       "      <td>NaN</td>\n",
       "      <td>forest fire near la range ask canada</td>\n",
       "      <td>1</td>\n",
       "      <td>NEGATIVE</td>\n",
       "      <td>0.960770</td>\n",
       "    </tr>\n",
       "    <tr>\n",
       "      <th>2</th>\n",
       "      <td>5</td>\n",
       "      <td>NaN</td>\n",
       "      <td>NaN</td>\n",
       "      <td>residents asked shelter place being notified officers evacuation shelter place orders expected</td>\n",
       "      <td>1</td>\n",
       "      <td>NEGATIVE</td>\n",
       "      <td>0.989976</td>\n",
       "    </tr>\n",
       "    <tr>\n",
       "      <th>3</th>\n",
       "      <td>6</td>\n",
       "      <td>NaN</td>\n",
       "      <td>NaN</td>\n",
       "      <td>13000 people receive evacuation orders california</td>\n",
       "      <td>1</td>\n",
       "      <td>NEGATIVE</td>\n",
       "      <td>0.954775</td>\n",
       "    </tr>\n",
       "    <tr>\n",
       "      <th>4</th>\n",
       "      <td>7</td>\n",
       "      <td>NaN</td>\n",
       "      <td>NaN</td>\n",
       "      <td>just photo ruby smoke pours school</td>\n",
       "      <td>1</td>\n",
       "      <td>POSITIVE</td>\n",
       "      <td>0.984378</td>\n",
       "    </tr>\n",
       "  </tbody>\n",
       "</table>\n",
       "</div>"
      ],
      "text/plain": [
       "   id keyword location  \\\n",
       "0   1     NaN      NaN   \n",
       "1   4     NaN      NaN   \n",
       "2   5     NaN      NaN   \n",
       "3   6     NaN      NaN   \n",
       "4   7     NaN      NaN   \n",
       "\n",
       "                                                                                             text  \\\n",
       "0                                                                  deeds reason may allah forgive   \n",
       "1                                                            forest fire near la range ask canada   \n",
       "2  residents asked shelter place being notified officers evacuation shelter place orders expected   \n",
       "3                                               13000 people receive evacuation orders california   \n",
       "4                                                              just photo ruby smoke pours school   \n",
       "\n",
       "   target sentiment     score  \n",
       "0       1  POSITIVE  0.969080  \n",
       "1       1  NEGATIVE  0.960770  \n",
       "2       1  NEGATIVE  0.989976  \n",
       "3       1  NEGATIVE  0.954775  \n",
       "4       1  POSITIVE  0.984378  "
      ]
     },
     "execution_count": 115,
     "metadata": {},
     "output_type": "execute_result"
    }
   ],
   "source": [
    "df.head()"
   ]
  },
  {
   "cell_type": "code",
   "execution_count": 116,
   "id": "4f48328a",
   "metadata": {},
   "outputs": [],
   "source": [
    "df.to_csv('nlp-getting-started/train_with_text_processed_and_sentiment.csv',index=False)"
   ]
  },
  {
   "cell_type": "markdown",
   "id": "b0219c8e",
   "metadata": {},
   "source": [
    "## Visualise the sentiment analysis "
   ]
  },
  {
   "cell_type": "code",
   "execution_count": 117,
   "id": "18986321",
   "metadata": {},
   "outputs": [],
   "source": [
    "import seaborn as sns"
   ]
  },
  {
   "cell_type": "code",
   "execution_count": 118,
   "id": "f654ea74",
   "metadata": {},
   "outputs": [
    {
     "data": {
      "text/plain": [
       "<Axes: xlabel='sentiment', ylabel='Count'>"
      ]
     },
     "execution_count": 118,
     "metadata": {},
     "output_type": "execute_result"
    },
    {
     "data": {
      "image/png": "[encoded data removed]",
      "text/plain": [
       "<Figure size 640x480 with 1 Axes>"
      ]
     },
     "metadata": {},
     "output_type": "display_data"
    }
   ],
   "source": [
    "sns.histplot(data=df, x=\"sentiment\")"
   ]
  },
  {
   "cell_type": "code",
   "execution_count": 145,
   "id": "19f34384",
   "metadata": {},
   "outputs": [
    {
     "data": {
      "text/plain": [
       "<Axes: xlabel='sentiment', ylabel='score'>"
      ]
     },
     "execution_count": 145,
     "metadata": {},
     "output_type": "execute_result"
    },
    {
     "data": {
      "image/png": "[encoded data removed]",
      "text/plain": [
       "<Figure size 640x480 with 1 Axes>"
      ]
     },
     "metadata": {},
     "output_type": "display_data"
    }
   ],
   "source": [
    "sns.scatterplot(data=df, x=\"sentiment\", y=\"score\", hue=\"target\")"
   ]
  },
  {
   "cell_type": "code",
   "execution_count": 149,
   "id": "31061316",
   "metadata": {},
   "outputs": [
    {
     "data": {
      "text/plain": [
       "<Axes: xlabel='score', ylabel='target'>"
      ]
     },
     "execution_count": 149,
     "metadata": {},
     "output_type": "execute_result"
    },
    {
     "data": {
      "image/png": "[encoded data removed]",
      "text/plain": [
       "<Figure size 640x480 with 1 Axes>"
      ]
     },
     "metadata": {},
     "output_type": "display_data"
    }
   ],
   "source": [
    "df_positive = df[df[\"sentiment\"] == \"NEGATIVE\"]\n",
    "sns.scatterplot(data=df, x=\"score\", y=\"target\", hue=\"target\")\n",
    "\n",
    "# df_positive = df[df[\"sentiment\"] == \"POSITIVE\"]\n",
    "# sns.scatterplot(data=df, x=\"score\", y=\"target\", hue=\"target\")"
   ]
  },
  {
   "cell_type": "markdown",
   "id": "986f09ca",
   "metadata": {},
   "source": [
    "# Analysis of the sentiment and the result target\n",
    "- Does a negative sentiment imply the results are inclined towards being true "
   ]
  },
  {
   "cell_type": "code",
   "execution_count": 163,
   "id": "35154e42",
   "metadata": {},
   "outputs": [],
   "source": [
    "from sklearn.preprocessing import StandardScaler, OneHotEncoder\n",
    "from sklearn.pipeline import Pipeline\n",
    "from sklearn.compose import make_column_transformer\n",
    "from sklearn.neighbors import KNeighborsClassifier\n",
    "from sklearn.model_selection import train_test_split"
   ]
  },
  {
   "cell_type": "code",
   "execution_count": 622,
   "id": "da3c1866",
   "metadata": {},
   "outputs": [],
   "source": [
    "# Declare feature vector and target variable \n",
    "X = df[['sentiment', 'score']]\n",
    "y = df['target']\n",
    "# split X and y into training and testing sets\n",
    "X_train, X_test, y_train, y_test = train_test_split(X, y, random_state = 42)"
   ]
  },
  {
   "cell_type": "code",
   "execution_count": 165,
   "id": "792c15d0",
   "metadata": {},
   "outputs": [],
   "source": [
    "transformer = make_column_transformer((OneHotEncoder(drop = 'if_binary'), ['sentiment']), \n",
    "                                     remainder = StandardScaler())\n"
   ]
  },
  {
   "cell_type": "code",
   "execution_count": 171,
   "id": "89281ca3",
   "metadata": {},
   "outputs": [
    {
     "name": "stdout",
     "output_type": "stream",
     "text": [
      "0.5698353690918747\n"
     ]
    }
   ],
   "source": [
    "fivepipe = Pipeline([('transform', transformer), ('knn', KNeighborsClassifier(n_neighbors=5))])\n",
    "fivepipe.fit(X_train, y_train)\n",
    "fivepipe_acc = fivepipe.score(X_test, y_test)\n",
    "\n",
    "print(fivepipe_acc)"
   ]
  },
  {
   "cell_type": "code",
   "execution_count": 172,
   "id": "ab292103",
   "metadata": {},
   "outputs": [
    {
     "name": "stdout",
     "output_type": "stream",
     "text": [
      "Confusion Matrix [[746 341]\n",
      " [469 327]]\n"
     ]
    }
   ],
   "source": [
    "y_test_pred=fivepipe.predict(X_test)\n",
    "\n",
    "cfm=confusion_matrix(y_test, y_test_pred)\n",
    "trueNegative=cfm[0][0]\n",
    "falsePossitive=cfm[0][1]\n",
    "false_negative=cfm[1][0]\n",
    "truePositive=cfm[1][1]\n",
    "\n",
    "print(\"Confusion Matrix\", cfm)"
   ]
  },
  {
   "cell_type": "markdown",
   "id": "776ef22c",
   "metadata": {},
   "source": [
    "#### Confusion Matrix\n",
    "\n",
    "Reference - https://www.kaggle.com/code/jurk06/knn-classification-using-gridseachcv\n",
    "\n",
    "\n",
    "<center>\n",
    "    <img src = images/confusion_matrix.jpeg width = 50%/>\n",
    "</center>"
   ]
  },
  {
   "cell_type": "code",
   "execution_count": 175,
   "id": "dc40b4db",
   "metadata": {},
   "outputs": [
    {
     "data": {
      "image/png": "[encoded data removed]",
      "text/plain": [
       "<Figure size 1000x1000 with 2 Axes>"
      ]
     },
     "metadata": {},
     "output_type": "display_data"
    }
   ],
   "source": [
    "cfm_df=pd.DataFrame(cfm, range(2), range(2))\n",
    "plt.figure(figsize=(10,10))\n",
    "sns.heatmap(cfm_df, cmap='Blues', annot=True)\n",
    "plt.show()"
   ]
  },
  {
   "cell_type": "markdown",
   "id": "a1f28eaf",
   "metadata": {},
   "source": [
    "## Conclusion\n",
    "\n",
    "Based on the confusion matrix based on the sentiment and target(whether the sentiment indicates an actual disaster event). Its not a good benchmark for Disaster Tweet prediction"
   ]
  },
  {
   "cell_type": "markdown",
   "id": "d59ac1bb",
   "metadata": {},
   "source": [
    "# Create an Embed for the Text "
   ]
  },
  {
   "cell_type": "markdown",
   "id": "e8767d4a",
   "metadata": {},
   "source": [
    "## Vectorize text \n",
    "\n",
    "#### Traditional vectorization approaches\n",
    "1. Bag of words using CountVectorizer \n",
    "2. TF-IDF\n",
    "3. word2vec\n",
    "\n",
    "#### Pre-trained Word Embedding\n",
    "Modern Natural Language Processing (NLP) uses word embeddings that have been previously trained on a large corpus of text and are hence called ‘Pre-trained Word Embeddings.’ Pre-trained word embeddings are a type of Transfer Learning. They are trained on large datasets that can enhance the performance of a Natural Language Processing (NLP) model because they capture both the connotative and syntactic meaning of a word. All of these word embeddings are useful during hackathons and in real-world scenarios.\n",
    "\n",
    "4. BERT"
   ]
  },
  {
   "cell_type": "markdown",
   "id": "d0aa5158",
   "metadata": {},
   "source": [
    "###  1. Using CountVectorizer to create a bag of words representation of text"
   ]
  },
  {
   "cell_type": "code",
   "execution_count": 215,
   "id": "0f376f53",
   "metadata": {},
   "outputs": [],
   "source": [
    "from sklearn.linear_model import LogisticRegression\n",
    "from sklearn.feature_extraction.text import CountVectorizer\n",
    "from sklearn.pipeline import Pipeline\n",
    "from sklearn.model_selection import train_test_split, GridSearchCV\n",
    "from sklearn.metrics import mean_squared_error\n",
    "from sklearn import metrics"
   ]
  },
  {
   "cell_type": "code",
   "execution_count": 242,
   "id": "70febb0b",
   "metadata": {},
   "outputs": [
    {
     "data": {
      "text/plain": [
       "{'mr': 14,\n",
       " 'green': 5,\n",
       " 'killed': 11,\n",
       " 'colonel': 2,\n",
       " 'mustard': 15,\n",
       " 'in': 9,\n",
       " 'the': 24,\n",
       " 'study': 23,\n",
       " 'with': 30,\n",
       " 'candlestick': 1,\n",
       " 'is': 10,\n",
       " 'not': 17,\n",
       " 'very': 25,\n",
       " 'nice': 16,\n",
       " 'fellow': 3,\n",
       " 'professor': 21,\n",
       " 'plum': 20,\n",
       " 'has': 6,\n",
       " 'plant': 19,\n",
       " 'his': 8,\n",
       " 'miss': 13,\n",
       " 'scarlett': 22,\n",
       " 'watered': 27,\n",
       " 'while': 29,\n",
       " 'he': 7,\n",
       " 'was': 26,\n",
       " 'away': 0,\n",
       " 'from': 4,\n",
       " 'office': 18,\n",
       " 'last': 12,\n",
       " 'week': 28}"
      ]
     },
     "execution_count": 242,
     "metadata": {},
     "output_type": "execute_result"
    }
   ],
   "source": [
    "# Example \n",
    "X = [\"Mr. Green killed Colonel Mustard in the study with the candlestick. \\\n",
    "Mr. Green is not a very nice fellow.\",\n",
    "     \"Professor Plum has a green plant in his study.\",\n",
    "    \"Miss Scarlett watered Professor Plum's green plant while he was away \\\n",
    "from his office last week.\"]\n",
    "\n",
    "vectorizer = CountVectorizer()\n",
    "vectorizer.fit(X)\n",
    "vectorizer.vocabulary_"
   ]
  },
  {
   "cell_type": "code",
   "execution_count": 244,
   "id": "bcebe042",
   "metadata": {},
   "outputs": [
    {
     "name": "stdout",
     "output_type": "stream",
     "text": [
      "  (0, 1)\t1\n",
      "  (0, 2)\t1\n",
      "  (0, 3)\t1\n",
      "  (0, 5)\t2\n",
      "  (0, 9)\t1\n",
      "  (0, 10)\t1\n",
      "  (0, 11)\t1\n",
      "  (0, 14)\t2\n",
      "  (0, 15)\t1\n",
      "  (0, 16)\t1\n",
      "  (0, 17)\t1\n",
      "  (0, 23)\t1\n",
      "  (0, 24)\t2\n",
      "  (0, 25)\t1\n",
      "  (0, 30)\t1\n",
      "  (1, 5)\t1\n",
      "  (1, 6)\t1\n",
      "  (1, 8)\t1\n",
      "  (1, 9)\t1\n",
      "  (1, 19)\t1\n",
      "  (1, 20)\t1\n",
      "  (1, 21)\t1\n",
      "  (1, 23)\t1\n",
      "  (2, 0)\t1\n",
      "  (2, 4)\t1\n",
      "  (2, 5)\t1\n",
      "  (2, 7)\t1\n",
      "  (2, 8)\t1\n",
      "  (2, 12)\t1\n",
      "  (2, 13)\t1\n",
      "  (2, 18)\t1\n",
      "  (2, 19)\t1\n",
      "  (2, 20)\t1\n",
      "  (2, 21)\t1\n",
      "  (2, 22)\t1\n",
      "  (2, 26)\t1\n",
      "  (2, 27)\t1\n",
      "  (2, 28)\t1\n",
      "  (2, 29)\t1\n"
     ]
    }
   ],
   "source": [
    "X_bag_of_words = vectorizer.transform(X)\n",
    "print(X_bag_of_words)"
   ]
  },
  {
   "cell_type": "code",
   "execution_count": 316,
   "id": "97157eaa",
   "metadata": {},
   "outputs": [
    {
     "data": {
      "text/html": [
       "<div>\n",
       "<style scoped>\n",
       "    .dataframe tbody tr th:only-of-type {\n",
       "        vertical-align: middle;\n",
       "    }\n",
       "\n",
       "    .dataframe tbody tr th {\n",
       "        vertical-align: top;\n",
       "    }\n",
       "\n",
       "    .dataframe thead th {\n",
       "        text-align: right;\n",
       "    }\n",
       "</style>\n",
       "<table border=\"1\" class=\"dataframe\">\n",
       "  <thead>\n",
       "    <tr style=\"text-align: right;\">\n",
       "      <th></th>\n",
       "      <th>id</th>\n",
       "      <th>keyword</th>\n",
       "      <th>location</th>\n",
       "      <th>text</th>\n",
       "      <th>target</th>\n",
       "      <th>sentiment</th>\n",
       "      <th>score</th>\n",
       "    </tr>\n",
       "  </thead>\n",
       "  <tbody>\n",
       "    <tr>\n",
       "      <th>0</th>\n",
       "      <td>1</td>\n",
       "      <td>NaN</td>\n",
       "      <td>NaN</td>\n",
       "      <td>deeds reason may allah forgive</td>\n",
       "      <td>1</td>\n",
       "      <td>POSITIVE</td>\n",
       "      <td>0.969080</td>\n",
       "    </tr>\n",
       "    <tr>\n",
       "      <th>1</th>\n",
       "      <td>4</td>\n",
       "      <td>NaN</td>\n",
       "      <td>NaN</td>\n",
       "      <td>forest fire near la range ask canada</td>\n",
       "      <td>1</td>\n",
       "      <td>NEGATIVE</td>\n",
       "      <td>0.960770</td>\n",
       "    </tr>\n",
       "    <tr>\n",
       "      <th>2</th>\n",
       "      <td>5</td>\n",
       "      <td>NaN</td>\n",
       "      <td>NaN</td>\n",
       "      <td>residents asked shelter place being notified officers evacuation shelter place orders expected</td>\n",
       "      <td>1</td>\n",
       "      <td>NEGATIVE</td>\n",
       "      <td>0.989976</td>\n",
       "    </tr>\n",
       "    <tr>\n",
       "      <th>3</th>\n",
       "      <td>6</td>\n",
       "      <td>NaN</td>\n",
       "      <td>NaN</td>\n",
       "      <td>13000 people receive evacuation orders california</td>\n",
       "      <td>1</td>\n",
       "      <td>NEGATIVE</td>\n",
       "      <td>0.954775</td>\n",
       "    </tr>\n",
       "    <tr>\n",
       "      <th>4</th>\n",
       "      <td>7</td>\n",
       "      <td>NaN</td>\n",
       "      <td>NaN</td>\n",
       "      <td>just photo ruby smoke pours school</td>\n",
       "      <td>1</td>\n",
       "      <td>POSITIVE</td>\n",
       "      <td>0.984378</td>\n",
       "    </tr>\n",
       "  </tbody>\n",
       "</table>\n",
       "</div>"
      ],
      "text/plain": [
       "   id keyword location  \\\n",
       "0   1     NaN      NaN   \n",
       "1   4     NaN      NaN   \n",
       "2   5     NaN      NaN   \n",
       "3   6     NaN      NaN   \n",
       "4   7     NaN      NaN   \n",
       "\n",
       "                                                                                             text  \\\n",
       "0                                                                  deeds reason may allah forgive   \n",
       "1                                                            forest fire near la range ask canada   \n",
       "2  residents asked shelter place being notified officers evacuation shelter place orders expected   \n",
       "3                                               13000 people receive evacuation orders california   \n",
       "4                                                              just photo ruby smoke pours school   \n",
       "\n",
       "   target sentiment     score  \n",
       "0       1  POSITIVE  0.969080  \n",
       "1       1  NEGATIVE  0.960770  \n",
       "2       1  NEGATIVE  0.989976  \n",
       "3       1  NEGATIVE  0.954775  \n",
       "4       1  POSITIVE  0.984378  "
      ]
     },
     "execution_count": 316,
     "metadata": {},
     "output_type": "execute_result"
    }
   ],
   "source": [
    "df.head()"
   ]
  },
  {
   "cell_type": "code",
   "execution_count": 217,
   "id": "0f022b60",
   "metadata": {},
   "outputs": [
    {
     "data": {
      "text/plain": [
       "(7469, 6)"
      ]
     },
     "execution_count": 217,
     "metadata": {},
     "output_type": "execute_result"
    }
   ],
   "source": [
    "# Feature Engineering \n",
    "# -- removing location column since it has too many nulls \n",
    "# -- dropping all rows with keyword set to null \n",
    "\n",
    "df_train = pd.DataFrame(df)\n",
    "df_train = df_train.drop(['location'], axis = 1)\n",
    "df_train = df_train.dropna()\n",
    "df_train.shape"
   ]
  },
  {
   "cell_type": "code",
   "execution_count": 218,
   "id": "438494e5",
   "metadata": {},
   "outputs": [],
   "source": [
    "# ignorning the sentiment data for the trianing \n",
    "X = df_train.drop(['target','sentiment','score','id','keyword'], axis = 1)\n",
    "y = df_train['target']"
   ]
  },
  {
   "cell_type": "code",
   "execution_count": 219,
   "id": "60bb8250",
   "metadata": {},
   "outputs": [],
   "source": [
    "X_train, X_test, y_train, y_test = train_test_split(X['text'], y, random_state = 42)"
   ]
  },
  {
   "cell_type": "code",
   "execution_count": 220,
   "id": "bf6b55bc",
   "metadata": {},
   "outputs": [
    {
     "data": {
      "text/html": [
       "<div>\n",
       "<style scoped>\n",
       "    .dataframe tbody tr th:only-of-type {\n",
       "        vertical-align: middle;\n",
       "    }\n",
       "\n",
       "    .dataframe tbody tr th {\n",
       "        vertical-align: top;\n",
       "    }\n",
       "\n",
       "    .dataframe thead th {\n",
       "        text-align: right;\n",
       "    }\n",
       "</style>\n",
       "<table border=\"1\" class=\"dataframe\">\n",
       "  <thead>\n",
       "    <tr style=\"text-align: right;\">\n",
       "      <th></th>\n",
       "      <th>00</th>\n",
       "      <th>05</th>\n",
       "      <th>10</th>\n",
       "      <th>100</th>\n",
       "      <th>11</th>\n",
       "      <th>12</th>\n",
       "      <th>13</th>\n",
       "      <th>14</th>\n",
       "      <th>15</th>\n",
       "      <th>150805</th>\n",
       "      <th>...</th>\n",
       "      <th>york</th>\n",
       "      <th>youtube</th>\n",
       "      <th>yr</th>\n",
       "      <th>zone</th>\n",
       "      <th>ûª</th>\n",
       "      <th>ûªs</th>\n",
       "      <th>ûªt</th>\n",
       "      <th>ûï</th>\n",
       "      <th>ûò</th>\n",
       "      <th>ûó</th>\n",
       "    </tr>\n",
       "  </thead>\n",
       "  <tbody>\n",
       "    <tr>\n",
       "      <th>0</th>\n",
       "      <td>0</td>\n",
       "      <td>0</td>\n",
       "      <td>0</td>\n",
       "      <td>0</td>\n",
       "      <td>0</td>\n",
       "      <td>0</td>\n",
       "      <td>0</td>\n",
       "      <td>0</td>\n",
       "      <td>0</td>\n",
       "      <td>0</td>\n",
       "      <td>...</td>\n",
       "      <td>0</td>\n",
       "      <td>0</td>\n",
       "      <td>0</td>\n",
       "      <td>0</td>\n",
       "      <td>0</td>\n",
       "      <td>0</td>\n",
       "      <td>0</td>\n",
       "      <td>0</td>\n",
       "      <td>0</td>\n",
       "      <td>0</td>\n",
       "    </tr>\n",
       "    <tr>\n",
       "      <th>1</th>\n",
       "      <td>0</td>\n",
       "      <td>0</td>\n",
       "      <td>0</td>\n",
       "      <td>0</td>\n",
       "      <td>0</td>\n",
       "      <td>0</td>\n",
       "      <td>0</td>\n",
       "      <td>0</td>\n",
       "      <td>0</td>\n",
       "      <td>0</td>\n",
       "      <td>...</td>\n",
       "      <td>0</td>\n",
       "      <td>0</td>\n",
       "      <td>0</td>\n",
       "      <td>0</td>\n",
       "      <td>0</td>\n",
       "      <td>0</td>\n",
       "      <td>0</td>\n",
       "      <td>0</td>\n",
       "      <td>0</td>\n",
       "      <td>0</td>\n",
       "    </tr>\n",
       "    <tr>\n",
       "      <th>2</th>\n",
       "      <td>0</td>\n",
       "      <td>0</td>\n",
       "      <td>0</td>\n",
       "      <td>0</td>\n",
       "      <td>0</td>\n",
       "      <td>0</td>\n",
       "      <td>0</td>\n",
       "      <td>0</td>\n",
       "      <td>1</td>\n",
       "      <td>0</td>\n",
       "      <td>...</td>\n",
       "      <td>0</td>\n",
       "      <td>0</td>\n",
       "      <td>0</td>\n",
       "      <td>0</td>\n",
       "      <td>0</td>\n",
       "      <td>0</td>\n",
       "      <td>0</td>\n",
       "      <td>0</td>\n",
       "      <td>0</td>\n",
       "      <td>0</td>\n",
       "    </tr>\n",
       "    <tr>\n",
       "      <th>3</th>\n",
       "      <td>0</td>\n",
       "      <td>0</td>\n",
       "      <td>0</td>\n",
       "      <td>0</td>\n",
       "      <td>0</td>\n",
       "      <td>0</td>\n",
       "      <td>0</td>\n",
       "      <td>0</td>\n",
       "      <td>0</td>\n",
       "      <td>0</td>\n",
       "      <td>...</td>\n",
       "      <td>0</td>\n",
       "      <td>0</td>\n",
       "      <td>0</td>\n",
       "      <td>0</td>\n",
       "      <td>0</td>\n",
       "      <td>0</td>\n",
       "      <td>0</td>\n",
       "      <td>0</td>\n",
       "      <td>0</td>\n",
       "      <td>0</td>\n",
       "    </tr>\n",
       "    <tr>\n",
       "      <th>4</th>\n",
       "      <td>0</td>\n",
       "      <td>0</td>\n",
       "      <td>0</td>\n",
       "      <td>0</td>\n",
       "      <td>0</td>\n",
       "      <td>0</td>\n",
       "      <td>0</td>\n",
       "      <td>0</td>\n",
       "      <td>0</td>\n",
       "      <td>0</td>\n",
       "      <td>...</td>\n",
       "      <td>0</td>\n",
       "      <td>0</td>\n",
       "      <td>0</td>\n",
       "      <td>0</td>\n",
       "      <td>0</td>\n",
       "      <td>0</td>\n",
       "      <td>0</td>\n",
       "      <td>0</td>\n",
       "      <td>0</td>\n",
       "      <td>0</td>\n",
       "    </tr>\n",
       "  </tbody>\n",
       "</table>\n",
       "<p>5 rows × 900 columns</p>\n",
       "</div>"
      ],
      "text/plain": [
       "   00  05  10  100  11  12  13  14  15  150805  ...  york  youtube  yr  zone  \\\n",
       "0   0   0   0    0   0   0   0   0   0       0  ...     0        0   0     0   \n",
       "1   0   0   0    0   0   0   0   0   0       0  ...     0        0   0     0   \n",
       "2   0   0   0    0   0   0   0   0   1       0  ...     0        0   0     0   \n",
       "3   0   0   0    0   0   0   0   0   0       0  ...     0        0   0     0   \n",
       "4   0   0   0    0   0   0   0   0   0       0  ...     0        0   0     0   \n",
       "\n",
       "   ûª  ûªs  ûªt  ûï  ûò  ûó  \n",
       "0   0    0    0   0   0   0  \n",
       "1   0    0    0   0   0   0  \n",
       "2   0    0    0   0   0   0  \n",
       "3   0    0    0   0   0   0  \n",
       "4   0    0    0   0   0   0  \n",
       "\n",
       "[5 rows x 900 columns]"
      ]
     },
     "execution_count": 220,
     "metadata": {},
     "output_type": "execute_result"
    }
   ],
   "source": [
    "# Document Term Matrix\n",
    "# a mathematical matrix that describes the frequency of terms that occur in a collection of documents. \n",
    "# In a document-term matrix, rows correspond to documents in the collection and columns correspond to terms.\n",
    "\n",
    "cvect = CountVectorizer(stop_words = 'english', max_features = 900)\n",
    "dtm = cvect.fit_transform(X_train)\n",
    "\n",
    "pd.DataFrame(dtm.toarray(), columns = cvect.get_feature_names_out()).head()"
   ]
  },
  {
   "cell_type": "code",
   "execution_count": 230,
   "id": "ef06b4e4",
   "metadata": {},
   "outputs": [
    {
     "name": "stdout",
     "output_type": "stream",
     "text": [
      "Test set Accuracy Score:  0.7751605995717344\n",
      "Training set Accuracy Score:  0.8421710408855562\n",
      "Recall Score:  0.7353187919463087\n",
      "Average Precision Score:  0.7552376374376963\n"
     ]
    }
   ],
   "source": [
    "#Evaluate the performance using Logistic Regression \n",
    "\n",
    "vect_pipe = Pipeline([('cvect', CountVectorizer(stop_words = 'english', max_features = 900)),\n",
    "                       ('lgr', LogisticRegression())])\n",
    "vect_pipe.fit(X_train, y_train)\n",
    "test_acc = vect_pipe.score(X_test, y_test)\n",
    "y_pred=vect_pipe.predict(X_train)\n",
    "\n",
    "print(\"Test set Accuracy Score: \", test_acc)\n",
    "print(\"Training set Accuracy Score: \", metrics.accuracy_score(y_train, y_pred))\n",
    "print(\"Recall Score: \", metrics.recall_score(y_train, y_pred))\n",
    "print(\"Average Precision Score: \", metrics.average_precision_score(y_train, y_pred))"
   ]
  },
  {
   "cell_type": "markdown",
   "id": "e56aed60",
   "metadata": {},
   "source": [
    "### 2. TF-IDF (term frequency-inverse document frequency) \n",
    "\n",
    "$$\\text{tfidf} = \\frac{\\text{term frequency}}{\\text{inverse document frequency}}$$\n"
   ]
  },
  {
   "cell_type": "code",
   "execution_count": 231,
   "id": "b726e046",
   "metadata": {},
   "outputs": [],
   "source": [
    "from sklearn.feature_extraction.text import TfidfVectorizer\n",
    "from sklearn.pipeline import Pipeline \n",
    "from sklearn.model_selection import train_test_split, GridSearchCV\n",
    "from sklearn.linear_model import LogisticRegression"
   ]
  },
  {
   "cell_type": "code",
   "execution_count": 233,
   "id": "d370efe6",
   "metadata": {},
   "outputs": [],
   "source": [
    "df_train = pd.DataFrame(df)\n",
    "df_train = df_train.drop(['location'], axis = 1)\n",
    "df_train = df_train.dropna()\n",
    "X = df_train.drop(['target','sentiment','score','id','keyword'], axis = 1)\n",
    "y = df_train['target']\n",
    "X_train, X_test, y_train, y_test = train_test_split(X['text'], y, random_state = 42)"
   ]
  },
  {
   "cell_type": "code",
   "execution_count": 235,
   "id": "6838d866",
   "metadata": {},
   "outputs": [
    {
     "data": {
      "text/html": [
       "<div>\n",
       "<style scoped>\n",
       "    .dataframe tbody tr th:only-of-type {\n",
       "        vertical-align: middle;\n",
       "    }\n",
       "\n",
       "    .dataframe tbody tr th {\n",
       "        vertical-align: top;\n",
       "    }\n",
       "\n",
       "    .dataframe thead th {\n",
       "        text-align: right;\n",
       "    }\n",
       "</style>\n",
       "<table border=\"1\" class=\"dataframe\">\n",
       "  <thead>\n",
       "    <tr style=\"text-align: right;\">\n",
       "      <th></th>\n",
       "      <th>00</th>\n",
       "      <th>000</th>\n",
       "      <th>0000</th>\n",
       "      <th>0011</th>\n",
       "      <th>0025</th>\n",
       "      <th>005225</th>\n",
       "      <th>01</th>\n",
       "      <th>010156</th>\n",
       "      <th>010217</th>\n",
       "      <th>0104</th>\n",
       "      <th>...</th>\n",
       "      <th>ûïyou</th>\n",
       "      <th>ûò</th>\n",
       "      <th>ûò800000</th>\n",
       "      <th>ûòthe</th>\n",
       "      <th>ûòåêcnbc</th>\n",
       "      <th>ûó</th>\n",
       "      <th>ûóher</th>\n",
       "      <th>ûókody</th>\n",
       "      <th>ûónegligence</th>\n",
       "      <th>ûótech</th>\n",
       "    </tr>\n",
       "  </thead>\n",
       "  <tbody>\n",
       "    <tr>\n",
       "      <th>0</th>\n",
       "      <td>0.0</td>\n",
       "      <td>0.0</td>\n",
       "      <td>0.0</td>\n",
       "      <td>0.0</td>\n",
       "      <td>0.0</td>\n",
       "      <td>0.0</td>\n",
       "      <td>0.0</td>\n",
       "      <td>0.0</td>\n",
       "      <td>0.0</td>\n",
       "      <td>0.0</td>\n",
       "      <td>...</td>\n",
       "      <td>0.0</td>\n",
       "      <td>0.0</td>\n",
       "      <td>0.0</td>\n",
       "      <td>0.0</td>\n",
       "      <td>0.0</td>\n",
       "      <td>0.0</td>\n",
       "      <td>0.0</td>\n",
       "      <td>0.0</td>\n",
       "      <td>0.0</td>\n",
       "      <td>0.0</td>\n",
       "    </tr>\n",
       "    <tr>\n",
       "      <th>1</th>\n",
       "      <td>0.0</td>\n",
       "      <td>0.0</td>\n",
       "      <td>0.0</td>\n",
       "      <td>0.0</td>\n",
       "      <td>0.0</td>\n",
       "      <td>0.0</td>\n",
       "      <td>0.0</td>\n",
       "      <td>0.0</td>\n",
       "      <td>0.0</td>\n",
       "      <td>0.0</td>\n",
       "      <td>...</td>\n",
       "      <td>0.0</td>\n",
       "      <td>0.0</td>\n",
       "      <td>0.0</td>\n",
       "      <td>0.0</td>\n",
       "      <td>0.0</td>\n",
       "      <td>0.0</td>\n",
       "      <td>0.0</td>\n",
       "      <td>0.0</td>\n",
       "      <td>0.0</td>\n",
       "      <td>0.0</td>\n",
       "    </tr>\n",
       "    <tr>\n",
       "      <th>2</th>\n",
       "      <td>0.0</td>\n",
       "      <td>0.0</td>\n",
       "      <td>0.0</td>\n",
       "      <td>0.0</td>\n",
       "      <td>0.0</td>\n",
       "      <td>0.0</td>\n",
       "      <td>0.0</td>\n",
       "      <td>0.0</td>\n",
       "      <td>0.0</td>\n",
       "      <td>0.0</td>\n",
       "      <td>...</td>\n",
       "      <td>0.0</td>\n",
       "      <td>0.0</td>\n",
       "      <td>0.0</td>\n",
       "      <td>0.0</td>\n",
       "      <td>0.0</td>\n",
       "      <td>0.0</td>\n",
       "      <td>0.0</td>\n",
       "      <td>0.0</td>\n",
       "      <td>0.0</td>\n",
       "      <td>0.0</td>\n",
       "    </tr>\n",
       "    <tr>\n",
       "      <th>3</th>\n",
       "      <td>0.0</td>\n",
       "      <td>0.0</td>\n",
       "      <td>0.0</td>\n",
       "      <td>0.0</td>\n",
       "      <td>0.0</td>\n",
       "      <td>0.0</td>\n",
       "      <td>0.0</td>\n",
       "      <td>0.0</td>\n",
       "      <td>0.0</td>\n",
       "      <td>0.0</td>\n",
       "      <td>...</td>\n",
       "      <td>0.0</td>\n",
       "      <td>0.0</td>\n",
       "      <td>0.0</td>\n",
       "      <td>0.0</td>\n",
       "      <td>0.0</td>\n",
       "      <td>0.0</td>\n",
       "      <td>0.0</td>\n",
       "      <td>0.0</td>\n",
       "      <td>0.0</td>\n",
       "      <td>0.0</td>\n",
       "    </tr>\n",
       "    <tr>\n",
       "      <th>4</th>\n",
       "      <td>0.0</td>\n",
       "      <td>0.0</td>\n",
       "      <td>0.0</td>\n",
       "      <td>0.0</td>\n",
       "      <td>0.0</td>\n",
       "      <td>0.0</td>\n",
       "      <td>0.0</td>\n",
       "      <td>0.0</td>\n",
       "      <td>0.0</td>\n",
       "      <td>0.0</td>\n",
       "      <td>...</td>\n",
       "      <td>0.0</td>\n",
       "      <td>0.0</td>\n",
       "      <td>0.0</td>\n",
       "      <td>0.0</td>\n",
       "      <td>0.0</td>\n",
       "      <td>0.0</td>\n",
       "      <td>0.0</td>\n",
       "      <td>0.0</td>\n",
       "      <td>0.0</td>\n",
       "      <td>0.0</td>\n",
       "    </tr>\n",
       "  </tbody>\n",
       "</table>\n",
       "<p>5 rows × 11018 columns</p>\n",
       "</div>"
      ],
      "text/plain": [
       "    00  000  0000  0011  0025  005225   01  010156  010217  0104  ...  ûïyou  \\\n",
       "0  0.0  0.0   0.0   0.0   0.0     0.0  0.0     0.0     0.0   0.0  ...    0.0   \n",
       "1  0.0  0.0   0.0   0.0   0.0     0.0  0.0     0.0     0.0   0.0  ...    0.0   \n",
       "2  0.0  0.0   0.0   0.0   0.0     0.0  0.0     0.0     0.0   0.0  ...    0.0   \n",
       "3  0.0  0.0   0.0   0.0   0.0     0.0  0.0     0.0     0.0   0.0  ...    0.0   \n",
       "4  0.0  0.0   0.0   0.0   0.0     0.0  0.0     0.0     0.0   0.0  ...    0.0   \n",
       "\n",
       "    ûò  ûò800000  ûòthe  ûòåêcnbc   ûó  ûóher  ûókody  ûónegligence  ûótech  \n",
       "0  0.0       0.0    0.0       0.0  0.0    0.0     0.0           0.0     0.0  \n",
       "1  0.0       0.0    0.0       0.0  0.0    0.0     0.0           0.0     0.0  \n",
       "2  0.0       0.0    0.0       0.0  0.0    0.0     0.0           0.0     0.0  \n",
       "3  0.0       0.0    0.0       0.0  0.0    0.0     0.0           0.0     0.0  \n",
       "4  0.0       0.0    0.0       0.0  0.0    0.0     0.0           0.0     0.0  \n",
       "\n",
       "[5 rows x 11018 columns]"
      ]
     },
     "execution_count": 235,
     "metadata": {},
     "output_type": "execute_result"
    }
   ],
   "source": [
    "tfidf = TfidfVectorizer()\n",
    "dtm = tfidf.fit_transform(X_train)\n",
    "pd.DataFrame(dtm.toarray(), columns = tfidf.get_feature_names_out()).head()"
   ]
  },
  {
   "cell_type": "code",
   "execution_count": 238,
   "id": "23492d8d",
   "metadata": {},
   "outputs": [
    {
     "name": "stdout",
     "output_type": "stream",
     "text": [
      "Test set Accuracy Score:  0.7794432548179872\n",
      "Training set Accuracy Score:  0.8289591144438493\n",
      "Recall Score:  0.7135067114093959\n",
      "Average Precision Score:  0.7361504637616629\n"
     ]
    }
   ],
   "source": [
    "#Evaluate the performance using Logistic Regression \n",
    "tfidf_pipe = Pipeline([('tfidf', TfidfVectorizer(stop_words = 'english', max_features = 900)),\n",
    "                       ('lgr', LogisticRegression())])\n",
    "tfidf_pipe.fit(X_train, y_train)\n",
    "test_acc = tfidf_pipe.score(X_test, y_test)\n",
    "y_pred=tfidf_pipe.predict(X_train)\n",
    "\n",
    "print(\"Test set Accuracy Score: \", test_acc)\n",
    "print(\"Training set Accuracy Score: \", metrics.accuracy_score(y_train, y_pred))\n",
    "print(\"Recall Score: \", metrics.recall_score(y_train, y_pred))\n",
    "print(\"Average Precision Score: \", metrics.average_precision_score(y_train, y_pred))"
   ]
  },
  {
   "cell_type": "markdown",
   "id": "9bbade8a",
   "metadata": {},
   "source": [
    "### 3. Word2vec\n",
    "Word2vec is a group of related models that are used to produce word embeddings.\n"
   ]
  },
  {
   "cell_type": "code",
   "execution_count": 449,
   "id": "d23b31fb",
   "metadata": {},
   "outputs": [
    {
     "name": "stdout",
     "output_type": "stream",
     "text": [
      "Requirement already satisfied: gensim in /Users/sridevi/anaconda3/lib/python3.10/site-packages (4.3.2)\n",
      "Requirement already satisfied: scipy>=1.7.0 in /Users/sridevi/anaconda3/lib/python3.10/site-packages (from gensim) (1.10.0)\n",
      "Requirement already satisfied: smart-open>=1.8.1 in /Users/sridevi/anaconda3/lib/python3.10/site-packages (from gensim) (5.2.1)\n",
      "Requirement already satisfied: numpy>=1.18.5 in /Users/sridevi/anaconda3/lib/python3.10/site-packages (from gensim) (1.23.5)\n",
      "Note: you may need to restart the kernel to use updated packages.\n"
     ]
    }
   ],
   "source": [
    "pip install --upgrade gensim"
   ]
  },
  {
   "cell_type": "code",
   "execution_count": 450,
   "id": "3ab1b127",
   "metadata": {},
   "outputs": [],
   "source": [
    "from gensim.test.utils import common_texts\n",
    "from gensim.models import Word2Vec"
   ]
  },
  {
   "cell_type": "code",
   "execution_count": 484,
   "id": "789b40d0",
   "metadata": {},
   "outputs": [],
   "source": [
    "disaster_tweets = []\n",
    "df_w2vec = pd.DataFrame(df_train)\n",
    "for index, row in df_w2vec.iterrows():\n",
    "    words = word_tokenize(row['text']) \n",
    "    if(len(words) == 0): #if the tweet has no tokens then delete it \n",
    "        df_w2vec.drop(index, inplace=True)\n",
    "    else:\n",
    "        disaster_tweets.append(words)"
   ]
  },
  {
   "cell_type": "code",
   "execution_count": 485,
   "id": "0e01bed9",
   "metadata": {},
   "outputs": [],
   "source": [
    "model = Word2Vec(sentences=disaster_tweets, vector_size=100, min_count=1)\n",
    "model.save(\"disastertweet.model\")"
   ]
  },
  {
   "cell_type": "code",
   "execution_count": 486,
   "id": "941397c0",
   "metadata": {},
   "outputs": [
    {
     "name": "stdout",
     "output_type": "stream",
     "text": [
      "[('fire', 0.9750987887382507), ('like', 0.9736050367355347), ('people', 0.9733709096908569), ('new', 0.9721604585647583), ('amp', 0.9721249341964722), ('just', 0.971930742263794), ('can', 0.9718936681747437), ('down', 0.9717437624931335), ('2', 0.9710355997085571), ('emergency', 0.9708760976791382)]\n"
     ]
    }
   ],
   "source": [
    "model = Word2Vec.load(\"disastertweet.model\")\n",
    "sims = model.wv.most_similar('forest', topn=10)  # get other similar words\n",
    "print(sims)\n",
    "\n",
    "# given the dataset we trained on"
   ]
  },
  {
   "cell_type": "code",
   "execution_count": 487,
   "id": "c407ed46",
   "metadata": {},
   "outputs": [],
   "source": [
    "model = Word2Vec.load(\"disastertweet.model\")\n",
    "\n",
    "w2v=[]\n",
    "for index, row in df_w2vec.iterrows():\n",
    "    sentence_vector=np.zeros(100) #create 300 dimensions of zeros\n",
    "    words = word_tokenize(row['text'])\n",
    "    for word in words:\n",
    "        try: # for missing key exception \n",
    "            vec=model.wv[word] #get the vector representation of the word\n",
    "            sentence_vector+=vec #add the vector to sentence_vector\n",
    "        except Exception:\n",
    "            print(word)\n",
    "            pass\n",
    "    w2v.append(sentence_vector)\n",
    "\n",
    "df_w2vec['embedding'] = w2v"
   ]
  },
  {
   "cell_type": "code",
   "execution_count": 455,
   "id": "f0d2da13",
   "metadata": {},
   "outputs": [
    {
     "data": {
      "text/html": [
       "<div>\n",
       "<style scoped>\n",
       "    .dataframe tbody tr th:only-of-type {\n",
       "        vertical-align: middle;\n",
       "    }\n",
       "\n",
       "    .dataframe tbody tr th {\n",
       "        vertical-align: top;\n",
       "    }\n",
       "\n",
       "    .dataframe thead th {\n",
       "        text-align: right;\n",
       "    }\n",
       "</style>\n",
       "<table border=\"1\" class=\"dataframe\">\n",
       "  <thead>\n",
       "    <tr style=\"text-align: right;\">\n",
       "      <th></th>\n",
       "      <th>id</th>\n",
       "      <th>keyword</th>\n",
       "      <th>text</th>\n",
       "      <th>target</th>\n",
       "      <th>sentiment</th>\n",
       "      <th>score</th>\n",
       "      <th>embedding</th>\n",
       "    </tr>\n",
       "  </thead>\n",
       "  <tbody>\n",
       "    <tr>\n",
       "      <th>31</th>\n",
       "      <td>48</td>\n",
       "      <td>ablaze</td>\n",
       "      <td>wholesale markets ablaze</td>\n",
       "      <td>1</td>\n",
       "      <td>NEGATIVE</td>\n",
       "      <td>0.962016</td>\n",
       "      <td>[-0.017138472758233547, 0.02875694981776178, 0.011117177025880665, -0.0034665338462218642, 0.0060061439871788025, -0.035434143617749214, 0.031081359134986997, 0.045224671717733145, -0.0029078752268105745, -0.021280582062900066, -0.020576279144734144, -0.028971788240596652, -0.01986289257183671, -0.00976070377510041, 0.02653247187845409, -0.01300622127018869, -0.018262021942064166, -0.012404842302203178, 0.006023632362484932, -0.0452408567070961, 0.00772232236340642, 0.007383528398349881, 0.02957544440869242, 0.00324874249054119, 0.01524340733885765, 0.007573747629066929, -0.01931393169797957, 0.002798659261316061, -0.029405971057713032, 0.01037479448132217, 0.03276358870789409, -0.00712226633913815, -0.013422009302303195, -0.02630496327765286, -0.005379881942644715, -0.003111388999968767, 0.0039076406974345446, 0.013020632788538933, -0.0138544159126468, -0.018457675469107926, 0.019642433151602745, -0.013549927738495171, -0.005792700685560703, 0.0060697386506944895, 0.009093532338738441, -0.02021243399940431, -0.003207254456356168, 0.013367283623665571, -0.00028582324739545584, 0.03213708661496639, 0.003759424726013094, -0.0010598632507026196, -0.012559409253299236, -0.008902575820684433, -0.015171829611063004, 0.004835729021579027, 0.03305162058677524, -0.0040508906240575016, -0.01829953570268117, 0.010844690259546041, -0.006915551610291004, 0.005778047256171703, -0.00023148200125433505, -0.009859771002084017, -0.02711180178448558, 0.03266327176243067, 0.01600171299651265, 0.014145250897854567, -0.02504587545990944, 0.01747613539919257, -0.012381374835968018, 0.00541513436473906, 0.023244416574016213, -0.026135542429983616, 0.022275114082731307, 0.01775998092489317, -0.0019023108761757612, -0.0029174047522246838, -0.009630445856601, 0.011840167921036482, -0.003325139405205846, -0.003443807363510132, -0.0016012904234230518, 0.016648238757625222, -0.00962207093834877, 0.0011452630860731006, 0.012067125047906302, 0.019558723783120513, 0.046033959835767746, 0.031202775426208973, 0.022949110018089414, 0.013551085576182231, 0.011120822338853031, -0.01135080773383379, 0.022107590455561876, 0.004995208699256182, 0.00954934861510992, -0.03398500196635723, 0.016644366434775293, 0.011515862075611949]</td>\n",
       "    </tr>\n",
       "    <tr>\n",
       "      <th>32</th>\n",
       "      <td>49</td>\n",
       "      <td>ablaze</td>\n",
       "      <td>try bring heavy</td>\n",
       "      <td>0</td>\n",
       "      <td>NEGATIVE</td>\n",
       "      <td>0.993266</td>\n",
       "      <td>[-0.03926580213010311, 0.048082980792969465, 0.020286733517423272, 0.01957562961615622, 0.008694613818079233, -0.05111580342054367, 0.04521971754729748, 0.07387837022542953, -0.005808132467791438, -0.01566390274092555, -0.03378953272476792, -0.05228993762284517, -0.013557666912674904, 0.015673289250116795, 0.019436088856309652, -0.02411981381010264, 0.022026419173926115, -0.0329915601760149, 0.012015835789497942, -0.06595954950898886, 0.007888856809586287, 0.01601693034172058, 0.03934548096731305, -0.021275846636854112, 0.0016336865082848817, 0.007299566641449928, -0.05029092263430357, -0.010821253526955843, -0.02827494079247117, 0.017035660101100802, 0.03836968867108226, -0.00911901930703607, 0.0003697338979691267, -0.0062544423853978515, -0.015327488537877798, 0.0050079915672540665, 0.013962164288386703, -0.006814810447394848, -0.03841795679181814, -0.05537871643900871, -0.0009819155384320766, -0.010311632184311748, -0.017008965194690973, 0.02164120553061366, 0.025200400035828352, -0.04080178774893284, -0.021038896069512703, 0.02229409315623343, 0.032740155584178865, 0.03871272411197424, -0.007035321556031704, -0.03734982304740697, -0.022902268334291875, -0.0047372409026138484, -0.02996852435171604, 0.01828252151608467, 0.05389038100838661, -0.0005547921173274517, -0.009856634365860373, 0.026738720014691353, -0.01464235014282167, 0.016516691190190613, 0.014008813595864922, 0.011509561445564032, -0.052376771345734596, 0.032864637672901154, -0.016114094527438283, 0.01402234029956162, -0.04633758496493101, 0.031218855641782284, -0.0341823436319828, 0.0056553790345788, 0.053030277602374554, -0.016188348177820444, 0.007087581441737711, -0.007879746030084789, -0.005414676619693637, -0.003621869022026658, -0.010091356351040304, 0.012765463441610336, -0.03162269231324899, -0.01744577893987298, -0.021047836635261774, 0.03780829440802336, 0.010900602268520743, -0.015889150090515614, -0.0025099909398704767, 0.024473027791827917, 0.0404819343239069, 0.019691124209202826, 0.03644135035574436, 0.008689178968779743, 0.020241852151229978, -0.00881079607643187, 0.04298195708543062, 0.035674222745001316, 0.026736074243672192, -0.02526017336640507, -0.003417578074731864, 0.013765940442681313]</td>\n",
       "    </tr>\n",
       "  </tbody>\n",
       "</table>\n",
       "</div>"
      ],
      "text/plain": [
       "    id keyword                      text  target sentiment     score  \\\n",
       "31  48  ablaze  wholesale markets ablaze       1  NEGATIVE  0.962016   \n",
       "32  49  ablaze           try bring heavy       0  NEGATIVE  0.993266   \n",
       "\n",
       "                                                                                                                                                                                                                                                                                                                                                                                                                                                                                                                                                                                                                                                                                                                                                                                                                                                                                                                                                                                                                                                                                                                                                                                                                                                                                                                                                                                                                                                                                                                                                                                                                                                                                                                                                                                                                                                                                                                                                                                                                                                                                                                                                                                                                                                                                                               embedding  \n",
       "31  [-0.017138472758233547, 0.02875694981776178, 0.011117177025880665, -0.0034665338462218642, 0.0060061439871788025, -0.035434143617749214, 0.031081359134986997, 0.045224671717733145, -0.0029078752268105745, -0.021280582062900066, -0.020576279144734144, -0.028971788240596652, -0.01986289257183671, -0.00976070377510041, 0.02653247187845409, -0.01300622127018869, -0.018262021942064166, -0.012404842302203178, 0.006023632362484932, -0.0452408567070961, 0.00772232236340642, 0.007383528398349881, 0.02957544440869242, 0.00324874249054119, 0.01524340733885765, 0.007573747629066929, -0.01931393169797957, 0.002798659261316061, -0.029405971057713032, 0.01037479448132217, 0.03276358870789409, -0.00712226633913815, -0.013422009302303195, -0.02630496327765286, -0.005379881942644715, -0.003111388999968767, 0.0039076406974345446, 0.013020632788538933, -0.0138544159126468, -0.018457675469107926, 0.019642433151602745, -0.013549927738495171, -0.005792700685560703, 0.0060697386506944895, 0.009093532338738441, -0.02021243399940431, -0.003207254456356168, 0.013367283623665571, -0.00028582324739545584, 0.03213708661496639, 0.003759424726013094, -0.0010598632507026196, -0.012559409253299236, -0.008902575820684433, -0.015171829611063004, 0.004835729021579027, 0.03305162058677524, -0.0040508906240575016, -0.01829953570268117, 0.010844690259546041, -0.006915551610291004, 0.005778047256171703, -0.00023148200125433505, -0.009859771002084017, -0.02711180178448558, 0.03266327176243067, 0.01600171299651265, 0.014145250897854567, -0.02504587545990944, 0.01747613539919257, -0.012381374835968018, 0.00541513436473906, 0.023244416574016213, -0.026135542429983616, 0.022275114082731307, 0.01775998092489317, -0.0019023108761757612, -0.0029174047522246838, -0.009630445856601, 0.011840167921036482, -0.003325139405205846, -0.003443807363510132, -0.0016012904234230518, 0.016648238757625222, -0.00962207093834877, 0.0011452630860731006, 0.012067125047906302, 0.019558723783120513, 0.046033959835767746, 0.031202775426208973, 0.022949110018089414, 0.013551085576182231, 0.011120822338853031, -0.01135080773383379, 0.022107590455561876, 0.004995208699256182, 0.00954934861510992, -0.03398500196635723, 0.016644366434775293, 0.011515862075611949]  \n",
       "32                [-0.03926580213010311, 0.048082980792969465, 0.020286733517423272, 0.01957562961615622, 0.008694613818079233, -0.05111580342054367, 0.04521971754729748, 0.07387837022542953, -0.005808132467791438, -0.01566390274092555, -0.03378953272476792, -0.05228993762284517, -0.013557666912674904, 0.015673289250116795, 0.019436088856309652, -0.02411981381010264, 0.022026419173926115, -0.0329915601760149, 0.012015835789497942, -0.06595954950898886, 0.007888856809586287, 0.01601693034172058, 0.03934548096731305, -0.021275846636854112, 0.0016336865082848817, 0.007299566641449928, -0.05029092263430357, -0.010821253526955843, -0.02827494079247117, 0.017035660101100802, 0.03836968867108226, -0.00911901930703607, 0.0003697338979691267, -0.0062544423853978515, -0.015327488537877798, 0.0050079915672540665, 0.013962164288386703, -0.006814810447394848, -0.03841795679181814, -0.05537871643900871, -0.0009819155384320766, -0.010311632184311748, -0.017008965194690973, 0.02164120553061366, 0.025200400035828352, -0.04080178774893284, -0.021038896069512703, 0.02229409315623343, 0.032740155584178865, 0.03871272411197424, -0.007035321556031704, -0.03734982304740697, -0.022902268334291875, -0.0047372409026138484, -0.02996852435171604, 0.01828252151608467, 0.05389038100838661, -0.0005547921173274517, -0.009856634365860373, 0.026738720014691353, -0.01464235014282167, 0.016516691190190613, 0.014008813595864922, 0.011509561445564032, -0.052376771345734596, 0.032864637672901154, -0.016114094527438283, 0.01402234029956162, -0.04633758496493101, 0.031218855641782284, -0.0341823436319828, 0.0056553790345788, 0.053030277602374554, -0.016188348177820444, 0.007087581441737711, -0.007879746030084789, -0.005414676619693637, -0.003621869022026658, -0.010091356351040304, 0.012765463441610336, -0.03162269231324899, -0.01744577893987298, -0.021047836635261774, 0.03780829440802336, 0.010900602268520743, -0.015889150090515614, -0.0025099909398704767, 0.024473027791827917, 0.0404819343239069, 0.019691124209202826, 0.03644135035574436, 0.008689178968779743, 0.020241852151229978, -0.00881079607643187, 0.04298195708543062, 0.035674222745001316, 0.026736074243672192, -0.02526017336640507, -0.003417578074731864, 0.013765940442681313]  "
      ]
     },
     "execution_count": 455,
     "metadata": {},
     "output_type": "execute_result"
    }
   ],
   "source": [
    "df_w2vec.head(2)"
   ]
  },
  {
   "cell_type": "markdown",
   "id": "95362f2d",
   "metadata": {},
   "source": [
    "### Avg Word2Vec\n",
    "Avg Word2Vec is an extension of the Word2Vec model that generates vector representations for sentences or documents instead of individual words. It works by taking the average of the vector representations of all the words in a sentence or document to generate a single vector representation for the entire text. This approach can be useful in cases where we want to classify or compare entire texts rather than individual words.\n",
    "\n",
    "##### Average Word2Vec(R)=1/n[Word2Vec(w1)+Word2Vec(w2)+……+Word2Vec(wn)]"
   ]
  },
  {
   "cell_type": "code",
   "execution_count": 526,
   "id": "14340d33",
   "metadata": {},
   "outputs": [],
   "source": [
    "def get_avgword2vec(df_w2vec):\n",
    "    avgw2v=[]\n",
    "    for index, row in df_w2vec.iterrows():\n",
    "        sentence_vector=np.zeros(100) #create 100 dimensions of zeros\n",
    "        words = word_tokenize(row['text'])\n",
    "        count_word=0\n",
    "        for word in words:\n",
    "            try: # for missing key exception \n",
    "                vec=model.wv[word] #get the vector representation of the word\n",
    "                sentence_vector+=vec #add the vector to sentence_vector\n",
    "                count_word+=1\n",
    "            except Exception:\n",
    "                print(word)\n",
    "                pass\n",
    "        if count_word!=0:\n",
    "            sentence_vector/=count_word\n",
    "        avgw2v.append(sentence_vector)\n",
    "    return avgw2v\n",
    "\n",
    "df_avgw2v = pd.DataFrame(df_train)\n",
    "df_avgw2v['avgw2v'] = get_avgword2vec(df_avgw2v)"
   ]
  },
  {
   "cell_type": "code",
   "execution_count": 527,
   "id": "63effe16",
   "metadata": {},
   "outputs": [
    {
     "name": "stdout",
     "output_type": "stream",
     "text": [
      "    id keyword                                  text  target sentiment  \\\n",
      "35  53  ablaze  plus side look sky last night ablaze       0  POSITIVE   \n",
      "\n",
      "       score  \\\n",
      "35  0.989832   \n",
      "\n",
      "                                                                                                                                                                                                                                                                                                                                                                                                                                                                                                                                                                                                                                                                                                                                                                                                                                                                                                                                                                                                                                                                                                                                                                                                                                                                                                                                                                                                                                                                                                                                                                                                                                                                                                                                                                                                                                                                                                                                                                                                                                                                                                                                                                                                                                                                                                                  avgw2v  \n",
      "35  [-0.010400438781029411, 0.03216082469693252, 0.014135768237922872, 0.005410804379997509, 0.0009123285084829799, -0.034018296914707334, 0.021506052929908037, 0.050722233951091766, 0.002184385433793068, -0.015749920475562767, -0.012638423791421311, -0.04291929517473493, -0.011285918463337501, 0.013461961743554898, 0.016064658029271022, -0.021296344165291105, 0.008131614420562983, -0.02477999696774142, 0.011871122023356813, -0.0383308899721929, 0.0032292284137968507, 0.010318719083443284, 0.021363388148269484, -0.005939112177916935, 0.007502968073822558, -0.000582229410481107, -0.020969008694269826, -0.007321664198700871, -0.0178794327990285, 0.0033673567231744528, 0.021857578972620622, -0.009638265640075718, -0.006791810105953898, -0.021156749056120003, -0.009775127350751842, 0.014796353556448594, 0.0037597864201026304, -0.007081711540065173, -0.014881579912201102, -0.031956953794828484, 0.0032176044104354723, -0.007670864396329437, -0.010563335581017392, -0.0003968632746753948, 0.01552901413690831, -0.021576831582933664, -0.019734402852399007, 0.010112533873845158, 0.01436537886703653, 0.02503000246360898, 0.002777466883084604, -0.014828764766986881, -0.016801277212964903, -0.015186801386464919, -0.02335186582058668, 0.008483327459543943, 0.02732483297586441, 8.89757149187582e-05, -0.011325054535908359, 0.007228928776125291, 0.005356649219590638, 0.013715867535211146, -0.003989051096141338, 0.0071797869459260255, -0.023701716547033617, 0.02439671166108123, 0.010349307275776352, 0.017012355948931406, -0.02157482930592128, 0.020262688398361206, -0.0180768997940634, 0.0055538521347833535, 0.030266174846994027, -0.013828398044487196, 0.014743905680786287, 0.015084441451888, -0.01097244514052623, 0.0030144178474854144, -0.021784141044398502, 0.005038601811975241, -0.01427068403323314, -0.0013237836371575082, -0.014940527034923434, 0.02711440486434315, 0.008648016057642443, 0.0002762100858879941, -0.0006793514975080532, 0.01887729196044217, 0.03271715795355184, 0.009650134797474104, 0.023096946267677203, 0.014151590410619974, 0.016381003594558154, -0.004022511698297292, 0.03134790861180851, 0.03347574726545385, 0.016804346565290222, -0.02531904594174453, 0.002863990858064166, 0.00877242540341935]  \n"
     ]
    }
   ],
   "source": [
    "print(df_avgw2v.iloc[4:5])"
   ]
  },
  {
   "cell_type": "markdown",
   "id": "031444bb",
   "metadata": {},
   "source": [
    "### KNN on Average Word2Vec"
   ]
  },
  {
   "cell_type": "code",
   "execution_count": 630,
   "id": "9848ee0e",
   "metadata": {},
   "outputs": [],
   "source": [
    "# Train using the embedding \n",
    "X = df_avgw2v['avgw2v']\n",
    "y = df_avgw2v['target']\n",
    "X_train, X_test, y_train, y_test = train_test_split(X, y, random_state = 42)"
   ]
  },
  {
   "cell_type": "code",
   "execution_count": 631,
   "id": "095dd465",
   "metadata": {},
   "outputs": [
    {
     "ename": "ValueError",
     "evalue": "setting an array element with a sequence.",
     "output_type": "error",
     "traceback": [
      "\u001b[0;31m---------------------------------------------------------------------------\u001b[0m",
      "\u001b[0;31mTypeError\u001b[0m                                 Traceback (most recent call last)",
      "\u001b[0;31mTypeError\u001b[0m: only size-1 arrays can be converted to Python scalars",
      "\nThe above exception was the direct cause of the following exception:\n",
      "\u001b[0;31mValueError\u001b[0m                                Traceback (most recent call last)",
      "Cell \u001b[0;32mIn[631], line 2\u001b[0m\n\u001b[1;32m      1\u001b[0m knn_avgw2v\u001b[38;5;241m=\u001b[39mKNeighborsClassifier(n_neighbors\u001b[38;5;241m=\u001b[39m\u001b[38;5;241m5\u001b[39m,algorithm\u001b[38;5;241m=\u001b[39m\u001b[38;5;124m'\u001b[39m\u001b[38;5;124mbrute\u001b[39m\u001b[38;5;124m'\u001b[39m)\n\u001b[0;32m----> 2\u001b[0m \u001b[43mknn_avgw2v\u001b[49m\u001b[38;5;241;43m.\u001b[39;49m\u001b[43mfit\u001b[49m\u001b[43m(\u001b[49m\u001b[43mX_train\u001b[49m\u001b[43m,\u001b[49m\u001b[43my_train\u001b[49m\u001b[43m)\u001b[49m\n",
      "File \u001b[0;32m~/anaconda3/lib/python3.10/site-packages/sklearn/neighbors/_classification.py:215\u001b[0m, in \u001b[0;36mKNeighborsClassifier.fit\u001b[0;34m(self, X, y)\u001b[0m\n\u001b[1;32m    196\u001b[0m \u001b[38;5;124;03m\"\"\"Fit the k-nearest neighbors classifier from the training dataset.\u001b[39;00m\n\u001b[1;32m    197\u001b[0m \n\u001b[1;32m    198\u001b[0m \u001b[38;5;124;03mParameters\u001b[39;00m\n\u001b[0;32m   (...)\u001b[0m\n\u001b[1;32m    211\u001b[0m \u001b[38;5;124;03m    The fitted k-nearest neighbors classifier.\u001b[39;00m\n\u001b[1;32m    212\u001b[0m \u001b[38;5;124;03m\"\"\"\u001b[39;00m\n\u001b[1;32m    213\u001b[0m \u001b[38;5;28mself\u001b[39m\u001b[38;5;241m.\u001b[39m_validate_params()\n\u001b[0;32m--> 215\u001b[0m \u001b[38;5;28;01mreturn\u001b[39;00m \u001b[38;5;28;43mself\u001b[39;49m\u001b[38;5;241;43m.\u001b[39;49m\u001b[43m_fit\u001b[49m\u001b[43m(\u001b[49m\u001b[43mX\u001b[49m\u001b[43m,\u001b[49m\u001b[43m \u001b[49m\u001b[43my\u001b[49m\u001b[43m)\u001b[49m\n",
      "File \u001b[0;32m~/anaconda3/lib/python3.10/site-packages/sklearn/neighbors/_base.py:454\u001b[0m, in \u001b[0;36mNeighborsBase._fit\u001b[0;34m(self, X, y)\u001b[0m\n\u001b[1;32m    452\u001b[0m \u001b[38;5;28;01mif\u001b[39;00m \u001b[38;5;28mself\u001b[39m\u001b[38;5;241m.\u001b[39m_get_tags()[\u001b[38;5;124m\"\u001b[39m\u001b[38;5;124mrequires_y\u001b[39m\u001b[38;5;124m\"\u001b[39m]:\n\u001b[1;32m    453\u001b[0m     \u001b[38;5;28;01mif\u001b[39;00m \u001b[38;5;129;01mnot\u001b[39;00m \u001b[38;5;28misinstance\u001b[39m(X, (KDTree, BallTree, NeighborsBase)):\n\u001b[0;32m--> 454\u001b[0m         X, y \u001b[38;5;241m=\u001b[39m \u001b[38;5;28;43mself\u001b[39;49m\u001b[38;5;241;43m.\u001b[39;49m\u001b[43m_validate_data\u001b[49m\u001b[43m(\u001b[49m\n\u001b[1;32m    455\u001b[0m \u001b[43m            \u001b[49m\u001b[43mX\u001b[49m\u001b[43m,\u001b[49m\u001b[43m \u001b[49m\u001b[43my\u001b[49m\u001b[43m,\u001b[49m\u001b[43m \u001b[49m\u001b[43maccept_sparse\u001b[49m\u001b[38;5;241;43m=\u001b[39;49m\u001b[38;5;124;43m\"\u001b[39;49m\u001b[38;5;124;43mcsr\u001b[39;49m\u001b[38;5;124;43m\"\u001b[39;49m\u001b[43m,\u001b[49m\u001b[43m \u001b[49m\u001b[43mmulti_output\u001b[49m\u001b[38;5;241;43m=\u001b[39;49m\u001b[38;5;28;43;01mTrue\u001b[39;49;00m\u001b[43m,\u001b[49m\u001b[43m \u001b[49m\u001b[43morder\u001b[49m\u001b[38;5;241;43m=\u001b[39;49m\u001b[38;5;124;43m\"\u001b[39;49m\u001b[38;5;124;43mC\u001b[39;49m\u001b[38;5;124;43m\"\u001b[39;49m\n\u001b[1;32m    456\u001b[0m \u001b[43m        \u001b[49m\u001b[43m)\u001b[49m\n\u001b[1;32m    458\u001b[0m     \u001b[38;5;28;01mif\u001b[39;00m is_classifier(\u001b[38;5;28mself\u001b[39m):\n\u001b[1;32m    459\u001b[0m         \u001b[38;5;66;03m# Classification targets require a specific format\u001b[39;00m\n\u001b[1;32m    460\u001b[0m         \u001b[38;5;28;01mif\u001b[39;00m y\u001b[38;5;241m.\u001b[39mndim \u001b[38;5;241m==\u001b[39m \u001b[38;5;241m1\u001b[39m \u001b[38;5;129;01mor\u001b[39;00m y\u001b[38;5;241m.\u001b[39mndim \u001b[38;5;241m==\u001b[39m \u001b[38;5;241m2\u001b[39m \u001b[38;5;129;01mand\u001b[39;00m y\u001b[38;5;241m.\u001b[39mshape[\u001b[38;5;241m1\u001b[39m] \u001b[38;5;241m==\u001b[39m \u001b[38;5;241m1\u001b[39m:\n",
      "File \u001b[0;32m~/anaconda3/lib/python3.10/site-packages/sklearn/base.py:565\u001b[0m, in \u001b[0;36mBaseEstimator._validate_data\u001b[0;34m(self, X, y, reset, validate_separately, **check_params)\u001b[0m\n\u001b[1;32m    563\u001b[0m         y \u001b[38;5;241m=\u001b[39m check_array(y, input_name\u001b[38;5;241m=\u001b[39m\u001b[38;5;124m\"\u001b[39m\u001b[38;5;124my\u001b[39m\u001b[38;5;124m\"\u001b[39m, \u001b[38;5;241m*\u001b[39m\u001b[38;5;241m*\u001b[39mcheck_y_params)\n\u001b[1;32m    564\u001b[0m     \u001b[38;5;28;01melse\u001b[39;00m:\n\u001b[0;32m--> 565\u001b[0m         X, y \u001b[38;5;241m=\u001b[39m \u001b[43mcheck_X_y\u001b[49m\u001b[43m(\u001b[49m\u001b[43mX\u001b[49m\u001b[43m,\u001b[49m\u001b[43m \u001b[49m\u001b[43my\u001b[49m\u001b[43m,\u001b[49m\u001b[43m \u001b[49m\u001b[38;5;241;43m*\u001b[39;49m\u001b[38;5;241;43m*\u001b[39;49m\u001b[43mcheck_params\u001b[49m\u001b[43m)\u001b[49m\n\u001b[1;32m    566\u001b[0m     out \u001b[38;5;241m=\u001b[39m X, y\n\u001b[1;32m    568\u001b[0m \u001b[38;5;28;01mif\u001b[39;00m \u001b[38;5;129;01mnot\u001b[39;00m no_val_X \u001b[38;5;129;01mand\u001b[39;00m check_params\u001b[38;5;241m.\u001b[39mget(\u001b[38;5;124m\"\u001b[39m\u001b[38;5;124mensure_2d\u001b[39m\u001b[38;5;124m\"\u001b[39m, \u001b[38;5;28;01mTrue\u001b[39;00m):\n",
      "File \u001b[0;32m~/anaconda3/lib/python3.10/site-packages/sklearn/utils/validation.py:1106\u001b[0m, in \u001b[0;36mcheck_X_y\u001b[0;34m(X, y, accept_sparse, accept_large_sparse, dtype, order, copy, force_all_finite, ensure_2d, allow_nd, multi_output, ensure_min_samples, ensure_min_features, y_numeric, estimator)\u001b[0m\n\u001b[1;32m   1101\u001b[0m         estimator_name \u001b[38;5;241m=\u001b[39m _check_estimator_name(estimator)\n\u001b[1;32m   1102\u001b[0m     \u001b[38;5;28;01mraise\u001b[39;00m \u001b[38;5;167;01mValueError\u001b[39;00m(\n\u001b[1;32m   1103\u001b[0m         \u001b[38;5;124mf\u001b[39m\u001b[38;5;124m\"\u001b[39m\u001b[38;5;132;01m{\u001b[39;00mestimator_name\u001b[38;5;132;01m}\u001b[39;00m\u001b[38;5;124m requires y to be passed, but the target y is None\u001b[39m\u001b[38;5;124m\"\u001b[39m\n\u001b[1;32m   1104\u001b[0m     )\n\u001b[0;32m-> 1106\u001b[0m X \u001b[38;5;241m=\u001b[39m \u001b[43mcheck_array\u001b[49m\u001b[43m(\u001b[49m\n\u001b[1;32m   1107\u001b[0m \u001b[43m    \u001b[49m\u001b[43mX\u001b[49m\u001b[43m,\u001b[49m\n\u001b[1;32m   1108\u001b[0m \u001b[43m    \u001b[49m\u001b[43maccept_sparse\u001b[49m\u001b[38;5;241;43m=\u001b[39;49m\u001b[43maccept_sparse\u001b[49m\u001b[43m,\u001b[49m\n\u001b[1;32m   1109\u001b[0m \u001b[43m    \u001b[49m\u001b[43maccept_large_sparse\u001b[49m\u001b[38;5;241;43m=\u001b[39;49m\u001b[43maccept_large_sparse\u001b[49m\u001b[43m,\u001b[49m\n\u001b[1;32m   1110\u001b[0m \u001b[43m    \u001b[49m\u001b[43mdtype\u001b[49m\u001b[38;5;241;43m=\u001b[39;49m\u001b[43mdtype\u001b[49m\u001b[43m,\u001b[49m\n\u001b[1;32m   1111\u001b[0m \u001b[43m    \u001b[49m\u001b[43morder\u001b[49m\u001b[38;5;241;43m=\u001b[39;49m\u001b[43morder\u001b[49m\u001b[43m,\u001b[49m\n\u001b[1;32m   1112\u001b[0m \u001b[43m    \u001b[49m\u001b[43mcopy\u001b[49m\u001b[38;5;241;43m=\u001b[39;49m\u001b[43mcopy\u001b[49m\u001b[43m,\u001b[49m\n\u001b[1;32m   1113\u001b[0m \u001b[43m    \u001b[49m\u001b[43mforce_all_finite\u001b[49m\u001b[38;5;241;43m=\u001b[39;49m\u001b[43mforce_all_finite\u001b[49m\u001b[43m,\u001b[49m\n\u001b[1;32m   1114\u001b[0m \u001b[43m    \u001b[49m\u001b[43mensure_2d\u001b[49m\u001b[38;5;241;43m=\u001b[39;49m\u001b[43mensure_2d\u001b[49m\u001b[43m,\u001b[49m\n\u001b[1;32m   1115\u001b[0m \u001b[43m    \u001b[49m\u001b[43mallow_nd\u001b[49m\u001b[38;5;241;43m=\u001b[39;49m\u001b[43mallow_nd\u001b[49m\u001b[43m,\u001b[49m\n\u001b[1;32m   1116\u001b[0m \u001b[43m    \u001b[49m\u001b[43mensure_min_samples\u001b[49m\u001b[38;5;241;43m=\u001b[39;49m\u001b[43mensure_min_samples\u001b[49m\u001b[43m,\u001b[49m\n\u001b[1;32m   1117\u001b[0m \u001b[43m    \u001b[49m\u001b[43mensure_min_features\u001b[49m\u001b[38;5;241;43m=\u001b[39;49m\u001b[43mensure_min_features\u001b[49m\u001b[43m,\u001b[49m\n\u001b[1;32m   1118\u001b[0m \u001b[43m    \u001b[49m\u001b[43mestimator\u001b[49m\u001b[38;5;241;43m=\u001b[39;49m\u001b[43mestimator\u001b[49m\u001b[43m,\u001b[49m\n\u001b[1;32m   1119\u001b[0m \u001b[43m    \u001b[49m\u001b[43minput_name\u001b[49m\u001b[38;5;241;43m=\u001b[39;49m\u001b[38;5;124;43m\"\u001b[39;49m\u001b[38;5;124;43mX\u001b[39;49m\u001b[38;5;124;43m\"\u001b[39;49m\u001b[43m,\u001b[49m\n\u001b[1;32m   1120\u001b[0m \u001b[43m\u001b[49m\u001b[43m)\u001b[49m\n\u001b[1;32m   1122\u001b[0m y \u001b[38;5;241m=\u001b[39m _check_y(y, multi_output\u001b[38;5;241m=\u001b[39mmulti_output, y_numeric\u001b[38;5;241m=\u001b[39my_numeric, estimator\u001b[38;5;241m=\u001b[39mestimator)\n\u001b[1;32m   1124\u001b[0m check_consistent_length(X, y)\n",
      "File \u001b[0;32m~/anaconda3/lib/python3.10/site-packages/sklearn/utils/validation.py:879\u001b[0m, in \u001b[0;36mcheck_array\u001b[0;34m(array, accept_sparse, accept_large_sparse, dtype, order, copy, force_all_finite, ensure_2d, allow_nd, ensure_min_samples, ensure_min_features, estimator, input_name)\u001b[0m\n\u001b[1;32m    877\u001b[0m         array \u001b[38;5;241m=\u001b[39m xp\u001b[38;5;241m.\u001b[39mastype(array, dtype, copy\u001b[38;5;241m=\u001b[39m\u001b[38;5;28;01mFalse\u001b[39;00m)\n\u001b[1;32m    878\u001b[0m     \u001b[38;5;28;01melse\u001b[39;00m:\n\u001b[0;32m--> 879\u001b[0m         array \u001b[38;5;241m=\u001b[39m \u001b[43m_asarray_with_order\u001b[49m\u001b[43m(\u001b[49m\u001b[43marray\u001b[49m\u001b[43m,\u001b[49m\u001b[43m \u001b[49m\u001b[43morder\u001b[49m\u001b[38;5;241;43m=\u001b[39;49m\u001b[43morder\u001b[49m\u001b[43m,\u001b[49m\u001b[43m \u001b[49m\u001b[43mdtype\u001b[49m\u001b[38;5;241;43m=\u001b[39;49m\u001b[43mdtype\u001b[49m\u001b[43m,\u001b[49m\u001b[43m \u001b[49m\u001b[43mxp\u001b[49m\u001b[38;5;241;43m=\u001b[39;49m\u001b[43mxp\u001b[49m\u001b[43m)\u001b[49m\n\u001b[1;32m    880\u001b[0m \u001b[38;5;28;01mexcept\u001b[39;00m ComplexWarning \u001b[38;5;28;01mas\u001b[39;00m complex_warning:\n\u001b[1;32m    881\u001b[0m     \u001b[38;5;28;01mraise\u001b[39;00m \u001b[38;5;167;01mValueError\u001b[39;00m(\n\u001b[1;32m    882\u001b[0m         \u001b[38;5;124m\"\u001b[39m\u001b[38;5;124mComplex data not supported\u001b[39m\u001b[38;5;130;01m\\n\u001b[39;00m\u001b[38;5;132;01m{}\u001b[39;00m\u001b[38;5;130;01m\\n\u001b[39;00m\u001b[38;5;124m\"\u001b[39m\u001b[38;5;241m.\u001b[39mformat(array)\n\u001b[1;32m    883\u001b[0m     ) \u001b[38;5;28;01mfrom\u001b[39;00m \u001b[38;5;21;01mcomplex_warning\u001b[39;00m\n",
      "File \u001b[0;32m~/anaconda3/lib/python3.10/site-packages/sklearn/utils/_array_api.py:185\u001b[0m, in \u001b[0;36m_asarray_with_order\u001b[0;34m(array, dtype, order, copy, xp)\u001b[0m\n\u001b[1;32m    182\u001b[0m     xp, _ \u001b[38;5;241m=\u001b[39m get_namespace(array)\n\u001b[1;32m    183\u001b[0m \u001b[38;5;28;01mif\u001b[39;00m xp\u001b[38;5;241m.\u001b[39m\u001b[38;5;18m__name__\u001b[39m \u001b[38;5;129;01min\u001b[39;00m {\u001b[38;5;124m\"\u001b[39m\u001b[38;5;124mnumpy\u001b[39m\u001b[38;5;124m\"\u001b[39m, \u001b[38;5;124m\"\u001b[39m\u001b[38;5;124mnumpy.array_api\u001b[39m\u001b[38;5;124m\"\u001b[39m}:\n\u001b[1;32m    184\u001b[0m     \u001b[38;5;66;03m# Use NumPy API to support order\u001b[39;00m\n\u001b[0;32m--> 185\u001b[0m     array \u001b[38;5;241m=\u001b[39m \u001b[43mnumpy\u001b[49m\u001b[38;5;241;43m.\u001b[39;49m\u001b[43masarray\u001b[49m\u001b[43m(\u001b[49m\u001b[43marray\u001b[49m\u001b[43m,\u001b[49m\u001b[43m \u001b[49m\u001b[43morder\u001b[49m\u001b[38;5;241;43m=\u001b[39;49m\u001b[43morder\u001b[49m\u001b[43m,\u001b[49m\u001b[43m \u001b[49m\u001b[43mdtype\u001b[49m\u001b[38;5;241;43m=\u001b[39;49m\u001b[43mdtype\u001b[49m\u001b[43m)\u001b[49m\n\u001b[1;32m    186\u001b[0m     \u001b[38;5;28;01mreturn\u001b[39;00m xp\u001b[38;5;241m.\u001b[39masarray(array, copy\u001b[38;5;241m=\u001b[39mcopy)\n\u001b[1;32m    187\u001b[0m \u001b[38;5;28;01melse\u001b[39;00m:\n",
      "File \u001b[0;32m~/anaconda3/lib/python3.10/site-packages/pandas/core/series.py:893\u001b[0m, in \u001b[0;36mSeries.__array__\u001b[0;34m(self, dtype)\u001b[0m\n\u001b[1;32m    846\u001b[0m \u001b[38;5;28;01mdef\u001b[39;00m \u001b[38;5;21m__array__\u001b[39m(\u001b[38;5;28mself\u001b[39m, dtype: npt\u001b[38;5;241m.\u001b[39mDTypeLike \u001b[38;5;241m|\u001b[39m \u001b[38;5;28;01mNone\u001b[39;00m \u001b[38;5;241m=\u001b[39m \u001b[38;5;28;01mNone\u001b[39;00m) \u001b[38;5;241m-\u001b[39m\u001b[38;5;241m>\u001b[39m np\u001b[38;5;241m.\u001b[39mndarray:\n\u001b[1;32m    847\u001b[0m     \u001b[38;5;124;03m\"\"\"\u001b[39;00m\n\u001b[1;32m    848\u001b[0m \u001b[38;5;124;03m    Return the values as a NumPy array.\u001b[39;00m\n\u001b[1;32m    849\u001b[0m \n\u001b[0;32m   (...)\u001b[0m\n\u001b[1;32m    891\u001b[0m \u001b[38;5;124;03m          dtype='datetime64[ns]')\u001b[39;00m\n\u001b[1;32m    892\u001b[0m \u001b[38;5;124;03m    \"\"\"\u001b[39;00m\n\u001b[0;32m--> 893\u001b[0m     \u001b[38;5;28;01mreturn\u001b[39;00m \u001b[43mnp\u001b[49m\u001b[38;5;241;43m.\u001b[39;49m\u001b[43masarray\u001b[49m\u001b[43m(\u001b[49m\u001b[38;5;28;43mself\u001b[39;49m\u001b[38;5;241;43m.\u001b[39;49m\u001b[43m_values\u001b[49m\u001b[43m,\u001b[49m\u001b[43m \u001b[49m\u001b[43mdtype\u001b[49m\u001b[43m)\u001b[49m\n",
      "\u001b[0;31mValueError\u001b[0m: setting an array element with a sequence."
     ]
    }
   ],
   "source": [
    "knn_avgw2v=KNeighborsClassifier(n_neighbors=5,algorithm='brute')\n",
    "knn_avgw2v.fit(X_train,y_train)"
   ]
  },
  {
   "cell_type": "markdown",
   "id": "26fe4e80",
   "metadata": {},
   "source": [
    "### KNN ValueError: setting an array element with a sequence. \n",
    "\n",
    "Each row in the avgw2v has the shape (100,). When this data is fed as is into the KNN trianing set we get an error. The problem X_train is a 2D array where the element can be of any size. \n",
    "\n",
    "Inorder to fix this I had to convert each row item from (100,) to (1,100)"
   ]
  },
  {
   "cell_type": "code",
   "execution_count": 632,
   "id": "f4570806",
   "metadata": {},
   "outputs": [
    {
     "data": {
      "text/html": [
       "<style>#sk-container-id-14 {color: black;background-color: white;}#sk-container-id-14 pre{padding: 0;}#sk-container-id-14 div.sk-toggleable {background-color: white;}#sk-container-id-14 label.sk-toggleable__label {cursor: pointer;display: block;width: 100%;margin-bottom: 0;padding: 0.3em;box-sizing: border-box;text-align: center;}#sk-container-id-14 label.sk-toggleable__label-arrow:before {content: \"▸\";float: left;margin-right: 0.25em;color: #696969;}#sk-container-id-14 label.sk-toggleable__label-arrow:hover:before {color: black;}#sk-container-id-14 div.sk-estimator:hover label.sk-toggleable__label-arrow:before {color: black;}#sk-container-id-14 div.sk-toggleable__content {max-height: 0;max-width: 0;overflow: hidden;text-align: left;background-color: #f0f8ff;}#sk-container-id-14 div.sk-toggleable__content pre {margin: 0.2em;color: black;border-radius: 0.25em;background-color: #f0f8ff;}#sk-container-id-14 input.sk-toggleable__control:checked~div.sk-toggleable__content {max-height: 200px;max-width: 100%;overflow: auto;}#sk-container-id-14 input.sk-toggleable__control:checked~label.sk-toggleable__label-arrow:before {content: \"▾\";}#sk-container-id-14 div.sk-estimator input.sk-toggleable__control:checked~label.sk-toggleable__label {background-color: #d4ebff;}#sk-container-id-14 div.sk-label input.sk-toggleable__control:checked~label.sk-toggleable__label {background-color: #d4ebff;}#sk-container-id-14 input.sk-hidden--visually {border: 0;clip: rect(1px 1px 1px 1px);clip: rect(1px, 1px, 1px, 1px);height: 1px;margin: -1px;overflow: hidden;padding: 0;position: absolute;width: 1px;}#sk-container-id-14 div.sk-estimator {font-family: monospace;background-color: #f0f8ff;border: 1px dotted black;border-radius: 0.25em;box-sizing: border-box;margin-bottom: 0.5em;}#sk-container-id-14 div.sk-estimator:hover {background-color: #d4ebff;}#sk-container-id-14 div.sk-parallel-item::after {content: \"\";width: 100%;border-bottom: 1px solid gray;flex-grow: 1;}#sk-container-id-14 div.sk-label:hover label.sk-toggleable__label {background-color: #d4ebff;}#sk-container-id-14 div.sk-serial::before {content: \"\";position: absolute;border-left: 1px solid gray;box-sizing: border-box;top: 0;bottom: 0;left: 50%;z-index: 0;}#sk-container-id-14 div.sk-serial {display: flex;flex-direction: column;align-items: center;background-color: white;padding-right: 0.2em;padding-left: 0.2em;position: relative;}#sk-container-id-14 div.sk-item {position: relative;z-index: 1;}#sk-container-id-14 div.sk-parallel {display: flex;align-items: stretch;justify-content: center;background-color: white;position: relative;}#sk-container-id-14 div.sk-item::before, #sk-container-id-14 div.sk-parallel-item::before {content: \"\";position: absolute;border-left: 1px solid gray;box-sizing: border-box;top: 0;bottom: 0;left: 50%;z-index: -1;}#sk-container-id-14 div.sk-parallel-item {display: flex;flex-direction: column;z-index: 1;position: relative;background-color: white;}#sk-container-id-14 div.sk-parallel-item:first-child::after {align-self: flex-end;width: 50%;}#sk-container-id-14 div.sk-parallel-item:last-child::after {align-self: flex-start;width: 50%;}#sk-container-id-14 div.sk-parallel-item:only-child::after {width: 0;}#sk-container-id-14 div.sk-dashed-wrapped {border: 1px dashed gray;margin: 0 0.4em 0.5em 0.4em;box-sizing: border-box;padding-bottom: 0.4em;background-color: white;}#sk-container-id-14 div.sk-label label {font-family: monospace;font-weight: bold;display: inline-block;line-height: 1.2em;}#sk-container-id-14 div.sk-label-container {text-align: center;}#sk-container-id-14 div.sk-container {/* jupyter's `normalize.less` sets `[hidden] { display: none; }` but bootstrap.min.css set `[hidden] { display: none !important; }` so we also need the `!important` here to be able to override the default hidden behavior on the sphinx rendered scikit-learn.org. See: https://github.com/scikit-learn/scikit-learn/issues/21755 */display: inline-block !important;position: relative;}#sk-container-id-14 div.sk-text-repr-fallback {display: none;}</style><div id=\"sk-container-id-14\" class=\"sk-top-container\"><div class=\"sk-text-repr-fallback\"><pre>KNeighborsClassifier(algorithm=&#x27;brute&#x27;)</pre><b>In a Jupyter environment, please rerun this cell to show the HTML representation or trust the notebook. <br />On GitHub, the HTML representation is unable to render, please try loading this page with nbviewer.org.</b></div><div class=\"sk-container\" hidden><div class=\"sk-item\"><div class=\"sk-estimator sk-toggleable\"><input class=\"sk-toggleable__control sk-hidden--visually\" id=\"sk-estimator-id-20\" type=\"checkbox\" checked><label for=\"sk-estimator-id-20\" class=\"sk-toggleable__label sk-toggleable__label-arrow\">KNeighborsClassifier</label><div class=\"sk-toggleable__content\"><pre>KNeighborsClassifier(algorithm=&#x27;brute&#x27;)</pre></div></div></div></div></div>"
      ],
      "text/plain": [
       "KNeighborsClassifier(algorithm='brute')"
      ]
     },
     "execution_count": 632,
     "metadata": {},
     "output_type": "execute_result"
    }
   ],
   "source": [
    "# Convert the shape of avgw2v from (100,) to (1,100). \n",
    "full_array = np.empty((7469, 100))\n",
    "for index, row in df_avgw2v.iterrows():\n",
    "    arr = row['avgw2v'] \n",
    "    arr_flattened = np.reshape(arr, (1,np.product(arr.shape))) \n",
    "    np.append(full_array, arr_flattened, axis=0) \n",
    "    \n",
    "X = full_array\n",
    "y = df_avgw2v['target']\n",
    "X_train, X_test, y_train, y_test = train_test_split(X, y, random_state = 42)\n",
    "knn_avgw2v=KNeighborsClassifier(n_neighbors=5,algorithm='brute')\n",
    "knn_avgw2v.fit(X_train,y_train)"
   ]
  },
  {
   "cell_type": "code",
   "execution_count": 623,
   "id": "17580f4a",
   "metadata": {},
   "outputs": [],
   "source": []
  },
  {
   "cell_type": "markdown",
   "id": "0c0540ca",
   "metadata": {},
   "source": [
    "### What is BERT?\n",
    "BERT, short for Bidirectional Encoder Representations from Transformers, is a Machine Learning (ML) model for natural language processing. It was developed in 2018 by researchers at Google AI Language and serves as a swiss army knife solution to 11+ of the most common language tasks, such as sentiment analysis and named entity recognition.\n",
    "\n",
    "#### What is BERT used for?\n",
    "BERT can be used on a wide variety of language tasks:\n",
    "\n",
    "- Can determine how positive or negative a movie’s reviews are. (Sentiment Analysis)\n",
    "- Helps chatbots answer your questions. (Question answering)\n",
    "- Predicts your text when writing an email (Gmail). (Text prediction)\n",
    "- Can write an article about any topic with just a few sentence inputs. (Text generation)\n",
    "- Can quickly summarize long legal contracts. (Summarization)\n",
    "- Can differentiate words that have multiple meanings (like ‘bank’) based on the surrounding text. (Polysemy resolution)\n",
    "\n",
    "Reference - https://huggingface.co/blog/bert-101 "
   ]
  },
  {
   "cell_type": "code",
   "execution_count": null,
   "id": "8dc5e807",
   "metadata": {},
   "outputs": [],
   "source": [
    "!pip install transformers"
   ]
  },
  {
   "cell_type": "code",
   "execution_count": null,
   "id": "5bd08c84",
   "metadata": {},
   "outputs": [],
   "source": [
    "from transformers import pipeline\n",
    "unmasker = pipeline('fill-mask', model='bert-base-uncased')\n",
    "unmasker(\"Artificial Intelligence [MASK] take over the world.\")"
   ]
  },
  {
   "cell_type": "markdown",
   "id": "a8e4fd32",
   "metadata": {},
   "source": [
    "# BERT Embeddings\n",
    "\n",
    "Embeddings are representations of values or objects like text, images, and audio that are designed to be consumed by machine learning models and semantic search algorithms. They translate objects like these into a mathematical form according to the factors or traits each one may or may not have, and the categories they belong to.\n",
    "\n",
    "- https://mccormickml.com/2019/05/14/BERT-word-embeddings-tutorial/\n",
    "- https://medium.com/mlearning-ai/getting-contextualized-word-embeddings-with-bert-20798d8b43a4"
   ]
  },
  {
   "cell_type": "code",
   "execution_count": null,
   "id": "27dbd7aa",
   "metadata": {},
   "outputs": [],
   "source": [
    "from transformers import BertModel, BertTokenizer\n",
    "\n",
    "tokenizer = BertTokenizer.from_pretrained('bert-base-uncased')\n",
    "model = BertModel.from_pretrained('bert-base-uncased',\n",
    "           output_hidden_states = True,)\n"
   ]
  },
  {
   "cell_type": "code",
   "execution_count": null,
   "id": "b308e233",
   "metadata": {},
   "outputs": [],
   "source": [
    "def bert_text_preparation(text, tokenizer):\n",
    "    marked_text = \"[CLS] \" + text + \" [SEP]\"\n",
    "    tokenized_text = tokenizer.tokenize(marked_text)\n",
    "    indexed_tokens = tokenizer.convert_tokens_to_ids(tokenized_text)\n",
    "    segments_ids = [1]*len(indexed_tokens)\n",
    "    tokens_tensor = torch.tensor([indexed_tokens])\n",
    "    segments_tensor = torch.tensor([segments_ids])\n",
    "    return tokenized_text, tokens_tensor, segments_tensor"
   ]
  },
  {
   "cell_type": "code",
   "execution_count": null,
   "id": "5c4bf3cb",
   "metadata": {},
   "outputs": [],
   "source": [
    "def get_bert_embeddings(tokens_tensor, segments_tensor, model):\n",
    "    with torch.no_grad():\n",
    "        outputs = model(tokens_tensor, segments_tensor)\n",
    "        hidden_states = outputs[2]\n",
    "    token_embeddings = torch.stack(hidden_states, dim=0)\n",
    "    token_embeddings = torch.squeeze(token_embeddings, dim=1)\n",
    "    token_embeddings = token_embeddings.permute(1,0,2)\n",
    "    token_vecs_sum = []\n",
    "    for token in token_embeddings:\n",
    "        sum_vec = torch.sum(token[-4:], dim=0)\n",
    "        token_vecs_sum.append(sum_vec)\n",
    "    return token_vecs_sum"
   ]
  },
  {
   "cell_type": "code",
   "execution_count": null,
   "id": "d4f9be65",
   "metadata": {},
   "outputs": [],
   "source": [
    "sentence = \"residents asked shelter place being notified officers evacuation shelter place orders expected\"\n",
    "tokenized_text, tokens_tensor, segments_tensors = bert_text_preparation(sentence, tokenizer)\n",
    "embedding = get_bert_embeddings(tokens_tensor, segments_tensors, model)\n",
    "print(len(embedding))\n",
    "print(embedding)"
   ]
  },
  {
   "cell_type": "code",
   "execution_count": null,
   "id": "92c91f20",
   "metadata": {},
   "outputs": [],
   "source": []
  },
  {
   "cell_type": "code",
   "execution_count": null,
   "id": "9396dbb1",
   "metadata": {},
   "outputs": [],
   "source": []
  }
 ],
 "metadata": {
  "kernelspec": {
   "display_name": "Python 3 (ipykernel)",
   "language": "python",
   "name": "python3"
  },
  "language_info": {
   "codemirror_mode": {
    "name": "ipython",
    "version": 3
   },
   "file_extension": ".py",
   "mimetype": "text/x-python",
   "name": "python",
   "nbconvert_exporter": "python",
   "pygments_lexer": "ipython3",
   "version": "3.10.9"
  }
 },
 "nbformat": 4,
 "nbformat_minor": 5
}
