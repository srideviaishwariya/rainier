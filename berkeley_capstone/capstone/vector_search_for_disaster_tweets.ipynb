{
 "cells": [
  {
   "cell_type": "markdown",
   "id": "bd12e2a4",
   "metadata": {},
   "source": [
    "# What makes a Tweet an indicator of an ongoing Disaster \n",
    "\n",
    "We all know about the \"Boy who cried Wolf\", and it's equivalent tweets such as \"its shaking in San Francisco\" which could mean its fun being in SF or an earthqauke. \n",
    "\n",
    "In any disaster situation avaliabiltiy of the first responder could make the difference between life and death. Last year when there was severe weather system in Bayarea, crowd sourced tweets did a better job in giving updates on flood zones then any other medium. \n",
    "\n",
    "For a disaster management system supporting First responder team its important to understand when a tweet signals an actual disaster."
   ]
  },
  {
   "cell_type": "markdown",
   "id": "b83e1fa7",
   "metadata": {},
   "source": [
    "# Business Understanding\n",
    "\n",
    "From a business perspective, we are tasked with identifying patterns in the tweet that would indicate a disaster in progress and the first responders can respond quickly and efficiently in the form of \n",
    "- Tweets asking people to stay away form the disaster zone \n",
    "- Checking progress and providing additional support \n",
    "- Providing on time help "
   ]
  },
  {
   "cell_type": "markdown",
   "id": "87e97089",
   "metadata": {},
   "source": [
    "### Data Mining Goals and KPI\n",
    "\n",
    "- Build predictive model with 75% accuracy\n",
    "- Build predictive model with 75% recall\n",
    "- Build predictive model with 75% precision"
   ]
  },
  {
   "cell_type": "markdown",
   "id": "da728d78",
   "metadata": {},
   "source": [
    "# Data Understanding\n",
    "\n",
    "The Data is from Kaggle (https://www.kaggle.com/competitions/nlp-getting-started/overview). Given its a getting started NLP project there are multiple articles and solutions provided online to solve it. \n",
    "List of sources I referred,\n",
    "- https://www.kaggle.com/competitions/nlp-getting-started/code \n",
    "- https://www.kaggle.com/code/jessicaval/disaster-tweets-prediction-logreg-embeddings\n",
    "- https://medium.com/analytics-vidhya/introduction-to-nlp-with-disaster-tweets-3b672a75748c\n",
    "\n",
    "\n",
    "### The data is made of the following attributes \n",
    "\n",
    "- id: a unique identifier of every tweet\n",
    "- keyword: a particular keyword from the tweet (this can be blank)\n",
    "- location: the location the tweet was sent from (this can be blank)\n",
    "- text: the text of the tweet\n",
    "- target: present only in the train data, and denotes if the tweet is about a real disaster (1) or not (0)"
   ]
  },
  {
   "cell_type": "code",
   "execution_count": 1,
   "id": "770845a1",
   "metadata": {},
   "outputs": [],
   "source": [
    "import pandas as pd\n",
    "import numpy as np\n",
    "import string"
   ]
  },
  {
   "cell_type": "code",
   "execution_count": 2,
   "id": "dc949da4",
   "metadata": {},
   "outputs": [
    {
     "data": {
      "text/html": [
       "<div>\n",
       "<style scoped>\n",
       "    .dataframe tbody tr th:only-of-type {\n",
       "        vertical-align: middle;\n",
       "    }\n",
       "\n",
       "    .dataframe tbody tr th {\n",
       "        vertical-align: top;\n",
       "    }\n",
       "\n",
       "    .dataframe thead th {\n",
       "        text-align: right;\n",
       "    }\n",
       "</style>\n",
       "<table border=\"1\" class=\"dataframe\">\n",
       "  <thead>\n",
       "    <tr style=\"text-align: right;\">\n",
       "      <th></th>\n",
       "      <th>id</th>\n",
       "      <th>keyword</th>\n",
       "      <th>location</th>\n",
       "      <th>text</th>\n",
       "    </tr>\n",
       "  </thead>\n",
       "  <tbody>\n",
       "    <tr>\n",
       "      <th>0</th>\n",
       "      <td>0</td>\n",
       "      <td>NaN</td>\n",
       "      <td>NaN</td>\n",
       "      <td>Just happened a terrible car crash</td>\n",
       "    </tr>\n",
       "    <tr>\n",
       "      <th>1</th>\n",
       "      <td>2</td>\n",
       "      <td>NaN</td>\n",
       "      <td>NaN</td>\n",
       "      <td>Heard about #earthquake is different cities, s...</td>\n",
       "    </tr>\n",
       "    <tr>\n",
       "      <th>2</th>\n",
       "      <td>3</td>\n",
       "      <td>NaN</td>\n",
       "      <td>NaN</td>\n",
       "      <td>there is a forest fire at spot pond, geese are...</td>\n",
       "    </tr>\n",
       "    <tr>\n",
       "      <th>3</th>\n",
       "      <td>9</td>\n",
       "      <td>NaN</td>\n",
       "      <td>NaN</td>\n",
       "      <td>Apocalypse lighting. #Spokane #wildfires</td>\n",
       "    </tr>\n",
       "    <tr>\n",
       "      <th>4</th>\n",
       "      <td>11</td>\n",
       "      <td>NaN</td>\n",
       "      <td>NaN</td>\n",
       "      <td>Typhoon Soudelor kills 28 in China and Taiwan</td>\n",
       "    </tr>\n",
       "  </tbody>\n",
       "</table>\n",
       "</div>"
      ],
      "text/plain": [
       "   id keyword location                                               text\n",
       "0   0     NaN      NaN                 Just happened a terrible car crash\n",
       "1   2     NaN      NaN  Heard about #earthquake is different cities, s...\n",
       "2   3     NaN      NaN  there is a forest fire at spot pond, geese are...\n",
       "3   9     NaN      NaN           Apocalypse lighting. #Spokane #wildfires\n",
       "4  11     NaN      NaN      Typhoon Soudelor kills 28 in China and Taiwan"
      ]
     },
     "execution_count": 2,
     "metadata": {},
     "output_type": "execute_result"
    }
   ],
   "source": [
    "df_test = pd.read_csv('nlp-getting-started/test.csv')\n",
    "df_test.head()"
   ]
  },
  {
   "cell_type": "code",
   "execution_count": 3,
   "id": "325eeb64",
   "metadata": {},
   "outputs": [
    {
     "data": {
      "text/html": [
       "<div>\n",
       "<style scoped>\n",
       "    .dataframe tbody tr th:only-of-type {\n",
       "        vertical-align: middle;\n",
       "    }\n",
       "\n",
       "    .dataframe tbody tr th {\n",
       "        vertical-align: top;\n",
       "    }\n",
       "\n",
       "    .dataframe thead th {\n",
       "        text-align: right;\n",
       "    }\n",
       "</style>\n",
       "<table border=\"1\" class=\"dataframe\">\n",
       "  <thead>\n",
       "    <tr style=\"text-align: right;\">\n",
       "      <th></th>\n",
       "      <th>id</th>\n",
       "      <th>keyword</th>\n",
       "      <th>location</th>\n",
       "      <th>text</th>\n",
       "      <th>target</th>\n",
       "    </tr>\n",
       "  </thead>\n",
       "  <tbody>\n",
       "    <tr>\n",
       "      <th>0</th>\n",
       "      <td>1</td>\n",
       "      <td>NaN</td>\n",
       "      <td>NaN</td>\n",
       "      <td>Our Deeds are the Reason of this #earthquake M...</td>\n",
       "      <td>1</td>\n",
       "    </tr>\n",
       "    <tr>\n",
       "      <th>1</th>\n",
       "      <td>4</td>\n",
       "      <td>NaN</td>\n",
       "      <td>NaN</td>\n",
       "      <td>Forest fire near La Ronge Sask. Canada</td>\n",
       "      <td>1</td>\n",
       "    </tr>\n",
       "    <tr>\n",
       "      <th>2</th>\n",
       "      <td>5</td>\n",
       "      <td>NaN</td>\n",
       "      <td>NaN</td>\n",
       "      <td>All residents asked to 'shelter in place' are ...</td>\n",
       "      <td>1</td>\n",
       "    </tr>\n",
       "    <tr>\n",
       "      <th>3</th>\n",
       "      <td>6</td>\n",
       "      <td>NaN</td>\n",
       "      <td>NaN</td>\n",
       "      <td>13,000 people receive #wildfires evacuation or...</td>\n",
       "      <td>1</td>\n",
       "    </tr>\n",
       "    <tr>\n",
       "      <th>4</th>\n",
       "      <td>7</td>\n",
       "      <td>NaN</td>\n",
       "      <td>NaN</td>\n",
       "      <td>Just got sent this photo from Ruby #Alaska as ...</td>\n",
       "      <td>1</td>\n",
       "    </tr>\n",
       "  </tbody>\n",
       "</table>\n",
       "</div>"
      ],
      "text/plain": [
       "   id keyword location                                               text  \\\n",
       "0   1     NaN      NaN  Our Deeds are the Reason of this #earthquake M...   \n",
       "1   4     NaN      NaN             Forest fire near La Ronge Sask. Canada   \n",
       "2   5     NaN      NaN  All residents asked to 'shelter in place' are ...   \n",
       "3   6     NaN      NaN  13,000 people receive #wildfires evacuation or...   \n",
       "4   7     NaN      NaN  Just got sent this photo from Ruby #Alaska as ...   \n",
       "\n",
       "   target  \n",
       "0       1  \n",
       "1       1  \n",
       "2       1  \n",
       "3       1  \n",
       "4       1  "
      ]
     },
     "execution_count": 3,
     "metadata": {},
     "output_type": "execute_result"
    }
   ],
   "source": [
    "df = pd.read_csv('nlp-getting-started/train.csv')\n",
    "df.head()"
   ]
  },
  {
   "cell_type": "code",
   "execution_count": 4,
   "id": "2384f18e",
   "metadata": {},
   "outputs": [
    {
     "data": {
      "text/plain": [
       "(7613, 5)"
      ]
     },
     "execution_count": 4,
     "metadata": {},
     "output_type": "execute_result"
    }
   ],
   "source": [
    "df.shape"
   ]
  },
  {
   "cell_type": "code",
   "execution_count": 5,
   "id": "ab10e5c9",
   "metadata": {},
   "outputs": [
    {
     "name": "stdout",
     "output_type": "stream",
     "text": [
      "There are 3 categorical variables\n",
      "\n",
      "The categorical variables are : ['keyword', 'location', 'text']\n"
     ]
    }
   ],
   "source": [
    "categorical = [var for var in df.columns if df[var].dtype in ['object', 'category', 'string']]\n",
    "print('There are {} categorical variables\\n'.format(len(categorical)))\n",
    "print('The categorical variables are :', categorical)"
   ]
  },
  {
   "cell_type": "code",
   "execution_count": 6,
   "id": "e1cd79c8",
   "metadata": {},
   "outputs": [
    {
     "data": {
      "text/html": [
       "<div>\n",
       "<style scoped>\n",
       "    .dataframe tbody tr th:only-of-type {\n",
       "        vertical-align: middle;\n",
       "    }\n",
       "\n",
       "    .dataframe tbody tr th {\n",
       "        vertical-align: top;\n",
       "    }\n",
       "\n",
       "    .dataframe thead th {\n",
       "        text-align: right;\n",
       "    }\n",
       "</style>\n",
       "<table border=\"1\" class=\"dataframe\">\n",
       "  <thead>\n",
       "    <tr style=\"text-align: right;\">\n",
       "      <th></th>\n",
       "      <th>keyword</th>\n",
       "      <th>location</th>\n",
       "      <th>text</th>\n",
       "    </tr>\n",
       "  </thead>\n",
       "  <tbody>\n",
       "    <tr>\n",
       "      <th>0</th>\n",
       "      <td>NaN</td>\n",
       "      <td>NaN</td>\n",
       "      <td>Our Deeds are the Reason of this #earthquake M...</td>\n",
       "    </tr>\n",
       "    <tr>\n",
       "      <th>1</th>\n",
       "      <td>NaN</td>\n",
       "      <td>NaN</td>\n",
       "      <td>Forest fire near La Ronge Sask. Canada</td>\n",
       "    </tr>\n",
       "    <tr>\n",
       "      <th>2</th>\n",
       "      <td>NaN</td>\n",
       "      <td>NaN</td>\n",
       "      <td>All residents asked to 'shelter in place' are ...</td>\n",
       "    </tr>\n",
       "    <tr>\n",
       "      <th>3</th>\n",
       "      <td>NaN</td>\n",
       "      <td>NaN</td>\n",
       "      <td>13,000 people receive #wildfires evacuation or...</td>\n",
       "    </tr>\n",
       "    <tr>\n",
       "      <th>4</th>\n",
       "      <td>NaN</td>\n",
       "      <td>NaN</td>\n",
       "      <td>Just got sent this photo from Ruby #Alaska as ...</td>\n",
       "    </tr>\n",
       "  </tbody>\n",
       "</table>\n",
       "</div>"
      ],
      "text/plain": [
       "  keyword location                                               text\n",
       "0     NaN      NaN  Our Deeds are the Reason of this #earthquake M...\n",
       "1     NaN      NaN             Forest fire near La Ronge Sask. Canada\n",
       "2     NaN      NaN  All residents asked to 'shelter in place' are ...\n",
       "3     NaN      NaN  13,000 people receive #wildfires evacuation or...\n",
       "4     NaN      NaN  Just got sent this photo from Ruby #Alaska as ..."
      ]
     },
     "execution_count": 6,
     "metadata": {},
     "output_type": "execute_result"
    }
   ],
   "source": [
    "df[categorical].head()"
   ]
  },
  {
   "cell_type": "code",
   "execution_count": 7,
   "id": "bc8cc8c9",
   "metadata": {},
   "outputs": [
    {
     "data": {
      "text/plain": [
       "fatalities               45\n",
       "deluge                   42\n",
       "armageddon               42\n",
       "sinking                  41\n",
       "damage                   41\n",
       "                         ..\n",
       "forest%20fire            19\n",
       "epicentre                12\n",
       "threat                   11\n",
       "inundation               10\n",
       "radiation%20emergency     9\n",
       "Name: keyword, Length: 221, dtype: int64"
      ]
     },
     "execution_count": 7,
     "metadata": {},
     "output_type": "execute_result"
    }
   ],
   "source": [
    "df.keyword.value_counts()"
   ]
  },
  {
   "cell_type": "code",
   "execution_count": 8,
   "id": "d8a3b77f",
   "metadata": {},
   "outputs": [
    {
     "data": {
      "text/plain": [
       "USA                    104\n",
       "New York                71\n",
       "United States           50\n",
       "London                  45\n",
       "Canada                  29\n",
       "                      ... \n",
       "MontrÌ©al, QuÌ©bec       1\n",
       "Montreal                 1\n",
       "ÌÏT: 6.4682,3.18287      1\n",
       "Live4Heed??              1\n",
       "Lincoln                  1\n",
       "Name: location, Length: 3341, dtype: int64"
      ]
     },
     "execution_count": 8,
     "metadata": {},
     "output_type": "execute_result"
    }
   ],
   "source": [
    "df.location.value_counts()"
   ]
  },
  {
   "cell_type": "markdown",
   "id": "d1adff20",
   "metadata": {},
   "source": [
    "### Null value Count"
   ]
  },
  {
   "cell_type": "code",
   "execution_count": 9,
   "id": "ee91c176",
   "metadata": {},
   "outputs": [
    {
     "data": {
      "text/plain": [
       "keyword       61\n",
       "location    2533\n",
       "text           0\n",
       "dtype: int64"
      ]
     },
     "execution_count": 9,
     "metadata": {},
     "output_type": "execute_result"
    }
   ],
   "source": [
    "df[categorical].isnull().sum()"
   ]
  },
  {
   "cell_type": "markdown",
   "id": "9352f7bf",
   "metadata": {},
   "source": [
    "### Frequency distribution of categorical variables"
   ]
  },
  {
   "cell_type": "code",
   "execution_count": 10,
   "id": "4d6e9749",
   "metadata": {},
   "outputs": [
    {
     "name": "stdout",
     "output_type": "stream",
     "text": [
      "fatalities               0.005911\n",
      "deluge                   0.005517\n",
      "armageddon               0.005517\n",
      "sinking                  0.005386\n",
      "damage                   0.005386\n",
      "                           ...   \n",
      "forest%20fire            0.002496\n",
      "epicentre                0.001576\n",
      "threat                   0.001445\n",
      "inundation               0.001314\n",
      "radiation%20emergency    0.001182\n",
      "Name: keyword, Length: 221, dtype: float64\n",
      "USA                    0.013661\n",
      "New York               0.009326\n",
      "United States          0.006568\n",
      "London                 0.005911\n",
      "Canada                 0.003809\n",
      "                         ...   \n",
      "MontrÌ©al, QuÌ©bec     0.000131\n",
      "Montreal               0.000131\n",
      "ÌÏT: 6.4682,3.18287    0.000131\n",
      "Live4Heed??            0.000131\n",
      "Lincoln                0.000131\n",
      "Name: location, Length: 3341, dtype: float64\n",
      "11-Year-Old Boy Charged With Manslaughter of Toddler: Report: An 11-year-old boy has been charged with manslaughter over the fatal sh...        0.001314\n",
      "He came to a land which was engulfed in tribal war and turned it into a land of peace i.e. Madinah. #ProphetMuhammad #islam                     0.000788\n",
      "The Prophet (peace be upon him) said 'Save yourself from Hellfire even if it is by giving half a date in charity.'                              0.000788\n",
      "#Bestnaijamade: 16yr old PKK suicide bomber who detonated bomb in ... http://t.co/KSAwlYuX02 bestnaijamade bestnaijamade bestnaijamade beÛ_    0.000788\n",
      "Madhya Pradesh Train Derailment: Village Youth Saved Many Lives                                                                                 0.000657\n",
      "                                                                                                                                                  ...   \n",
      "Escape The Heat (and the #ORShow) for a trail run on Desolation Loop you'll be glad you did http://t.co/n2ucNzh38P http://t.co/VU8fWYMw5r       0.000131\n",
      "Hey girl you must be Toe Hobbit: Part Two: ghe Desolation of Smaug because I'm not interested in seeing you. Sorry.                             0.000131\n",
      "Emotional Desolation the effect of alcoholism/addiction on family - http://t.co/31tGtLz3YA Forgiving is hard http://t.co/C7rcO2eMwF             0.000131\n",
      "Fotoset: elanorofrohan: 10th December 2013 Green Carpet in Zurich for the Swiss Premiere of The Desolation... http://t.co/BQ3P7n7w06            0.000131\n",
      "The Latest: More Homes Razed by Northern California Wildfire - ABC News http://t.co/YmY4rSkQ3d                                                  0.000131\n",
      "Name: text, Length: 7503, dtype: float64\n"
     ]
    },
    {
     "name": "stderr",
     "output_type": "stream",
     "text": [
      "/var/folders/3y/h66zz12x4p9_7hpzsntxf_6m0000gn/T/ipykernel_67911/2172132597.py:2: DeprecationWarning: `np.float` is a deprecated alias for the builtin `float`. To silence this warning, use `float` by itself. Doing this will not modify any behavior and is safe. If you specifically wanted the numpy scalar type, use `np.float64` here.\n",
      "Deprecated in NumPy 1.20; for more details and guidance: https://numpy.org/devdocs/release/1.20.0-notes.html#deprecations\n",
      "  print(df[var].value_counts()/np.float(len(df)))\n",
      "/var/folders/3y/h66zz12x4p9_7hpzsntxf_6m0000gn/T/ipykernel_67911/2172132597.py:2: DeprecationWarning: `np.float` is a deprecated alias for the builtin `float`. To silence this warning, use `float` by itself. Doing this will not modify any behavior and is safe. If you specifically wanted the numpy scalar type, use `np.float64` here.\n",
      "Deprecated in NumPy 1.20; for more details and guidance: https://numpy.org/devdocs/release/1.20.0-notes.html#deprecations\n",
      "  print(df[var].value_counts()/np.float(len(df)))\n",
      "/var/folders/3y/h66zz12x4p9_7hpzsntxf_6m0000gn/T/ipykernel_67911/2172132597.py:2: DeprecationWarning: `np.float` is a deprecated alias for the builtin `float`. To silence this warning, use `float` by itself. Doing this will not modify any behavior and is safe. If you specifically wanted the numpy scalar type, use `np.float64` here.\n",
      "Deprecated in NumPy 1.20; for more details and guidance: https://numpy.org/devdocs/release/1.20.0-notes.html#deprecations\n",
      "  print(df[var].value_counts()/np.float(len(df)))\n"
     ]
    }
   ],
   "source": [
    "for var in categorical: \n",
    "    print(df[var].value_counts()/np.float(len(df)))"
   ]
  },
  {
   "cell_type": "markdown",
   "id": "bdb26706",
   "metadata": {},
   "source": [
    "### Remove Duplicate tweets "
   ]
  },
  {
   "cell_type": "code",
   "execution_count": 11,
   "id": "3efed2a8",
   "metadata": {},
   "outputs": [
    {
     "data": {
      "text/plain": [
       "(179, 5)"
      ]
     },
     "execution_count": 11,
     "metadata": {},
     "output_type": "execute_result"
    }
   ],
   "source": [
    "#Find all the duplicated Tweets\n",
    "df_duplicated = df[df.duplicated([\"text\"], keep = False)] #179 rows\n",
    "df_duplicated.shape"
   ]
  },
  {
   "cell_type": "code",
   "execution_count": 12,
   "id": "040c815c",
   "metadata": {},
   "outputs": [
    {
     "data": {
      "text/plain": [
       "(7552, 5)"
      ]
     },
     "execution_count": 12,
     "metadata": {},
     "output_type": "execute_result"
    }
   ],
   "source": [
    "df = df.drop_duplicates(subset=['keyword','location','text'])\n",
    "df.shape"
   ]
  },
  {
   "cell_type": "markdown",
   "id": "efc42159",
   "metadata": {},
   "source": [
    "### Remove tweets labelled more then once "
   ]
  },
  {
   "cell_type": "code",
   "execution_count": 13,
   "id": "16aac04f",
   "metadata": {},
   "outputs": [
    {
     "data": {
      "text/html": [
       "<div>\n",
       "<style scoped>\n",
       "    .dataframe tbody tr th:only-of-type {\n",
       "        vertical-align: middle;\n",
       "    }\n",
       "\n",
       "    .dataframe tbody tr th {\n",
       "        vertical-align: top;\n",
       "    }\n",
       "\n",
       "    .dataframe thead th {\n",
       "        text-align: right;\n",
       "    }\n",
       "</style>\n",
       "<table border=\"1\" class=\"dataframe\">\n",
       "  <thead>\n",
       "    <tr style=\"text-align: right;\">\n",
       "      <th></th>\n",
       "      <th>id</th>\n",
       "      <th>keyword</th>\n",
       "      <th>location</th>\n",
       "      <th>text</th>\n",
       "      <th>target</th>\n",
       "    </tr>\n",
       "  </thead>\n",
       "  <tbody>\n",
       "    <tr>\n",
       "      <th>1197</th>\n",
       "      <td>1723</td>\n",
       "      <td>buildings%20burning</td>\n",
       "      <td>Mackay, QLD, Australia</td>\n",
       "      <td>Mmmmmm I'm burning.... I'm burning buildings I'm building.... Oooooohhhh oooh ooh...</td>\n",
       "      <td>1</td>\n",
       "    </tr>\n",
       "    <tr>\n",
       "      <th>1214</th>\n",
       "      <td>1752</td>\n",
       "      <td>buildings%20burning</td>\n",
       "      <td>Epic City, BB.</td>\n",
       "      <td>I Pledge Allegiance To The P.O.P.E. And The Burning Buildings of Epic City. ??????</td>\n",
       "      <td>0</td>\n",
       "    </tr>\n",
       "    <tr>\n",
       "      <th>1221</th>\n",
       "      <td>1760</td>\n",
       "      <td>buildings%20burning</td>\n",
       "      <td>dallas</td>\n",
       "      <td>like for the music video I want some real action shit like burning buildings and police chases not some weak ben winston shit</td>\n",
       "      <td>1</td>\n",
       "    </tr>\n",
       "    <tr>\n",
       "      <th>1331</th>\n",
       "      <td>1922</td>\n",
       "      <td>burning%20buildings</td>\n",
       "      <td>Mackay, QLD, Australia</td>\n",
       "      <td>Mmmmmm I'm burning.... I'm burning buildings I'm building.... Oooooohhhh oooh ooh...</td>\n",
       "      <td>0</td>\n",
       "    </tr>\n",
       "    <tr>\n",
       "      <th>1349</th>\n",
       "      <td>1950</td>\n",
       "      <td>burning%20buildings</td>\n",
       "      <td>dallas</td>\n",
       "      <td>like for the music video I want some real action shit like burning buildings and police chases not some weak ben winston shit</td>\n",
       "      <td>0</td>\n",
       "    </tr>\n",
       "    <tr>\n",
       "      <th>1365</th>\n",
       "      <td>1968</td>\n",
       "      <td>burning%20buildings</td>\n",
       "      <td>Epic City, BB.</td>\n",
       "      <td>I Pledge Allegiance To The P.O.P.E. And The Burning Buildings of Epic City. ??????</td>\n",
       "      <td>1</td>\n",
       "    </tr>\n",
       "    <tr>\n",
       "      <th>3240</th>\n",
       "      <td>4656</td>\n",
       "      <td>engulfed</td>\n",
       "      <td>NaN</td>\n",
       "      <td>He came to a land which was engulfed in tribal war and turned it into a land of peace i.e. Madinah. #ProphetMuhammad #islam</td>\n",
       "      <td>0</td>\n",
       "    </tr>\n",
       "    <tr>\n",
       "      <th>3243</th>\n",
       "      <td>4659</td>\n",
       "      <td>engulfed</td>\n",
       "      <td>Kuwait</td>\n",
       "      <td>He came to a land which was engulfed in tribal war and turned it into a land of peace i.e. Madinah. #ProphetMuhammad #islam</td>\n",
       "      <td>1</td>\n",
       "    </tr>\n",
       "    <tr>\n",
       "      <th>3248</th>\n",
       "      <td>4669</td>\n",
       "      <td>engulfed</td>\n",
       "      <td>Bahrain</td>\n",
       "      <td>He came to a land which was engulfed in tribal war and turned it into a land of peace i.e. Madinah. #ProphetMuhammad #islam</td>\n",
       "      <td>1</td>\n",
       "    </tr>\n",
       "    <tr>\n",
       "      <th>4221</th>\n",
       "      <td>5996</td>\n",
       "      <td>hazardous</td>\n",
       "      <td>NaN</td>\n",
       "      <td>#foodscare #offers2go #NestleIndia slips into loss after #Magginoodle #ban unsafe and hazardous for #humanconsumption</td>\n",
       "      <td>1</td>\n",
       "    </tr>\n",
       "    <tr>\n",
       "      <th>4239</th>\n",
       "      <td>6023</td>\n",
       "      <td>hazardous</td>\n",
       "      <td>Mysore, Karnataka</td>\n",
       "      <td>#foodscare #offers2go #NestleIndia slips into loss after #Magginoodle #ban unsafe and hazardous for #humanconsumption</td>\n",
       "      <td>1</td>\n",
       "    </tr>\n",
       "    <tr>\n",
       "      <th>4244</th>\n",
       "      <td>6031</td>\n",
       "      <td>hazardous</td>\n",
       "      <td>New Delhi, Delhi</td>\n",
       "      <td>#foodscare #offers2go #NestleIndia slips into loss after #Magginoodle #ban unsafe and hazardous for #humanconsumption</td>\n",
       "      <td>0</td>\n",
       "    </tr>\n",
       "    <tr>\n",
       "      <th>4290</th>\n",
       "      <td>6094</td>\n",
       "      <td>hellfire</td>\n",
       "      <td>Jubail IC, Saudi Arabia.</td>\n",
       "      <td>#Allah describes piling up #wealth thinking it would last #forever as the description of the people of #Hellfire in Surah Humaza. #Reflect</td>\n",
       "      <td>0</td>\n",
       "    </tr>\n",
       "    <tr>\n",
       "      <th>4299</th>\n",
       "      <td>6105</td>\n",
       "      <td>hellfire</td>\n",
       "      <td>?????? ??? ?????? ????????</td>\n",
       "      <td>#Allah describes piling up #wealth thinking it would last #forever as the description of the people of #Hellfire in Surah Humaza. #Reflect</td>\n",
       "      <td>0</td>\n",
       "    </tr>\n",
       "    <tr>\n",
       "      <th>4306</th>\n",
       "      <td>6113</td>\n",
       "      <td>hellfire</td>\n",
       "      <td>NaN</td>\n",
       "      <td>Hellfire! We donÛªt even want to think about it or mention it so letÛªs not do anything that leads to it #islam!</td>\n",
       "      <td>0</td>\n",
       "    </tr>\n",
       "    <tr>\n",
       "      <th>4312</th>\n",
       "      <td>6123</td>\n",
       "      <td>hellfire</td>\n",
       "      <td>?????? ???? ??????</td>\n",
       "      <td>#Allah describes piling up #wealth thinking it would last #forever as the description of the people of #Hellfire in Surah Humaza. #Reflect</td>\n",
       "      <td>1</td>\n",
       "    </tr>\n",
       "    <tr>\n",
       "      <th>4320</th>\n",
       "      <td>6134</td>\n",
       "      <td>hellfire</td>\n",
       "      <td>Riyadh ')</td>\n",
       "      <td>Hellfire! We donÛªt even want to think about it or mention it so letÛªs not do anything that leads to it #islam!</td>\n",
       "      <td>1</td>\n",
       "    </tr>\n",
       "    <tr>\n",
       "      <th>6091</th>\n",
       "      <td>8698</td>\n",
       "      <td>sinking</td>\n",
       "      <td>Every Where in the World</td>\n",
       "      <td>that horrible sinking feeling when youÛªve been at home on your phone for a while and you realise its been on 3G this whole time</td>\n",
       "      <td>1</td>\n",
       "    </tr>\n",
       "    <tr>\n",
       "      <th>6094</th>\n",
       "      <td>8702</td>\n",
       "      <td>sinking</td>\n",
       "      <td>NaN</td>\n",
       "      <td>that horrible sinking feeling when youÛªve been at home on your phone for a while and you realise its been on 3G this whole time</td>\n",
       "      <td>0</td>\n",
       "    </tr>\n",
       "    <tr>\n",
       "      <th>6123</th>\n",
       "      <td>8739</td>\n",
       "      <td>sinking</td>\n",
       "      <td>MA</td>\n",
       "      <td>that horrible sinking feeling when youÛªve been at home on your phone for a while and you realise its been on 3G this whole time</td>\n",
       "      <td>1</td>\n",
       "    </tr>\n",
       "  </tbody>\n",
       "</table>\n",
       "</div>"
      ],
      "text/plain": [
       "        id              keyword                    location  \\\n",
       "1197  1723  buildings%20burning      Mackay, QLD, Australia   \n",
       "1214  1752  buildings%20burning              Epic City, BB.   \n",
       "1221  1760  buildings%20burning                      dallas   \n",
       "1331  1922  burning%20buildings      Mackay, QLD, Australia   \n",
       "1349  1950  burning%20buildings                      dallas   \n",
       "1365  1968  burning%20buildings              Epic City, BB.   \n",
       "3240  4656             engulfed                         NaN   \n",
       "3243  4659             engulfed                     Kuwait    \n",
       "3248  4669             engulfed                     Bahrain   \n",
       "4221  5996            hazardous                         NaN   \n",
       "4239  6023            hazardous           Mysore, Karnataka   \n",
       "4244  6031            hazardous            New Delhi, Delhi   \n",
       "4290  6094             hellfire    Jubail IC, Saudi Arabia.   \n",
       "4299  6105             hellfire  ?????? ??? ?????? ????????   \n",
       "4306  6113             hellfire                         NaN   \n",
       "4312  6123             hellfire          ?????? ???? ??????   \n",
       "4320  6134             hellfire                   Riyadh ')   \n",
       "6091  8698              sinking    Every Where in the World   \n",
       "6094  8702              sinking                         NaN   \n",
       "6123  8739              sinking                          MA   \n",
       "\n",
       "                                                                                                                                            text  \\\n",
       "1197                                                        Mmmmmm I'm burning.... I'm burning buildings I'm building.... Oooooohhhh oooh ooh...   \n",
       "1214                                                          I Pledge Allegiance To The P.O.P.E. And The Burning Buildings of Epic City. ??????   \n",
       "1221               like for the music video I want some real action shit like burning buildings and police chases not some weak ben winston shit   \n",
       "1331                                                        Mmmmmm I'm burning.... I'm burning buildings I'm building.... Oooooohhhh oooh ooh...   \n",
       "1349               like for the music video I want some real action shit like burning buildings and police chases not some weak ben winston shit   \n",
       "1365                                                          I Pledge Allegiance To The P.O.P.E. And The Burning Buildings of Epic City. ??????   \n",
       "3240                 He came to a land which was engulfed in tribal war and turned it into a land of peace i.e. Madinah. #ProphetMuhammad #islam   \n",
       "3243                 He came to a land which was engulfed in tribal war and turned it into a land of peace i.e. Madinah. #ProphetMuhammad #islam   \n",
       "3248                 He came to a land which was engulfed in tribal war and turned it into a land of peace i.e. Madinah. #ProphetMuhammad #islam   \n",
       "4221                       #foodscare #offers2go #NestleIndia slips into loss after #Magginoodle #ban unsafe and hazardous for #humanconsumption   \n",
       "4239                       #foodscare #offers2go #NestleIndia slips into loss after #Magginoodle #ban unsafe and hazardous for #humanconsumption   \n",
       "4244                       #foodscare #offers2go #NestleIndia slips into loss after #Magginoodle #ban unsafe and hazardous for #humanconsumption   \n",
       "4290  #Allah describes piling up #wealth thinking it would last #forever as the description of the people of #Hellfire in Surah Humaza. #Reflect   \n",
       "4299  #Allah describes piling up #wealth thinking it would last #forever as the description of the people of #Hellfire in Surah Humaza. #Reflect   \n",
       "4306                          Hellfire! We donÛªt even want to think about it or mention it so letÛªs not do anything that leads to it #islam!   \n",
       "4312  #Allah describes piling up #wealth thinking it would last #forever as the description of the people of #Hellfire in Surah Humaza. #Reflect   \n",
       "4320                          Hellfire! We donÛªt even want to think about it or mention it so letÛªs not do anything that leads to it #islam!   \n",
       "6091           that horrible sinking feeling when youÛªve been at home on your phone for a while and you realise its been on 3G this whole time   \n",
       "6094           that horrible sinking feeling when youÛªve been at home on your phone for a while and you realise its been on 3G this whole time   \n",
       "6123           that horrible sinking feeling when youÛªve been at home on your phone for a while and you realise its been on 3G this whole time   \n",
       "\n",
       "      target  \n",
       "1197       1  \n",
       "1214       0  \n",
       "1221       1  \n",
       "1331       0  \n",
       "1349       0  \n",
       "1365       1  \n",
       "3240       0  \n",
       "3243       1  \n",
       "3248       1  \n",
       "4221       1  \n",
       "4239       1  \n",
       "4244       0  \n",
       "4290       0  \n",
       "4299       0  \n",
       "4306       0  \n",
       "4312       1  \n",
       "4320       1  \n",
       "6091       1  \n",
       "6094       0  \n",
       "6123       1  "
      ]
     },
     "execution_count": 13,
     "metadata": {},
     "output_type": "execute_result"
    }
   ],
   "source": [
    "#Find all the tweets that have been labeled more than once\n",
    "pd.set_option('display.max_colwidth', None) #to display the whole text\n",
    "df_errors = df.groupby('text').filter(lambda x: x['target'].nunique() > 1, display)\n",
    "df_errors.head(20)"
   ]
  },
  {
   "cell_type": "code",
   "execution_count": 14,
   "id": "a19bf51c",
   "metadata": {},
   "outputs": [
    {
     "data": {
      "text/plain": [
       "(22, 5)"
      ]
     },
     "execution_count": 14,
     "metadata": {},
     "output_type": "execute_result"
    }
   ],
   "source": [
    "df_errors.shape"
   ]
  },
  {
   "cell_type": "code",
   "execution_count": 15,
   "id": "a0ee95d0",
   "metadata": {},
   "outputs": [],
   "source": [
    "# remove the errors from the training dataset \n",
    "df = df[~df.id.isin(df_errors.id)]"
   ]
  },
  {
   "cell_type": "code",
   "execution_count": 16,
   "id": "b598ccf7",
   "metadata": {},
   "outputs": [
    {
     "data": {
      "text/plain": [
       "(7530, 5)"
      ]
     },
     "execution_count": 16,
     "metadata": {},
     "output_type": "execute_result"
    }
   ],
   "source": [
    "df.shape"
   ]
  },
  {
   "cell_type": "code",
   "execution_count": 17,
   "id": "600af4c6",
   "metadata": {},
   "outputs": [
    {
     "data": {
      "text/plain": [
       "keyword       61\n",
       "location    2489\n",
       "text           0\n",
       "dtype: int64"
      ]
     },
     "execution_count": 17,
     "metadata": {},
     "output_type": "execute_result"
    }
   ],
   "source": [
    "df[categorical].isnull().sum()"
   ]
  },
  {
   "cell_type": "markdown",
   "id": "0f5f075d",
   "metadata": {},
   "source": [
    "# Text Processing "
   ]
  },
  {
   "cell_type": "markdown",
   "id": "24edd644",
   "metadata": {},
   "source": [
    "### The text preprocessing steps followed in this project are:\n",
    "\n",
    "- Tokenization\n",
    "- Lower casing\n",
    "- Stop words removal\n",
    "- Filling Missing Data by Keyword Extraction and Entity Recognition\n",
    "- Entities, URL Links and Punctuation Removal\n",
    "- Spelling Correction\n",
    "- Lemmatization"
   ]
  },
  {
   "cell_type": "code",
   "execution_count": 18,
   "id": "128534af",
   "metadata": {},
   "outputs": [],
   "source": [
    "# initialise the stop words\n",
    "# downloaded from https://github.com/igorbrigadir/stopwords/blob/master/en/terrier.txt \n",
    "# alternatively can use nltk.download(\"stopwords\")\n",
    "with open('helper/stopwords.txt') as f:\n",
    "    stopwords = f.read().splitlines()\n",
    "\n",
    "stop_words = set(stopwords) "
   ]
  },
  {
   "cell_type": "markdown",
   "id": "3da338bc",
   "metadata": {},
   "source": [
    "### Lemmatization with NLTK\n",
    "\n",
    "Lemmatization is the process of grouping together the different inflected forms of a word so they can be analyzed as a single item.\n",
    "Examples of lemmatization:\n",
    "\n",
    "- rocks -> rock\n",
    "- corpora -> corpus\n",
    "- better -> good"
   ]
  },
  {
   "cell_type": "code",
   "execution_count": 19,
   "id": "e3cc4cb9",
   "metadata": {},
   "outputs": [
    {
     "name": "stderr",
     "output_type": "stream",
     "text": [
      "[nltk_data] Downloading package wordnet to /Users/sridevi/nltk_data...\n",
      "[nltk_data]   Package wordnet is already up-to-date!\n",
      "[nltk_data] Downloading package omw-1.4 to /Users/sridevi/nltk_data...\n",
      "[nltk_data]   Package omw-1.4 is already up-to-date!\n",
      "[nltk_data] Downloading package punkt to /Users/sridevi/nltk_data...\n",
      "[nltk_data]   Package punkt is already up-to-date!\n",
      "[nltk_data] Downloading package stopwords to\n",
      "[nltk_data]     /Users/sridevi/nltk_data...\n",
      "[nltk_data]   Package stopwords is already up-to-date!\n"
     ]
    },
    {
     "data": {
      "text/plain": [
       "True"
      ]
     },
     "execution_count": 19,
     "metadata": {},
     "output_type": "execute_result"
    }
   ],
   "source": [
    "import nltk\n",
    "from builtins import str\n",
    "from nltk.tokenize import word_tokenize\n",
    "from nltk.corpus import stopwords\n",
    "import emoji\n",
    "from spellchecker import SpellChecker\n",
    "import urllib.parse\n",
    "import re\n",
    "from nltk.stem import WordNetLemmatizer\n",
    "nltk.download('wordnet')\n",
    "nltk.download('omw-1.4')\n",
    "nltk.download('punkt')\n",
    "nltk.download(\"stopwords\")"
   ]
  },
  {
   "cell_type": "code",
   "execution_count": 20,
   "id": "66fccedb",
   "metadata": {},
   "outputs": [
    {
     "name": "stdout",
     "output_type": "stream",
     "text": [
      "rocks : rock\n",
      "corpora : corpus\n",
      "better : good\n"
     ]
    }
   ],
   "source": [
    "# initialise the Lemmatizer\n",
    "lemmatizer = WordNetLemmatizer()\n",
    "print(\"rocks :\", lemmatizer.lemmatize(\"rocks\"))\n",
    "print(\"corpora :\", lemmatizer.lemmatize(\"corpora\"))\n",
    "print(\"better :\", lemmatizer.lemmatize(\"better\", pos =\"a\"))"
   ]
  },
  {
   "cell_type": "code",
   "execution_count": 21,
   "id": "44d1d331",
   "metadata": {},
   "outputs": [
    {
     "name": "stdout",
     "output_type": "stream",
     "text": [
      "check amazing website\n",
      "goooooooaaaaaal\n"
     ]
    }
   ],
   "source": [
    "# make sure some words are not flagged as misspelled\n",
    "spell = SpellChecker()\n",
    "spell.word_frequency.load_words(['aftershock'])\n",
    "\n",
    "def preprocess_text(text, ignorespelling):\n",
    "    # Check if the input is a string\n",
    "    if not isinstance(text, str):\n",
    "        # Return non-string input as-is or convert to string\n",
    "        return str(text) if text is not None else ''\n",
    "    # Unquote words \n",
    "    text = urllib.parse.unquote(text)\n",
    "    text = text.replace(\"20\",\" \")\n",
    "    # Remove URLs\n",
    "    text = re.sub(r'http\\S+', '', text)\n",
    "    # Remove user mentions\n",
    "    text = re.sub(r\"@\\S+\", \"\", text)\n",
    "    # Remove hashtags\n",
    "    text = re.sub(r\"#\\S+\", \"\", text)\n",
    "    # Remove punctuation\n",
    "    text = re.sub(f\"[{string.punctuation}]\", \"\", text)\n",
    "    # Remove emojis\n",
    "    text = emoji.emojize(text, variant='emoji_type')\n",
    "    # Lowercase the text\n",
    "    text = text.lower()\n",
    "    # Tokenize the text\n",
    "    words = word_tokenize(text)\n",
    "    # Remove stop words\n",
    "    words = [w for w in words if w not in stop_words]\n",
    "    # fix the spelling \n",
    "    if(ignorespelling == False):\n",
    "        prevwords = words.copy()\n",
    "        words[:] = [spell.correction(w) for w in words]\n",
    "        # if words return a list with [None] after spell check then revert to the old list \n",
    "        for w in words:\n",
    "            if w == None:\n",
    "                words = prevwords   \n",
    "                break;\n",
    "    # Join the tokens back together\n",
    "    return ' '.join(words)\n",
    "\n",
    "string_with_url = \"Chek out this;,, amzing:: website: https://www.example.com! #AwesomeContent @username\"\n",
    "string_with_no_words = \"goooooooaaaaaal\"\n",
    "\n",
    "print(preprocess_text(string_with_url, False))\n",
    "print(preprocess_text(string_with_no_words, False))"
   ]
  },
  {
   "cell_type": "code",
   "execution_count": 22,
   "id": "60cc063d",
   "metadata": {},
   "outputs": [],
   "source": [
    "# note this code snippet takes a while to complete \n",
    "\n",
    "for var in categorical: \n",
    "    if var == \"location\":\n",
    "        df[var] = df[var].apply(lambda x: preprocess_text(x, True) if pd.isna(x)!= True else x)\n",
    "    else:\n",
    "        df[var] = df[var].apply(lambda x: preprocess_text(x, False) if pd.isna(x)!= True else x)\n"
   ]
  },
  {
   "cell_type": "code",
   "execution_count": 23,
   "id": "c49d8d23",
   "metadata": {},
   "outputs": [],
   "source": [
    "#storing the results in a CSV file for futher processing since the the Text processing step takes a long time\n",
    "df.to_csv('nlp-getting-started/train_with_text_processed.csv',index=False)"
   ]
  },
  {
   "cell_type": "code",
   "execution_count": 24,
   "id": "7050738b",
   "metadata": {},
   "outputs": [
    {
     "data": {
      "text/html": [
       "<div>\n",
       "<style scoped>\n",
       "    .dataframe tbody tr th:only-of-type {\n",
       "        vertical-align: middle;\n",
       "    }\n",
       "\n",
       "    .dataframe tbody tr th {\n",
       "        vertical-align: top;\n",
       "    }\n",
       "\n",
       "    .dataframe thead th {\n",
       "        text-align: right;\n",
       "    }\n",
       "</style>\n",
       "<table border=\"1\" class=\"dataframe\">\n",
       "  <thead>\n",
       "    <tr style=\"text-align: right;\">\n",
       "      <th></th>\n",
       "      <th>id</th>\n",
       "      <th>keyword</th>\n",
       "      <th>location</th>\n",
       "      <th>text</th>\n",
       "      <th>target</th>\n",
       "    </tr>\n",
       "  </thead>\n",
       "  <tbody>\n",
       "    <tr>\n",
       "      <th>0</th>\n",
       "      <td>1</td>\n",
       "      <td>NaN</td>\n",
       "      <td>NaN</td>\n",
       "      <td>deeds reason may allah forgive</td>\n",
       "      <td>1</td>\n",
       "    </tr>\n",
       "    <tr>\n",
       "      <th>1</th>\n",
       "      <td>4</td>\n",
       "      <td>NaN</td>\n",
       "      <td>NaN</td>\n",
       "      <td>forest fire near la range ask canada</td>\n",
       "      <td>1</td>\n",
       "    </tr>\n",
       "    <tr>\n",
       "      <th>2</th>\n",
       "      <td>5</td>\n",
       "      <td>NaN</td>\n",
       "      <td>NaN</td>\n",
       "      <td>residents asked shelter place being notified officers evacuation shelter place orders expected</td>\n",
       "      <td>1</td>\n",
       "    </tr>\n",
       "    <tr>\n",
       "      <th>3</th>\n",
       "      <td>6</td>\n",
       "      <td>NaN</td>\n",
       "      <td>NaN</td>\n",
       "      <td>13000 people receive evacuation orders california</td>\n",
       "      <td>1</td>\n",
       "    </tr>\n",
       "    <tr>\n",
       "      <th>4</th>\n",
       "      <td>7</td>\n",
       "      <td>NaN</td>\n",
       "      <td>NaN</td>\n",
       "      <td>just photo ruby smoke pours school</td>\n",
       "      <td>1</td>\n",
       "    </tr>\n",
       "  </tbody>\n",
       "</table>\n",
       "</div>"
      ],
      "text/plain": [
       "   id keyword location  \\\n",
       "0   1     NaN      NaN   \n",
       "1   4     NaN      NaN   \n",
       "2   5     NaN      NaN   \n",
       "3   6     NaN      NaN   \n",
       "4   7     NaN      NaN   \n",
       "\n",
       "                                                                                             text  \\\n",
       "0                                                                  deeds reason may allah forgive   \n",
       "1                                                            forest fire near la range ask canada   \n",
       "2  residents asked shelter place being notified officers evacuation shelter place orders expected   \n",
       "3                                               13000 people receive evacuation orders california   \n",
       "4                                                              just photo ruby smoke pours school   \n",
       "\n",
       "   target  \n",
       "0       1  \n",
       "1       1  \n",
       "2       1  \n",
       "3       1  \n",
       "4       1  "
      ]
     },
     "execution_count": 24,
     "metadata": {},
     "output_type": "execute_result"
    }
   ],
   "source": [
    "df.head()"
   ]
  },
  {
   "cell_type": "code",
   "execution_count": 25,
   "id": "33590165",
   "metadata": {},
   "outputs": [
    {
     "data": {
      "text/plain": [
       "keyword       61\n",
       "location    2489\n",
       "text           0\n",
       "dtype: int64"
      ]
     },
     "execution_count": 25,
     "metadata": {},
     "output_type": "execute_result"
    }
   ],
   "source": [
    "df[categorical].isnull().sum()"
   ]
  },
  {
   "cell_type": "code",
   "execution_count": 26,
   "id": "29020b6c",
   "metadata": {},
   "outputs": [
    {
     "name": "stdout",
     "output_type": "stream",
     "text": [
      "fatalities             0.005976\n",
      "deluge                 0.005578\n",
      "armageddon             0.005578\n",
      "damage                 0.005445\n",
      "body bags              0.005445\n",
      "                         ...   \n",
      "forest fire            0.002523\n",
      "epicentre              0.001594\n",
      "threat                 0.001461\n",
      "foundation             0.001328\n",
      "radiation emergency    0.001195\n",
      "Name: keyword, Length: 221, dtype: float64\n"
     ]
    },
    {
     "name": "stderr",
     "output_type": "stream",
     "text": [
      "/var/folders/3y/h66zz12x4p9_7hpzsntxf_6m0000gn/T/ipykernel_67911/817671917.py:1: DeprecationWarning: `np.float` is a deprecated alias for the builtin `float`. To silence this warning, use `float` by itself. Doing this will not modify any behavior and is safe. If you specifically wanted the numpy scalar type, use `np.float64` here.\n",
      "Deprecated in NumPy 1.20; for more details and guidance: https://numpy.org/devdocs/release/1.20.0-notes.html#deprecations\n",
      "  print(df['keyword'].value_counts()/np.float(len(df)))\n"
     ]
    }
   ],
   "source": [
    "print(df['keyword'].value_counts()/np.float(len(df)))"
   ]
  },
  {
   "cell_type": "code",
   "execution_count": 27,
   "id": "fe44a69e",
   "metadata": {},
   "outputs": [
    {
     "data": {
      "text/html": [
       "<div>\n",
       "<style scoped>\n",
       "    .dataframe tbody tr th:only-of-type {\n",
       "        vertical-align: middle;\n",
       "    }\n",
       "\n",
       "    .dataframe tbody tr th {\n",
       "        vertical-align: top;\n",
       "    }\n",
       "\n",
       "    .dataframe thead th {\n",
       "        text-align: right;\n",
       "    }\n",
       "</style>\n",
       "<table border=\"1\" class=\"dataframe\">\n",
       "  <thead>\n",
       "    <tr style=\"text-align: right;\">\n",
       "      <th></th>\n",
       "      <th>id</th>\n",
       "      <th>keyword</th>\n",
       "      <th>location</th>\n",
       "      <th>text</th>\n",
       "      <th>target</th>\n",
       "    </tr>\n",
       "  </thead>\n",
       "  <tbody>\n",
       "    <tr>\n",
       "      <th>0</th>\n",
       "      <td>1</td>\n",
       "      <td>NaN</td>\n",
       "      <td>NaN</td>\n",
       "      <td>deeds reason may allah forgive</td>\n",
       "      <td>1</td>\n",
       "    </tr>\n",
       "    <tr>\n",
       "      <th>1</th>\n",
       "      <td>4</td>\n",
       "      <td>NaN</td>\n",
       "      <td>NaN</td>\n",
       "      <td>forest fire near la range ask canada</td>\n",
       "      <td>1</td>\n",
       "    </tr>\n",
       "    <tr>\n",
       "      <th>2</th>\n",
       "      <td>5</td>\n",
       "      <td>NaN</td>\n",
       "      <td>NaN</td>\n",
       "      <td>residents asked shelter place being notified officers evacuation shelter place orders expected</td>\n",
       "      <td>1</td>\n",
       "    </tr>\n",
       "    <tr>\n",
       "      <th>3</th>\n",
       "      <td>6</td>\n",
       "      <td>NaN</td>\n",
       "      <td>NaN</td>\n",
       "      <td>13000 people receive evacuation orders california</td>\n",
       "      <td>1</td>\n",
       "    </tr>\n",
       "    <tr>\n",
       "      <th>4</th>\n",
       "      <td>7</td>\n",
       "      <td>NaN</td>\n",
       "      <td>NaN</td>\n",
       "      <td>just photo ruby smoke pours school</td>\n",
       "      <td>1</td>\n",
       "    </tr>\n",
       "  </tbody>\n",
       "</table>\n",
       "</div>"
      ],
      "text/plain": [
       "   id keyword location  \\\n",
       "0   1     NaN      NaN   \n",
       "1   4     NaN      NaN   \n",
       "2   5     NaN      NaN   \n",
       "3   6     NaN      NaN   \n",
       "4   7     NaN      NaN   \n",
       "\n",
       "                                                                                             text  \\\n",
       "0                                                                  deeds reason may allah forgive   \n",
       "1                                                            forest fire near la range ask canada   \n",
       "2  residents asked shelter place being notified officers evacuation shelter place orders expected   \n",
       "3                                               13000 people receive evacuation orders california   \n",
       "4                                                              just photo ruby smoke pours school   \n",
       "\n",
       "   target  \n",
       "0       1  \n",
       "1       1  \n",
       "2       1  \n",
       "3       1  \n",
       "4       1  "
      ]
     },
     "execution_count": 27,
     "metadata": {},
     "output_type": "execute_result"
    }
   ],
   "source": [
    "df2 = pd.read_csv('nlp-getting-started/train_with_text_processed.csv')\n",
    "df2.head()"
   ]
  },
  {
   "cell_type": "markdown",
   "id": "21e77685",
   "metadata": {},
   "source": [
    "# Filling missing Data \n",
    "\n",
    "There are missing data in both training and test dataset. \n",
    "Example in the training data following is the null value count \n",
    "- keyword       61\n",
    "- location    2533\n",
    "- text           0"
   ]
  },
  {
   "cell_type": "markdown",
   "id": "dd8d3c68",
   "metadata": {},
   "source": [
    "### Keyword Cloud "
   ]
  },
  {
   "cell_type": "code",
   "execution_count": 28,
   "id": "2d1a6b9f",
   "metadata": {},
   "outputs": [
    {
     "name": "stdout",
     "output_type": "stream",
     "text": [
      "Requirement already satisfied: wordcloud in /Users/sridevi/anaconda3/lib/python3.10/site-packages (1.9.3)\n",
      "Requirement already satisfied: pillow in /Users/sridevi/anaconda3/lib/python3.10/site-packages (from wordcloud) (9.4.0)\n",
      "Requirement already satisfied: matplotlib in /Users/sridevi/anaconda3/lib/python3.10/site-packages (from wordcloud) (3.7.0)\n",
      "Requirement already satisfied: numpy>=1.6.1 in /Users/sridevi/anaconda3/lib/python3.10/site-packages (from wordcloud) (1.23.5)\n",
      "Requirement already satisfied: pyparsing>=2.3.1 in /Users/sridevi/anaconda3/lib/python3.10/site-packages (from matplotlib->wordcloud) (3.0.9)\n",
      "Requirement already satisfied: contourpy>=1.0.1 in /Users/sridevi/anaconda3/lib/python3.10/site-packages (from matplotlib->wordcloud) (1.0.5)\n",
      "Requirement already satisfied: kiwisolver>=1.0.1 in /Users/sridevi/anaconda3/lib/python3.10/site-packages (from matplotlib->wordcloud) (1.4.4)\n",
      "Requirement already satisfied: packaging>=20.0 in /Users/sridevi/anaconda3/lib/python3.10/site-packages (from matplotlib->wordcloud) (23.2)\n",
      "Requirement already satisfied: cycler>=0.10 in /Users/sridevi/anaconda3/lib/python3.10/site-packages (from matplotlib->wordcloud) (0.11.0)\n",
      "Requirement already satisfied: fonttools>=4.22.0 in /Users/sridevi/anaconda3/lib/python3.10/site-packages (from matplotlib->wordcloud) (4.25.0)\n",
      "Requirement already satisfied: python-dateutil>=2.7 in /Users/sridevi/anaconda3/lib/python3.10/site-packages (from matplotlib->wordcloud) (2.8.2)\n",
      "Requirement already satisfied: six>=1.5 in /Users/sridevi/anaconda3/lib/python3.10/site-packages (from python-dateutil>=2.7->matplotlib->wordcloud) (1.16.0)\n",
      "Note: you may need to restart the kernel to use updated packages.\n"
     ]
    }
   ],
   "source": [
    "pip install wordcloud"
   ]
  },
  {
   "cell_type": "code",
   "execution_count": 29,
   "id": "863255bf",
   "metadata": {},
   "outputs": [],
   "source": [
    "from wordcloud import WordCloud, STOPWORDS\n",
    "import matplotlib.pyplot as plt"
   ]
  },
  {
   "cell_type": "code",
   "execution_count": 30,
   "id": "680b4b54",
   "metadata": {},
   "outputs": [
    {
     "data": {
      "image/png": "[encoded data removed]",
      "text/plain": [
       "<Figure size 800x800 with 1 Axes>"
      ]
     },
     "metadata": {},
     "output_type": "display_data"
    }
   ],
   "source": [
    "keyword = \"\"\n",
    "stopwords = set(STOPWORDS)\n",
    "\n",
    "for index, row in df.iterrows():\n",
    "    if pd.isna(row['keyword'])!= True:\n",
    "        keyword += \" \"+row['keyword']\n",
    "\n",
    "wordcloud = WordCloud(width = 800, height = 800,\n",
    "                background_color ='white',\n",
    "                stopwords = stopwords,\n",
    "                min_font_size = 10).generate(keyword)\n",
    " \n",
    "# plot the WordCloud image                       \n",
    "plt.figure(figsize = (8, 8), facecolor = None)\n",
    "plt.imshow(wordcloud)\n",
    "plt.axis(\"off\")\n",
    "plt.tight_layout(pad = 0)\n",
    " \n",
    "plt.show()"
   ]
  },
  {
   "cell_type": "markdown",
   "id": "89ad69ce",
   "metadata": {},
   "source": [
    "# Keyword Extractor YAKE vs BERT\n",
    "\n",
    "https://medium.com/@adityamishra.rishu/keyword-extractor-yake-35870de21a0d"
   ]
  },
  {
   "cell_type": "code",
   "execution_count": 31,
   "id": "a0d7e967",
   "metadata": {},
   "outputs": [
    {
     "name": "stdout",
     "output_type": "stream",
     "text": [
      "Requirement already satisfied: yake in /Users/sridevi/anaconda3/lib/python3.10/site-packages (0.4.8)\n",
      "Requirement already satisfied: networkx in /Users/sridevi/anaconda3/lib/python3.10/site-packages (from yake) (2.8.4)\n",
      "Requirement already satisfied: segtok in /Users/sridevi/anaconda3/lib/python3.10/site-packages (from yake) (1.5.11)\n",
      "Requirement already satisfied: click>=6.0 in /Users/sridevi/anaconda3/lib/python3.10/site-packages (from yake) (8.0.4)\n",
      "Requirement already satisfied: numpy in /Users/sridevi/anaconda3/lib/python3.10/site-packages (from yake) (1.23.5)\n",
      "Requirement already satisfied: tabulate in /Users/sridevi/anaconda3/lib/python3.10/site-packages (from yake) (0.8.10)\n",
      "Requirement already satisfied: jellyfish in /Users/sridevi/anaconda3/lib/python3.10/site-packages (from yake) (0.9.0)\n",
      "Requirement already satisfied: regex in /Users/sridevi/anaconda3/lib/python3.10/site-packages (from segtok->yake) (2022.7.9)\n",
      "Note: you may need to restart the kernel to use updated packages.\n"
     ]
    }
   ],
   "source": [
    "pip install yake"
   ]
  },
  {
   "cell_type": "code",
   "execution_count": 32,
   "id": "af8c60a9",
   "metadata": {},
   "outputs": [
    {
     "name": "stdout",
     "output_type": "stream",
     "text": [
      "('shelter', 0.10463417723629108)\n"
     ]
    }
   ],
   "source": [
    "# Keyword etractor example with Yake\n",
    "import yake\n",
    "\n",
    "text = \"residents asked shelter place being notified officers evacuation shelter place orders expected\"\n",
    "# Specifying Parameters\n",
    "language = \"en\"\n",
    "max_ngram_size = 1\n",
    "deduplication_thresold = 0.9\n",
    "deduplication_algo = 'seqm'\n",
    "windowSize = 1\n",
    "numOfKeywords = 1\n",
    "\n",
    "custom_kw_extractor = yake.KeywordExtractor(lan=language, n=max_ngram_size, dedupLim=deduplication_thresold, dedupFunc=deduplication_algo, windowsSize=windowSize, top=numOfKeywords, features=None)\n",
    "keywords = custom_kw_extractor.extract_keywords(text)\n",
    "\n",
    "for kw in keywords:\n",
    "    print(kw)"
   ]
  },
  {
   "cell_type": "markdown",
   "id": "2af4e6f5",
   "metadata": {},
   "source": [
    "#### BERT keyword extractor\n",
    "\n",
    "<center>\n",
    "    <img src = images/bert_example.png width = 50%/>\n",
    "</center>\n",
    "\n",
    "https://huggingface.co/yanekyuk/bert-keyword-extractor"
   ]
  },
  {
   "cell_type": "code",
   "execution_count": 33,
   "id": "1a6bc33d",
   "metadata": {},
   "outputs": [
    {
     "name": "stdout",
     "output_type": "stream",
     "text": [
      "[{'entity': 'B-KEY', 'score': 0.9372667, 'index': 9, 'word': 'shelter', 'start': 65, 'end': 72}]\n",
      "{'entity': 'B-KEY', 'score': 0.9372667, 'index': 9, 'word': 'shelter', 'start': 65, 'end': 72}\n",
      "shelter\n"
     ]
    }
   ],
   "source": [
    "# Keyword etractor example with BERT\n",
    "from transformers import pipeline\n",
    "pipe = pipeline(\"token-classification\", model=\"yanekyuk/bert-keyword-extractor\")\n",
    "result = pipe(\"residents asked shelter place being notified officers evacuation shelter place orders expected\")\n",
    "print(result)\n",
    "print(result[0])\n",
    "print(result[0].get('word'))"
   ]
  },
  {
   "cell_type": "code",
   "execution_count": 34,
   "id": "33c9c551",
   "metadata": {},
   "outputs": [
    {
     "name": "stdout",
     "output_type": "stream",
     "text": [
      "\n",
      "\n",
      "people died heat wave far\n",
      "[{'entity': 'B-KEY', 'score': 0.9998497, 'index': 3, 'word': 'heat', 'start': 12, 'end': 16}, {'entity': 'I-KEY', 'score': 0.9999114, 'index': 4, 'word': 'wave', 'start': 17, 'end': 21}]\n",
      "[('people', 0.15831692877998726)]\n",
      "\n",
      "\n",
      "haha south tampa flooded hah wait second live south tampa am gon na am gon na fuck\n",
      "[]\n",
      "[('gon', 0.07571113878390312)]\n",
      "\n",
      "\n",
      "18 19 days ive lost count\n",
      "[]\n",
      "[('days', 0.15831692877998726)]\n",
      "\n",
      "\n",
      "ago mandar arrived ago\n",
      "[{'entity': 'B-KEY', 'score': 0.99800354, 'index': 2, 'word': 'man', 'start': 4, 'end': 7}, {'entity': 'I-KEY', 'score': 0.99775034, 'index': 3, 'word': '##dar', 'start': 7, 'end': 10}]\n",
      "[('ago', 0.14323823713631006)]\n",
      "\n",
      "\n",
      "damage school bus 80 multi car crash\n",
      "[]\n",
      "[('damage', 0.15831692877998726)]\n"
     ]
    }
   ],
   "source": [
    "# compare keyword generation between BERT and YAKE\n",
    "for index, row in df.iloc[10:15].iterrows():\n",
    "    if(pd.isnull(row['keyword'])):\n",
    "        print(\"\\n\")\n",
    "        print(row['text'])\n",
    "        print(pipe(row['text']))\n",
    "        print(custom_kw_extractor.extract_keywords(row['text']))"
   ]
  },
  {
   "cell_type": "markdown",
   "id": "afc01e67",
   "metadata": {},
   "source": [
    "## Conclusion\n",
    "\n",
    "Examples \n",
    "\n",
    "- people died heat wave far\n",
    "    - Keyword from BERT - [{'entity': 'B-KEY', 'score': 0.9998497, 'index': 3, 'word': 'heat', 'start': 12, 'end': 16}, {'entity': 'I-KEY', 'score': 0.9999114, 'index': 4, 'word': 'wave', 'start': 17, 'end': 21}]\n",
    "    - Keyword from YAKE - [('people', 0.15831692877998726)]\n",
    "\n",
    "- haha south tampa flooded hah wait second live south tampa am gon na am gon na fuck\n",
    "    -  Keyword from BERT - []\n",
    "    - Keyword from YAKE - [('gon', 0.07571113878390312)]\n",
    "\n",
    "The keyword generationo needs to be modified to detect the disaster words. Currently both the models are not giving relevant keyword in both the cases and could be detrimental to analysis \n",
    "\n",
    "Refer - https://www.researchgate.net/publication/333072450_Keyphrase_Extraction_from_Disaster-related_Tweets "
   ]
  },
  {
   "cell_type": "code",
   "execution_count": 35,
   "id": "3d36622f",
   "metadata": {},
   "outputs": [],
   "source": [
    "# uncomment the following code to add keyword using the BERT model \n",
    "\n",
    "# keyword_list = []\n",
    "# for index, row in df.iterrows():\n",
    "#     if(pd.isnull(row['keyword'])):\n",
    "#         result = pipe(row['text']))\n",
    "#         print(custom_kw_extractor.extract_keywords(row['text']))\n",
    "#         if(len(result)>1):\n",
    "#             df.at[index,'keyword'] = result[0].get('word')\n",
    "#             keyword_list.append(result[0].get('word'))\n",
    "\n",
    "# print(keyword_list)"
   ]
  },
  {
   "cell_type": "markdown",
   "id": "f9e69f60",
   "metadata": {},
   "source": [
    "# Sentiment Analysis "
   ]
  },
  {
   "cell_type": "code",
   "execution_count": 36,
   "id": "729db1dd",
   "metadata": {},
   "outputs": [
    {
     "name": "stdout",
     "output_type": "stream",
     "text": [
      "huggingface/tokenizers: The current process just got forked, after parallelism has already been used. Disabling parallelism to avoid deadlocks...\n",
      "To disable this warning, you can either:\n",
      "\t- Avoid using `tokenizers` before the fork if possible\n",
      "\t- Explicitly set the environment variable TOKENIZERS_PARALLELISM=(true | false)\n",
      "Requirement already satisfied: torch in /Users/sridevi/anaconda3/lib/python3.10/site-packages (1.12.1)\n",
      "Requirement already satisfied: typing_extensions in /Users/sridevi/anaconda3/lib/python3.10/site-packages (from torch) (4.9.0)\n",
      "Note: you may need to restart the kernel to use updated packages.\n"
     ]
    }
   ],
   "source": [
    "pip install torch"
   ]
  },
  {
   "cell_type": "code",
   "execution_count": 37,
   "id": "81bd0670",
   "metadata": {},
   "outputs": [
    {
     "name": "stderr",
     "output_type": "stream",
     "text": [
      "No model was supplied, defaulted to distilbert-base-uncased-finetuned-sst-2-english and revision af0f99b (https://huggingface.co/distilbert-base-uncased-finetuned-sst-2-english).\n",
      "Using a pipeline without specifying a model name and revision in production is not recommended.\n"
     ]
    },
    {
     "data": {
      "text/plain": [
       "[{'label': 'POSITIVE', 'score': 0.999843955039978}]"
      ]
     },
     "execution_count": 37,
     "metadata": {},
     "output_type": "execute_result"
    }
   ],
   "source": [
    "# Example of sentiment analysis with hugging face \n",
    "from transformers import pipeline\n",
    "classifier = pipeline(\"sentiment-analysis\")\n",
    "classifier(\"I love BERT\")"
   ]
  },
  {
   "cell_type": "code",
   "execution_count": 38,
   "id": "85ef49a5",
   "metadata": {},
   "outputs": [],
   "source": [
    "sentiment_list = []\n",
    "score_list = []\n",
    "\n",
    "# for index, row in df.tail().iterrows(): #uncomment for testing with smaller datasize\n",
    "for index, row in df.iterrows():\n",
    "    result = classifier(row['text'])\n",
    "    if(len(result)>=1):\n",
    "        sentiment_list.append(result[0].get('label'))\n",
    "        score_list.append(result[0].get('score'))\n",
    "    else:\n",
    "        sentiment_list.append(\"Missing\")\n",
    "        score_list.append(0)\n",
    "        \n",
    "df['sentiment'] = sentiment_list\n",
    "df['score'] = score_list"
   ]
  },
  {
   "cell_type": "code",
   "execution_count": 39,
   "id": "72f46e91",
   "metadata": {},
   "outputs": [
    {
     "data": {
      "text/html": [
       "<div>\n",
       "<style scoped>\n",
       "    .dataframe tbody tr th:only-of-type {\n",
       "        vertical-align: middle;\n",
       "    }\n",
       "\n",
       "    .dataframe tbody tr th {\n",
       "        vertical-align: top;\n",
       "    }\n",
       "\n",
       "    .dataframe thead th {\n",
       "        text-align: right;\n",
       "    }\n",
       "</style>\n",
       "<table border=\"1\" class=\"dataframe\">\n",
       "  <thead>\n",
       "    <tr style=\"text-align: right;\">\n",
       "      <th></th>\n",
       "      <th>id</th>\n",
       "      <th>keyword</th>\n",
       "      <th>location</th>\n",
       "      <th>text</th>\n",
       "      <th>target</th>\n",
       "      <th>sentiment</th>\n",
       "      <th>score</th>\n",
       "    </tr>\n",
       "  </thead>\n",
       "  <tbody>\n",
       "    <tr>\n",
       "      <th>0</th>\n",
       "      <td>1</td>\n",
       "      <td>NaN</td>\n",
       "      <td>NaN</td>\n",
       "      <td>deeds reason may allah forgive</td>\n",
       "      <td>1</td>\n",
       "      <td>POSITIVE</td>\n",
       "      <td>0.969080</td>\n",
       "    </tr>\n",
       "    <tr>\n",
       "      <th>1</th>\n",
       "      <td>4</td>\n",
       "      <td>NaN</td>\n",
       "      <td>NaN</td>\n",
       "      <td>forest fire near la range ask canada</td>\n",
       "      <td>1</td>\n",
       "      <td>NEGATIVE</td>\n",
       "      <td>0.960770</td>\n",
       "    </tr>\n",
       "    <tr>\n",
       "      <th>2</th>\n",
       "      <td>5</td>\n",
       "      <td>NaN</td>\n",
       "      <td>NaN</td>\n",
       "      <td>residents asked shelter place being notified officers evacuation shelter place orders expected</td>\n",
       "      <td>1</td>\n",
       "      <td>NEGATIVE</td>\n",
       "      <td>0.989976</td>\n",
       "    </tr>\n",
       "    <tr>\n",
       "      <th>3</th>\n",
       "      <td>6</td>\n",
       "      <td>NaN</td>\n",
       "      <td>NaN</td>\n",
       "      <td>13000 people receive evacuation orders california</td>\n",
       "      <td>1</td>\n",
       "      <td>NEGATIVE</td>\n",
       "      <td>0.954775</td>\n",
       "    </tr>\n",
       "    <tr>\n",
       "      <th>4</th>\n",
       "      <td>7</td>\n",
       "      <td>NaN</td>\n",
       "      <td>NaN</td>\n",
       "      <td>just photo ruby smoke pours school</td>\n",
       "      <td>1</td>\n",
       "      <td>POSITIVE</td>\n",
       "      <td>0.984378</td>\n",
       "    </tr>\n",
       "  </tbody>\n",
       "</table>\n",
       "</div>"
      ],
      "text/plain": [
       "   id keyword location  \\\n",
       "0   1     NaN      NaN   \n",
       "1   4     NaN      NaN   \n",
       "2   5     NaN      NaN   \n",
       "3   6     NaN      NaN   \n",
       "4   7     NaN      NaN   \n",
       "\n",
       "                                                                                             text  \\\n",
       "0                                                                  deeds reason may allah forgive   \n",
       "1                                                            forest fire near la range ask canada   \n",
       "2  residents asked shelter place being notified officers evacuation shelter place orders expected   \n",
       "3                                               13000 people receive evacuation orders california   \n",
       "4                                                              just photo ruby smoke pours school   \n",
       "\n",
       "   target sentiment     score  \n",
       "0       1  POSITIVE  0.969080  \n",
       "1       1  NEGATIVE  0.960770  \n",
       "2       1  NEGATIVE  0.989976  \n",
       "3       1  NEGATIVE  0.954775  \n",
       "4       1  POSITIVE  0.984378  "
      ]
     },
     "execution_count": 39,
     "metadata": {},
     "output_type": "execute_result"
    }
   ],
   "source": [
    "df.head()"
   ]
  },
  {
   "cell_type": "code",
   "execution_count": 40,
   "id": "ed39d04b",
   "metadata": {},
   "outputs": [],
   "source": [
    "df.to_csv('nlp-getting-started/train_with_text_processed_and_sentiment.csv',index=False)"
   ]
  },
  {
   "cell_type": "markdown",
   "id": "197b6e25",
   "metadata": {},
   "source": [
    "## Visualise the sentiment analysis "
   ]
  },
  {
   "cell_type": "code",
   "execution_count": 41,
   "id": "7f9feeb0",
   "metadata": {},
   "outputs": [],
   "source": [
    "import seaborn as sns"
   ]
  },
  {
   "cell_type": "code",
   "execution_count": 42,
   "id": "647a4452",
   "metadata": {},
   "outputs": [
    {
     "data": {
      "text/plain": [
       "<Axes: xlabel='sentiment', ylabel='Count'>"
      ]
     },
     "execution_count": 42,
     "metadata": {},
     "output_type": "execute_result"
    },
    {
     "data": {
      "image/png": "[encoded data removed]",
      "text/plain": [
       "<Figure size 640x480 with 1 Axes>"
      ]
     },
     "metadata": {},
     "output_type": "display_data"
    }
   ],
   "source": [
    "sns.histplot(data=df, x=\"sentiment\")"
   ]
  },
  {
   "cell_type": "code",
   "execution_count": 43,
   "id": "91128de0",
   "metadata": {},
   "outputs": [
    {
     "data": {
      "text/plain": [
       "<Axes: xlabel='sentiment', ylabel='score'>"
      ]
     },
     "execution_count": 43,
     "metadata": {},
     "output_type": "execute_result"
    },
    {
     "data": {
      "image/png": "[encoded data removed]",
      "text/plain": [
       "<Figure size 640x480 with 1 Axes>"
      ]
     },
     "metadata": {},
     "output_type": "display_data"
    }
   ],
   "source": [
    "sns.scatterplot(data=df, x=\"sentiment\", y=\"score\", hue=\"target\")"
   ]
  },
  {
   "cell_type": "code",
   "execution_count": 44,
   "id": "334b4cf9",
   "metadata": {},
   "outputs": [
    {
     "data": {
      "text/plain": [
       "<Axes: xlabel='score', ylabel='target'>"
      ]
     },
     "execution_count": 44,
     "metadata": {},
     "output_type": "execute_result"
    },
    {
     "data": {
      "image/png": "[encoded data removed]",
      "text/plain": [
       "<Figure size 640x480 with 1 Axes>"
      ]
     },
     "metadata": {},
     "output_type": "display_data"
    }
   ],
   "source": [
    "df_positive = df[df[\"sentiment\"] == \"NEGATIVE\"]\n",
    "sns.scatterplot(data=df, x=\"score\", y=\"target\", hue=\"target\")\n",
    "\n",
    "# df_positive = df[df[\"sentiment\"] == \"POSITIVE\"]\n",
    "# sns.scatterplot(data=df, x=\"score\", y=\"target\", hue=\"target\")"
   ]
  },
  {
   "cell_type": "markdown",
   "id": "ee2dfb64",
   "metadata": {},
   "source": [
    "# Analysis of the sentiment and the result target\n",
    "- Does a negative sentiment imply the results are inclined towards being true "
   ]
  },
  {
   "cell_type": "code",
   "execution_count": 50,
   "id": "e612a5f4",
   "metadata": {},
   "outputs": [],
   "source": [
    "from sklearn.preprocessing import StandardScaler, OneHotEncoder\n",
    "from sklearn.pipeline import Pipeline\n",
    "from sklearn.compose import make_column_transformer\n",
    "from sklearn.neighbors import KNeighborsClassifier\n",
    "from sklearn.model_selection import train_test_split\n",
    "from sklearn.metrics import confusion_matrix"
   ]
  },
  {
   "cell_type": "code",
   "execution_count": 51,
   "id": "608fbd77",
   "metadata": {},
   "outputs": [],
   "source": [
    "# Declare feature vector and target variable \n",
    "X = df[['sentiment', 'score']]\n",
    "y = df['target']\n",
    "# split X and y into training and testing sets\n",
    "X_train, X_test, y_train, y_test = train_test_split(X, y, random_state = 42)"
   ]
  },
  {
   "cell_type": "code",
   "execution_count": 52,
   "id": "c7ab2b3f",
   "metadata": {},
   "outputs": [],
   "source": [
    "transformer = make_column_transformer((OneHotEncoder(drop = 'if_binary'), ['sentiment']), \n",
    "                                     remainder = StandardScaler())\n"
   ]
  },
  {
   "cell_type": "code",
   "execution_count": 53,
   "id": "66936803",
   "metadata": {},
   "outputs": [
    {
     "name": "stdout",
     "output_type": "stream",
     "text": [
      "0.5698353690918747\n"
     ]
    }
   ],
   "source": [
    "fivepipe = Pipeline([('transform', transformer), ('knn', KNeighborsClassifier(n_neighbors=5))])\n",
    "fivepipe.fit(X_train, y_train)\n",
    "fivepipe_acc = fivepipe.score(X_test, y_test)\n",
    "\n",
    "print(fivepipe_acc)"
   ]
  },
  {
   "cell_type": "code",
   "execution_count": 54,
   "id": "db4d57dc",
   "metadata": {},
   "outputs": [
    {
     "name": "stdout",
     "output_type": "stream",
     "text": [
      "Confusion Matrix [[746 341]\n",
      " [469 327]]\n"
     ]
    }
   ],
   "source": [
    "y_test_pred=fivepipe.predict(X_test)\n",
    "\n",
    "cfm=confusion_matrix(y_test, y_test_pred)\n",
    "trueNegative=cfm[0][0]\n",
    "falsePossitive=cfm[0][1]\n",
    "false_negative=cfm[1][0]\n",
    "truePositive=cfm[1][1]\n",
    "\n",
    "print(\"Confusion Matrix\", cfm)"
   ]
  },
  {
   "cell_type": "markdown",
   "id": "b7b8fab2",
   "metadata": {},
   "source": [
    "#### Confusion Matrix\n",
    "\n",
    "Reference - https://www.kaggle.com/code/jurk06/knn-classification-using-gridseachcv\n",
    "\n",
    "\n",
    "<center>\n",
    "    <img src = images/confusion_matrix.jpeg width = 50%/>\n",
    "</center>"
   ]
  },
  {
   "cell_type": "code",
   "execution_count": 55,
   "id": "4e7b6053",
   "metadata": {},
   "outputs": [
    {
     "data": {
      "image/png": "[encoded data removed]",
      "text/plain": [
       "<Figure size 1000x1000 with 2 Axes>"
      ]
     },
     "metadata": {},
     "output_type": "display_data"
    }
   ],
   "source": [
    "cfm_df=pd.DataFrame(cfm, range(2), range(2))\n",
    "plt.figure(figsize=(10,10))\n",
    "sns.heatmap(cfm_df, cmap='Blues', annot=True)\n",
    "plt.show()"
   ]
  },
  {
   "cell_type": "markdown",
   "id": "3c59df50",
   "metadata": {},
   "source": [
    "## Conclusion\n",
    "\n",
    "Based on the confusion matrix based on the sentiment and target(whether the sentiment indicates an actual disaster event). Its not a good benchmark for Disaster Tweet prediction"
   ]
  },
  {
   "cell_type": "markdown",
   "id": "d6b767df",
   "metadata": {},
   "source": [
    "# Create an Embed for the Text "
   ]
  },
  {
   "cell_type": "markdown",
   "id": "e4335193",
   "metadata": {},
   "source": [
    "## Vectorize text \n",
    "\n",
    "#### Traditional vectorization approaches\n",
    "1. Bag of words using CountVectorizer \n",
    "2. TF-IDF\n",
    "3. word2vec\n",
    "\n",
    "#### Pre-trained Word Embedding\n",
    "Modern Natural Language Processing (NLP) uses word embeddings that have been previously trained on a large corpus of text and are hence called ‘Pre-trained Word Embeddings.’ Pre-trained word embeddings are a type of Transfer Learning. They are trained on large datasets that can enhance the performance of a Natural Language Processing (NLP) model because they capture both the connotative and syntactic meaning of a word. All of these word embeddings are useful during hackathons and in real-world scenarios.\n",
    "\n",
    "4. BERT"
   ]
  },
  {
   "cell_type": "markdown",
   "id": "8ae3f06c",
   "metadata": {},
   "source": [
    "###  1. Using CountVectorizer to create a bag of words representation of text"
   ]
  },
  {
   "cell_type": "code",
   "execution_count": 56,
   "id": "07e0a8fa",
   "metadata": {},
   "outputs": [],
   "source": [
    "from sklearn.linear_model import LogisticRegression\n",
    "from sklearn.feature_extraction.text import CountVectorizer\n",
    "from sklearn.pipeline import Pipeline\n",
    "from sklearn.model_selection import train_test_split, GridSearchCV\n",
    "from sklearn.metrics import mean_squared_error\n",
    "from sklearn import metrics"
   ]
  },
  {
   "cell_type": "code",
   "execution_count": 57,
   "id": "9ca2ada8",
   "metadata": {},
   "outputs": [
    {
     "data": {
      "text/plain": [
       "{'mr': 14,\n",
       " 'green': 5,\n",
       " 'killed': 11,\n",
       " 'colonel': 2,\n",
       " 'mustard': 15,\n",
       " 'in': 9,\n",
       " 'the': 24,\n",
       " 'study': 23,\n",
       " 'with': 30,\n",
       " 'candlestick': 1,\n",
       " 'is': 10,\n",
       " 'not': 17,\n",
       " 'very': 25,\n",
       " 'nice': 16,\n",
       " 'fellow': 3,\n",
       " 'professor': 21,\n",
       " 'plum': 20,\n",
       " 'has': 6,\n",
       " 'plant': 19,\n",
       " 'his': 8,\n",
       " 'miss': 13,\n",
       " 'scarlett': 22,\n",
       " 'watered': 27,\n",
       " 'while': 29,\n",
       " 'he': 7,\n",
       " 'was': 26,\n",
       " 'away': 0,\n",
       " 'from': 4,\n",
       " 'office': 18,\n",
       " 'last': 12,\n",
       " 'week': 28}"
      ]
     },
     "execution_count": 57,
     "metadata": {},
     "output_type": "execute_result"
    }
   ],
   "source": [
    "# Example \n",
    "X = [\"Mr. Green killed Colonel Mustard in the study with the candlestick. \\\n",
    "Mr. Green is not a very nice fellow.\",\n",
    "     \"Professor Plum has a green plant in his study.\",\n",
    "    \"Miss Scarlett watered Professor Plum's green plant while he was away \\\n",
    "from his office last week.\"]\n",
    "\n",
    "vectorizer = CountVectorizer()\n",
    "vectorizer.fit(X)\n",
    "vectorizer.vocabulary_"
   ]
  },
  {
   "cell_type": "code",
   "execution_count": 58,
   "id": "d118a61d",
   "metadata": {},
   "outputs": [
    {
     "name": "stdout",
     "output_type": "stream",
     "text": [
      "  (0, 1)\t1\n",
      "  (0, 2)\t1\n",
      "  (0, 3)\t1\n",
      "  (0, 5)\t2\n",
      "  (0, 9)\t1\n",
      "  (0, 10)\t1\n",
      "  (0, 11)\t1\n",
      "  (0, 14)\t2\n",
      "  (0, 15)\t1\n",
      "  (0, 16)\t1\n",
      "  (0, 17)\t1\n",
      "  (0, 23)\t1\n",
      "  (0, 24)\t2\n",
      "  (0, 25)\t1\n",
      "  (0, 30)\t1\n",
      "  (1, 5)\t1\n",
      "  (1, 6)\t1\n",
      "  (1, 8)\t1\n",
      "  (1, 9)\t1\n",
      "  (1, 19)\t1\n",
      "  (1, 20)\t1\n",
      "  (1, 21)\t1\n",
      "  (1, 23)\t1\n",
      "  (2, 0)\t1\n",
      "  (2, 4)\t1\n",
      "  (2, 5)\t1\n",
      "  (2, 7)\t1\n",
      "  (2, 8)\t1\n",
      "  (2, 12)\t1\n",
      "  (2, 13)\t1\n",
      "  (2, 18)\t1\n",
      "  (2, 19)\t1\n",
      "  (2, 20)\t1\n",
      "  (2, 21)\t1\n",
      "  (2, 22)\t1\n",
      "  (2, 26)\t1\n",
      "  (2, 27)\t1\n",
      "  (2, 28)\t1\n",
      "  (2, 29)\t1\n"
     ]
    }
   ],
   "source": [
    "X_bag_of_words = vectorizer.transform(X)\n",
    "print(X_bag_of_words)"
   ]
  },
  {
   "cell_type": "code",
   "execution_count": 59,
   "id": "f0ffc2b5",
   "metadata": {},
   "outputs": [
    {
     "data": {
      "text/html": [
       "<div>\n",
       "<style scoped>\n",
       "    .dataframe tbody tr th:only-of-type {\n",
       "        vertical-align: middle;\n",
       "    }\n",
       "\n",
       "    .dataframe tbody tr th {\n",
       "        vertical-align: top;\n",
       "    }\n",
       "\n",
       "    .dataframe thead th {\n",
       "        text-align: right;\n",
       "    }\n",
       "</style>\n",
       "<table border=\"1\" class=\"dataframe\">\n",
       "  <thead>\n",
       "    <tr style=\"text-align: right;\">\n",
       "      <th></th>\n",
       "      <th>id</th>\n",
       "      <th>keyword</th>\n",
       "      <th>location</th>\n",
       "      <th>text</th>\n",
       "      <th>target</th>\n",
       "      <th>sentiment</th>\n",
       "      <th>score</th>\n",
       "    </tr>\n",
       "  </thead>\n",
       "  <tbody>\n",
       "    <tr>\n",
       "      <th>0</th>\n",
       "      <td>1</td>\n",
       "      <td>NaN</td>\n",
       "      <td>NaN</td>\n",
       "      <td>deeds reason may allah forgive</td>\n",
       "      <td>1</td>\n",
       "      <td>POSITIVE</td>\n",
       "      <td>0.969080</td>\n",
       "    </tr>\n",
       "    <tr>\n",
       "      <th>1</th>\n",
       "      <td>4</td>\n",
       "      <td>NaN</td>\n",
       "      <td>NaN</td>\n",
       "      <td>forest fire near la range ask canada</td>\n",
       "      <td>1</td>\n",
       "      <td>NEGATIVE</td>\n",
       "      <td>0.960770</td>\n",
       "    </tr>\n",
       "    <tr>\n",
       "      <th>2</th>\n",
       "      <td>5</td>\n",
       "      <td>NaN</td>\n",
       "      <td>NaN</td>\n",
       "      <td>residents asked shelter place being notified officers evacuation shelter place orders expected</td>\n",
       "      <td>1</td>\n",
       "      <td>NEGATIVE</td>\n",
       "      <td>0.989976</td>\n",
       "    </tr>\n",
       "    <tr>\n",
       "      <th>3</th>\n",
       "      <td>6</td>\n",
       "      <td>NaN</td>\n",
       "      <td>NaN</td>\n",
       "      <td>13000 people receive evacuation orders california</td>\n",
       "      <td>1</td>\n",
       "      <td>NEGATIVE</td>\n",
       "      <td>0.954775</td>\n",
       "    </tr>\n",
       "    <tr>\n",
       "      <th>4</th>\n",
       "      <td>7</td>\n",
       "      <td>NaN</td>\n",
       "      <td>NaN</td>\n",
       "      <td>just photo ruby smoke pours school</td>\n",
       "      <td>1</td>\n",
       "      <td>POSITIVE</td>\n",
       "      <td>0.984378</td>\n",
       "    </tr>\n",
       "  </tbody>\n",
       "</table>\n",
       "</div>"
      ],
      "text/plain": [
       "   id keyword location  \\\n",
       "0   1     NaN      NaN   \n",
       "1   4     NaN      NaN   \n",
       "2   5     NaN      NaN   \n",
       "3   6     NaN      NaN   \n",
       "4   7     NaN      NaN   \n",
       "\n",
       "                                                                                             text  \\\n",
       "0                                                                  deeds reason may allah forgive   \n",
       "1                                                            forest fire near la range ask canada   \n",
       "2  residents asked shelter place being notified officers evacuation shelter place orders expected   \n",
       "3                                               13000 people receive evacuation orders california   \n",
       "4                                                              just photo ruby smoke pours school   \n",
       "\n",
       "   target sentiment     score  \n",
       "0       1  POSITIVE  0.969080  \n",
       "1       1  NEGATIVE  0.960770  \n",
       "2       1  NEGATIVE  0.989976  \n",
       "3       1  NEGATIVE  0.954775  \n",
       "4       1  POSITIVE  0.984378  "
      ]
     },
     "execution_count": 59,
     "metadata": {},
     "output_type": "execute_result"
    }
   ],
   "source": [
    "df.head()"
   ]
  },
  {
   "cell_type": "code",
   "execution_count": 60,
   "id": "21190032",
   "metadata": {},
   "outputs": [
    {
     "data": {
      "text/plain": [
       "(7469, 6)"
      ]
     },
     "execution_count": 60,
     "metadata": {},
     "output_type": "execute_result"
    }
   ],
   "source": [
    "# Feature Engineering \n",
    "# -- removing location column since it has too many nulls \n",
    "# -- dropping all rows with keyword set to null \n",
    "\n",
    "df_train = pd.DataFrame(df)\n",
    "df_train = df_train.drop(['location'], axis = 1)\n",
    "df_train = df_train.dropna()\n",
    "df_train.shape"
   ]
  },
  {
   "cell_type": "code",
   "execution_count": 61,
   "id": "fa76edf7",
   "metadata": {},
   "outputs": [],
   "source": [
    "# ignorning the sentiment data for the trianing \n",
    "X = df_train.drop(['target','sentiment','score','id','keyword'], axis = 1)\n",
    "y = df_train['target']"
   ]
  },
  {
   "cell_type": "code",
   "execution_count": 62,
   "id": "658b63ef",
   "metadata": {},
   "outputs": [],
   "source": [
    "X_train, X_test, y_train, y_test = train_test_split(X['text'], y, random_state = 42)"
   ]
  },
  {
   "cell_type": "code",
   "execution_count": 63,
   "id": "872e7d80",
   "metadata": {},
   "outputs": [
    {
     "data": {
      "text/html": [
       "<div>\n",
       "<style scoped>\n",
       "    .dataframe tbody tr th:only-of-type {\n",
       "        vertical-align: middle;\n",
       "    }\n",
       "\n",
       "    .dataframe tbody tr th {\n",
       "        vertical-align: top;\n",
       "    }\n",
       "\n",
       "    .dataframe thead th {\n",
       "        text-align: right;\n",
       "    }\n",
       "</style>\n",
       "<table border=\"1\" class=\"dataframe\">\n",
       "  <thead>\n",
       "    <tr style=\"text-align: right;\">\n",
       "      <th></th>\n",
       "      <th>00</th>\n",
       "      <th>05</th>\n",
       "      <th>10</th>\n",
       "      <th>100</th>\n",
       "      <th>11</th>\n",
       "      <th>12</th>\n",
       "      <th>13</th>\n",
       "      <th>14</th>\n",
       "      <th>15</th>\n",
       "      <th>150805</th>\n",
       "      <th>...</th>\n",
       "      <th>york</th>\n",
       "      <th>youtube</th>\n",
       "      <th>yr</th>\n",
       "      <th>zone</th>\n",
       "      <th>ûª</th>\n",
       "      <th>ûªs</th>\n",
       "      <th>ûªt</th>\n",
       "      <th>ûï</th>\n",
       "      <th>ûò</th>\n",
       "      <th>ûó</th>\n",
       "    </tr>\n",
       "  </thead>\n",
       "  <tbody>\n",
       "    <tr>\n",
       "      <th>0</th>\n",
       "      <td>0</td>\n",
       "      <td>0</td>\n",
       "      <td>0</td>\n",
       "      <td>0</td>\n",
       "      <td>0</td>\n",
       "      <td>0</td>\n",
       "      <td>0</td>\n",
       "      <td>0</td>\n",
       "      <td>0</td>\n",
       "      <td>0</td>\n",
       "      <td>...</td>\n",
       "      <td>0</td>\n",
       "      <td>0</td>\n",
       "      <td>0</td>\n",
       "      <td>0</td>\n",
       "      <td>0</td>\n",
       "      <td>0</td>\n",
       "      <td>0</td>\n",
       "      <td>0</td>\n",
       "      <td>0</td>\n",
       "      <td>0</td>\n",
       "    </tr>\n",
       "    <tr>\n",
       "      <th>1</th>\n",
       "      <td>0</td>\n",
       "      <td>0</td>\n",
       "      <td>0</td>\n",
       "      <td>0</td>\n",
       "      <td>0</td>\n",
       "      <td>0</td>\n",
       "      <td>0</td>\n",
       "      <td>0</td>\n",
       "      <td>0</td>\n",
       "      <td>0</td>\n",
       "      <td>...</td>\n",
       "      <td>0</td>\n",
       "      <td>0</td>\n",
       "      <td>0</td>\n",
       "      <td>0</td>\n",
       "      <td>0</td>\n",
       "      <td>0</td>\n",
       "      <td>0</td>\n",
       "      <td>0</td>\n",
       "      <td>0</td>\n",
       "      <td>0</td>\n",
       "    </tr>\n",
       "    <tr>\n",
       "      <th>2</th>\n",
       "      <td>0</td>\n",
       "      <td>0</td>\n",
       "      <td>0</td>\n",
       "      <td>0</td>\n",
       "      <td>0</td>\n",
       "      <td>0</td>\n",
       "      <td>0</td>\n",
       "      <td>0</td>\n",
       "      <td>1</td>\n",
       "      <td>0</td>\n",
       "      <td>...</td>\n",
       "      <td>0</td>\n",
       "      <td>0</td>\n",
       "      <td>0</td>\n",
       "      <td>0</td>\n",
       "      <td>0</td>\n",
       "      <td>0</td>\n",
       "      <td>0</td>\n",
       "      <td>0</td>\n",
       "      <td>0</td>\n",
       "      <td>0</td>\n",
       "    </tr>\n",
       "    <tr>\n",
       "      <th>3</th>\n",
       "      <td>0</td>\n",
       "      <td>0</td>\n",
       "      <td>0</td>\n",
       "      <td>0</td>\n",
       "      <td>0</td>\n",
       "      <td>0</td>\n",
       "      <td>0</td>\n",
       "      <td>0</td>\n",
       "      <td>0</td>\n",
       "      <td>0</td>\n",
       "      <td>...</td>\n",
       "      <td>0</td>\n",
       "      <td>0</td>\n",
       "      <td>0</td>\n",
       "      <td>0</td>\n",
       "      <td>0</td>\n",
       "      <td>0</td>\n",
       "      <td>0</td>\n",
       "      <td>0</td>\n",
       "      <td>0</td>\n",
       "      <td>0</td>\n",
       "    </tr>\n",
       "    <tr>\n",
       "      <th>4</th>\n",
       "      <td>0</td>\n",
       "      <td>0</td>\n",
       "      <td>0</td>\n",
       "      <td>0</td>\n",
       "      <td>0</td>\n",
       "      <td>0</td>\n",
       "      <td>0</td>\n",
       "      <td>0</td>\n",
       "      <td>0</td>\n",
       "      <td>0</td>\n",
       "      <td>...</td>\n",
       "      <td>0</td>\n",
       "      <td>0</td>\n",
       "      <td>0</td>\n",
       "      <td>0</td>\n",
       "      <td>0</td>\n",
       "      <td>0</td>\n",
       "      <td>0</td>\n",
       "      <td>0</td>\n",
       "      <td>0</td>\n",
       "      <td>0</td>\n",
       "    </tr>\n",
       "  </tbody>\n",
       "</table>\n",
       "<p>5 rows × 900 columns</p>\n",
       "</div>"
      ],
      "text/plain": [
       "   00  05  10  100  11  12  13  14  15  150805  ...  york  youtube  yr  zone  \\\n",
       "0   0   0   0    0   0   0   0   0   0       0  ...     0        0   0     0   \n",
       "1   0   0   0    0   0   0   0   0   0       0  ...     0        0   0     0   \n",
       "2   0   0   0    0   0   0   0   0   1       0  ...     0        0   0     0   \n",
       "3   0   0   0    0   0   0   0   0   0       0  ...     0        0   0     0   \n",
       "4   0   0   0    0   0   0   0   0   0       0  ...     0        0   0     0   \n",
       "\n",
       "   ûª  ûªs  ûªt  ûï  ûò  ûó  \n",
       "0   0    0    0   0   0   0  \n",
       "1   0    0    0   0   0   0  \n",
       "2   0    0    0   0   0   0  \n",
       "3   0    0    0   0   0   0  \n",
       "4   0    0    0   0   0   0  \n",
       "\n",
       "[5 rows x 900 columns]"
      ]
     },
     "execution_count": 63,
     "metadata": {},
     "output_type": "execute_result"
    }
   ],
   "source": [
    "# Document Term Matrix\n",
    "# a mathematical matrix that describes the frequency of terms that occur in a collection of documents. \n",
    "# In a document-term matrix, rows correspond to documents in the collection and columns correspond to terms.\n",
    "\n",
    "cvect = CountVectorizer(stop_words = 'english', max_features = 900)\n",
    "dtm = cvect.fit_transform(X_train)\n",
    "\n",
    "pd.DataFrame(dtm.toarray(), columns = cvect.get_feature_names_out()).head()"
   ]
  },
  {
   "cell_type": "code",
   "execution_count": 64,
   "id": "959ecb70",
   "metadata": {},
   "outputs": [
    {
     "name": "stdout",
     "output_type": "stream",
     "text": [
      "Test set Accuracy Score:  0.7751605995717344\n",
      "Training set Accuracy Score:  0.8421710408855562\n",
      "Recall Score:  0.7353187919463087\n",
      "Average Precision Score:  0.7552376374376963\n"
     ]
    }
   ],
   "source": [
    "#Evaluate the performance using Logistic Regression \n",
    "\n",
    "vect_pipe = Pipeline([('cvect', CountVectorizer(stop_words = 'english', max_features = 900)),\n",
    "                       ('lgr', LogisticRegression())])\n",
    "vect_pipe.fit(X_train, y_train)\n",
    "test_acc = vect_pipe.score(X_test, y_test)\n",
    "y_pred=vect_pipe.predict(X_train)\n",
    "\n",
    "print(\"Test set Accuracy Score: \", test_acc)\n",
    "print(\"Training set Accuracy Score: \", metrics.accuracy_score(y_train, y_pred))\n",
    "print(\"Recall Score: \", metrics.recall_score(y_train, y_pred))\n",
    "print(\"Average Precision Score: \", metrics.average_precision_score(y_train, y_pred))"
   ]
  },
  {
   "cell_type": "markdown",
   "id": "7dfb9970",
   "metadata": {},
   "source": [
    "### 2. TF-IDF (term frequency-inverse document frequency) \n",
    "\n",
    "$$\\text{tfidf} = \\frac{\\text{term frequency}}{\\text{inverse document frequency}}$$\n"
   ]
  },
  {
   "cell_type": "code",
   "execution_count": 65,
   "id": "edb89f80",
   "metadata": {},
   "outputs": [],
   "source": [
    "from sklearn.feature_extraction.text import TfidfVectorizer\n",
    "from sklearn.pipeline import Pipeline \n",
    "from sklearn.model_selection import train_test_split, GridSearchCV\n",
    "from sklearn.linear_model import LogisticRegression"
   ]
  },
  {
   "cell_type": "code",
   "execution_count": 66,
   "id": "b11d1b70",
   "metadata": {},
   "outputs": [],
   "source": [
    "df_train = pd.DataFrame(df)\n",
    "df_train = df_train.drop(['location'], axis = 1)\n",
    "df_train = df_train.dropna()\n",
    "X = df_train.drop(['target','sentiment','score','id','keyword'], axis = 1)\n",
    "y = df_train['target']\n",
    "X_train, X_test, y_train, y_test = train_test_split(X['text'], y, random_state = 42)"
   ]
  },
  {
   "cell_type": "code",
   "execution_count": 67,
   "id": "e99cb616",
   "metadata": {},
   "outputs": [
    {
     "data": {
      "text/html": [
       "<div>\n",
       "<style scoped>\n",
       "    .dataframe tbody tr th:only-of-type {\n",
       "        vertical-align: middle;\n",
       "    }\n",
       "\n",
       "    .dataframe tbody tr th {\n",
       "        vertical-align: top;\n",
       "    }\n",
       "\n",
       "    .dataframe thead th {\n",
       "        text-align: right;\n",
       "    }\n",
       "</style>\n",
       "<table border=\"1\" class=\"dataframe\">\n",
       "  <thead>\n",
       "    <tr style=\"text-align: right;\">\n",
       "      <th></th>\n",
       "      <th>00</th>\n",
       "      <th>000</th>\n",
       "      <th>0000</th>\n",
       "      <th>0011</th>\n",
       "      <th>0025</th>\n",
       "      <th>005225</th>\n",
       "      <th>01</th>\n",
       "      <th>010156</th>\n",
       "      <th>010217</th>\n",
       "      <th>0104</th>\n",
       "      <th>...</th>\n",
       "      <th>ûïyou</th>\n",
       "      <th>ûò</th>\n",
       "      <th>ûò800000</th>\n",
       "      <th>ûòthe</th>\n",
       "      <th>ûòåêcnbc</th>\n",
       "      <th>ûó</th>\n",
       "      <th>ûóher</th>\n",
       "      <th>ûókody</th>\n",
       "      <th>ûónegligence</th>\n",
       "      <th>ûótech</th>\n",
       "    </tr>\n",
       "  </thead>\n",
       "  <tbody>\n",
       "    <tr>\n",
       "      <th>0</th>\n",
       "      <td>0.0</td>\n",
       "      <td>0.0</td>\n",
       "      <td>0.0</td>\n",
       "      <td>0.0</td>\n",
       "      <td>0.0</td>\n",
       "      <td>0.0</td>\n",
       "      <td>0.0</td>\n",
       "      <td>0.0</td>\n",
       "      <td>0.0</td>\n",
       "      <td>0.0</td>\n",
       "      <td>...</td>\n",
       "      <td>0.0</td>\n",
       "      <td>0.0</td>\n",
       "      <td>0.0</td>\n",
       "      <td>0.0</td>\n",
       "      <td>0.0</td>\n",
       "      <td>0.0</td>\n",
       "      <td>0.0</td>\n",
       "      <td>0.0</td>\n",
       "      <td>0.0</td>\n",
       "      <td>0.0</td>\n",
       "    </tr>\n",
       "    <tr>\n",
       "      <th>1</th>\n",
       "      <td>0.0</td>\n",
       "      <td>0.0</td>\n",
       "      <td>0.0</td>\n",
       "      <td>0.0</td>\n",
       "      <td>0.0</td>\n",
       "      <td>0.0</td>\n",
       "      <td>0.0</td>\n",
       "      <td>0.0</td>\n",
       "      <td>0.0</td>\n",
       "      <td>0.0</td>\n",
       "      <td>...</td>\n",
       "      <td>0.0</td>\n",
       "      <td>0.0</td>\n",
       "      <td>0.0</td>\n",
       "      <td>0.0</td>\n",
       "      <td>0.0</td>\n",
       "      <td>0.0</td>\n",
       "      <td>0.0</td>\n",
       "      <td>0.0</td>\n",
       "      <td>0.0</td>\n",
       "      <td>0.0</td>\n",
       "    </tr>\n",
       "    <tr>\n",
       "      <th>2</th>\n",
       "      <td>0.0</td>\n",
       "      <td>0.0</td>\n",
       "      <td>0.0</td>\n",
       "      <td>0.0</td>\n",
       "      <td>0.0</td>\n",
       "      <td>0.0</td>\n",
       "      <td>0.0</td>\n",
       "      <td>0.0</td>\n",
       "      <td>0.0</td>\n",
       "      <td>0.0</td>\n",
       "      <td>...</td>\n",
       "      <td>0.0</td>\n",
       "      <td>0.0</td>\n",
       "      <td>0.0</td>\n",
       "      <td>0.0</td>\n",
       "      <td>0.0</td>\n",
       "      <td>0.0</td>\n",
       "      <td>0.0</td>\n",
       "      <td>0.0</td>\n",
       "      <td>0.0</td>\n",
       "      <td>0.0</td>\n",
       "    </tr>\n",
       "    <tr>\n",
       "      <th>3</th>\n",
       "      <td>0.0</td>\n",
       "      <td>0.0</td>\n",
       "      <td>0.0</td>\n",
       "      <td>0.0</td>\n",
       "      <td>0.0</td>\n",
       "      <td>0.0</td>\n",
       "      <td>0.0</td>\n",
       "      <td>0.0</td>\n",
       "      <td>0.0</td>\n",
       "      <td>0.0</td>\n",
       "      <td>...</td>\n",
       "      <td>0.0</td>\n",
       "      <td>0.0</td>\n",
       "      <td>0.0</td>\n",
       "      <td>0.0</td>\n",
       "      <td>0.0</td>\n",
       "      <td>0.0</td>\n",
       "      <td>0.0</td>\n",
       "      <td>0.0</td>\n",
       "      <td>0.0</td>\n",
       "      <td>0.0</td>\n",
       "    </tr>\n",
       "    <tr>\n",
       "      <th>4</th>\n",
       "      <td>0.0</td>\n",
       "      <td>0.0</td>\n",
       "      <td>0.0</td>\n",
       "      <td>0.0</td>\n",
       "      <td>0.0</td>\n",
       "      <td>0.0</td>\n",
       "      <td>0.0</td>\n",
       "      <td>0.0</td>\n",
       "      <td>0.0</td>\n",
       "      <td>0.0</td>\n",
       "      <td>...</td>\n",
       "      <td>0.0</td>\n",
       "      <td>0.0</td>\n",
       "      <td>0.0</td>\n",
       "      <td>0.0</td>\n",
       "      <td>0.0</td>\n",
       "      <td>0.0</td>\n",
       "      <td>0.0</td>\n",
       "      <td>0.0</td>\n",
       "      <td>0.0</td>\n",
       "      <td>0.0</td>\n",
       "    </tr>\n",
       "  </tbody>\n",
       "</table>\n",
       "<p>5 rows × 11018 columns</p>\n",
       "</div>"
      ],
      "text/plain": [
       "    00  000  0000  0011  0025  005225   01  010156  010217  0104  ...  ûïyou  \\\n",
       "0  0.0  0.0   0.0   0.0   0.0     0.0  0.0     0.0     0.0   0.0  ...    0.0   \n",
       "1  0.0  0.0   0.0   0.0   0.0     0.0  0.0     0.0     0.0   0.0  ...    0.0   \n",
       "2  0.0  0.0   0.0   0.0   0.0     0.0  0.0     0.0     0.0   0.0  ...    0.0   \n",
       "3  0.0  0.0   0.0   0.0   0.0     0.0  0.0     0.0     0.0   0.0  ...    0.0   \n",
       "4  0.0  0.0   0.0   0.0   0.0     0.0  0.0     0.0     0.0   0.0  ...    0.0   \n",
       "\n",
       "    ûò  ûò800000  ûòthe  ûòåêcnbc   ûó  ûóher  ûókody  ûónegligence  ûótech  \n",
       "0  0.0       0.0    0.0       0.0  0.0    0.0     0.0           0.0     0.0  \n",
       "1  0.0       0.0    0.0       0.0  0.0    0.0     0.0           0.0     0.0  \n",
       "2  0.0       0.0    0.0       0.0  0.0    0.0     0.0           0.0     0.0  \n",
       "3  0.0       0.0    0.0       0.0  0.0    0.0     0.0           0.0     0.0  \n",
       "4  0.0       0.0    0.0       0.0  0.0    0.0     0.0           0.0     0.0  \n",
       "\n",
       "[5 rows x 11018 columns]"
      ]
     },
     "execution_count": 67,
     "metadata": {},
     "output_type": "execute_result"
    }
   ],
   "source": [
    "tfidf = TfidfVectorizer()\n",
    "dtm = tfidf.fit_transform(X_train)\n",
    "pd.DataFrame(dtm.toarray(), columns = tfidf.get_feature_names_out()).head()"
   ]
  },
  {
   "cell_type": "code",
   "execution_count": 68,
   "id": "8c10b29b",
   "metadata": {},
   "outputs": [
    {
     "name": "stdout",
     "output_type": "stream",
     "text": [
      "Test set Accuracy Score:  0.7794432548179872\n",
      "Training set Accuracy Score:  0.8289591144438493\n",
      "Recall Score:  0.7135067114093959\n",
      "Average Precision Score:  0.7361504637616629\n"
     ]
    }
   ],
   "source": [
    "#Evaluate the performance using Logistic Regression \n",
    "tfidf_pipe = Pipeline([('tfidf', TfidfVectorizer(stop_words = 'english', max_features = 900)),\n",
    "                       ('lgr', LogisticRegression())])\n",
    "tfidf_pipe.fit(X_train, y_train)\n",
    "test_acc = tfidf_pipe.score(X_test, y_test)\n",
    "y_pred=tfidf_pipe.predict(X_train)\n",
    "\n",
    "print(\"Test set Accuracy Score: \", test_acc)\n",
    "print(\"Training set Accuracy Score: \", metrics.accuracy_score(y_train, y_pred))\n",
    "print(\"Recall Score: \", metrics.recall_score(y_train, y_pred))\n",
    "print(\"Average Precision Score: \", metrics.average_precision_score(y_train, y_pred))"
   ]
  },
  {
   "cell_type": "markdown",
   "id": "3e005281",
   "metadata": {},
   "source": [
    "### 3. Word2vec\n",
    "Word2vec is a group of related models that are used to produce word embeddings.\n"
   ]
  },
  {
   "cell_type": "code",
   "execution_count": 69,
   "id": "e77e3c24",
   "metadata": {},
   "outputs": [
    {
     "name": "stdout",
     "output_type": "stream",
     "text": [
      "huggingface/tokenizers: The current process just got forked, after parallelism has already been used. Disabling parallelism to avoid deadlocks...\n",
      "To disable this warning, you can either:\n",
      "\t- Avoid using `tokenizers` before the fork if possible\n",
      "\t- Explicitly set the environment variable TOKENIZERS_PARALLELISM=(true | false)\n",
      "Requirement already satisfied: gensim in /Users/sridevi/anaconda3/lib/python3.10/site-packages (4.3.2)\n",
      "Requirement already satisfied: scipy>=1.7.0 in /Users/sridevi/anaconda3/lib/python3.10/site-packages (from gensim) (1.10.0)\n",
      "Requirement already satisfied: smart-open>=1.8.1 in /Users/sridevi/anaconda3/lib/python3.10/site-packages (from gensim) (5.2.1)\n",
      "Requirement already satisfied: numpy>=1.18.5 in /Users/sridevi/anaconda3/lib/python3.10/site-packages (from gensim) (1.23.5)\n",
      "Note: you may need to restart the kernel to use updated packages.\n"
     ]
    }
   ],
   "source": [
    "pip install --upgrade gensim"
   ]
  },
  {
   "cell_type": "code",
   "execution_count": 70,
   "id": "74ef5df8",
   "metadata": {},
   "outputs": [],
   "source": [
    "from gensim.test.utils import common_texts\n",
    "from gensim.models import Word2Vec"
   ]
  },
  {
   "cell_type": "code",
   "execution_count": 71,
   "id": "2a7f04ae",
   "metadata": {},
   "outputs": [],
   "source": [
    "disaster_tweets = []\n",
    "df_w2vec = pd.DataFrame(df_train)\n",
    "for index, row in df_w2vec.iterrows():\n",
    "    words = word_tokenize(row['text']) \n",
    "    if(len(words) == 0): #if the tweet has no tokens then delete it \n",
    "        df_w2vec.drop(index, inplace=True)\n",
    "    else:\n",
    "        disaster_tweets.append(words)"
   ]
  },
  {
   "cell_type": "code",
   "execution_count": 72,
   "id": "f0a1f4cc",
   "metadata": {},
   "outputs": [],
   "source": [
    "model = Word2Vec(sentences=disaster_tweets, vector_size=100, min_count=1)\n",
    "model.save(\"disastertweet.model\")"
   ]
  },
  {
   "cell_type": "code",
   "execution_count": 73,
   "id": "5459257e",
   "metadata": {},
   "outputs": [
    {
     "name": "stdout",
     "output_type": "stream",
     "text": [
      "[('fire', 0.9752233028411865), ('like', 0.9740955829620361), ('people', 0.9732819199562073), ('just', 0.973231852054596), ('amp', 0.9728146195411682), ('down', 0.9728050827980042), ('can', 0.972484827041626), ('new', 0.9720931053161621), ('im', 0.9715270400047302), ('emergency', 0.9710952043533325)]\n"
     ]
    }
   ],
   "source": [
    "model = Word2Vec.load(\"disastertweet.model\")\n",
    "sims = model.wv.most_similar('forest', topn=10)  # get other similar words\n",
    "print(sims)\n",
    "\n",
    "# given the dataset we trained on"
   ]
  },
  {
   "cell_type": "code",
   "execution_count": 74,
   "id": "23b1ec78",
   "metadata": {},
   "outputs": [],
   "source": [
    "model = Word2Vec.load(\"disastertweet.model\")\n",
    "\n",
    "w2v=[]\n",
    "for index, row in df_w2vec.iterrows():\n",
    "    sentence_vector=np.zeros(100) #create 300 dimensions of zeros\n",
    "    words = word_tokenize(row['text'])\n",
    "    for word in words:\n",
    "        try: # for missing key exception \n",
    "            vec=model.wv[word] #get the vector representation of the word\n",
    "            sentence_vector+=vec #add the vector to sentence_vector\n",
    "        except Exception:\n",
    "            print(word)\n",
    "            pass\n",
    "    w2v.append(sentence_vector)\n",
    "\n",
    "df_w2vec['embedding'] = w2v"
   ]
  },
  {
   "cell_type": "code",
   "execution_count": 75,
   "id": "2b0a30f9",
   "metadata": {},
   "outputs": [
    {
     "data": {
      "text/html": [
       "<div>\n",
       "<style scoped>\n",
       "    .dataframe tbody tr th:only-of-type {\n",
       "        vertical-align: middle;\n",
       "    }\n",
       "\n",
       "    .dataframe tbody tr th {\n",
       "        vertical-align: top;\n",
       "    }\n",
       "\n",
       "    .dataframe thead th {\n",
       "        text-align: right;\n",
       "    }\n",
       "</style>\n",
       "<table border=\"1\" class=\"dataframe\">\n",
       "  <thead>\n",
       "    <tr style=\"text-align: right;\">\n",
       "      <th></th>\n",
       "      <th>id</th>\n",
       "      <th>keyword</th>\n",
       "      <th>text</th>\n",
       "      <th>target</th>\n",
       "      <th>sentiment</th>\n",
       "      <th>score</th>\n",
       "      <th>embedding</th>\n",
       "    </tr>\n",
       "  </thead>\n",
       "  <tbody>\n",
       "    <tr>\n",
       "      <th>31</th>\n",
       "      <td>48</td>\n",
       "      <td>ablaze</td>\n",
       "      <td>wholesale markets ablaze</td>\n",
       "      <td>1</td>\n",
       "      <td>NEGATIVE</td>\n",
       "      <td>0.962016</td>\n",
       "      <td>[-0.01854224526323378, 0.02929675648920238, 0.01016888560843654, -0.0047503202222287655, 0.005829834379255772, -0.034516443498432636, 0.030518913641572, 0.04514382081106305, -0.002217554021626711, -0.0205837725661695, -0.0199751784093678, -0.030634310329332948, -0.019342650892212987, -0.009585127234458923, 0.027568895602598786, -0.013129746774211526, -0.01810708688572049, -0.013162735383957624, 0.006522034294903278, -0.04379062890075147, 0.008104150299914181, 0.006217136280611157, 0.027530115679837763, 0.0019079773337580264, 0.015622795093804598, 0.006620567000936717, -0.020042057381942868, 0.001618970651179552, -0.028461591340601444, 0.010269281221553683, 0.03592064091935754, -0.0069270876701921225, -0.01329631230328232, -0.028161860071122646, -0.006676399381831288, -0.003256485564634204, 0.00513430341379717, 0.012284994125366211, -0.01485858263913542, -0.02025309589225799, 0.019276097882539034, -0.01619712566025555, -0.00369667774066329, 0.004940726095810533, 0.00698064872995019, -0.018542368663474917, -0.0031189951114356518, 0.01283690333366394, -0.0013814078702125698, 0.03182860743254423, 0.006530192447826266, -0.0023411738220602274, -0.01087989762891084, -0.006800010334700346, -0.014134362805634737, 0.005059599177911878, 0.03216782712843269, -0.004748185921926051, -0.019655751428217627, 0.010223882971331477, -0.008615774801000953, 0.00644851359538734, 0.0007372745785687584, -0.010235623456537724, -0.026277402066625655, 0.03187508508563042, 0.016739041544497013, 0.014366313582286239, -0.026190067641437054, 0.016278362600132823, -0.011897803749889135, 0.007083849937771447, 0.02374993567354977, -0.02721529919654131, 0.02439279796089977, 0.016284355544485152, 0.0004963064566254616, -0.001250769942998886, -0.007544901221990585, 0.011434143409132957, -0.0032830180134624243, -0.003457819577306509, -0.0018671685829758644, 0.015484967996599153, -0.009094717912375927, 0.0002319851191714406, 0.012755794217810035, 0.018715222482569516, 0.04656139016151428, 0.03204592131078243, 0.02150859055109322, 0.012950540578458458, 0.011188002885319293, -0.012197669129818678, 0.02196533977985382, 0.006158002419397235, 0.008883831091225147, -0.034256295301020145, 0.017170046688988805, 0.011707166209816933]</td>\n",
       "    </tr>\n",
       "    <tr>\n",
       "      <th>32</th>\n",
       "      <td>49</td>\n",
       "      <td>ablaze</td>\n",
       "      <td>try bring heavy</td>\n",
       "      <td>0</td>\n",
       "      <td>NEGATIVE</td>\n",
       "      <td>0.993266</td>\n",
       "      <td>[-0.041873310692608356, 0.04899610672146082, 0.01839196914806962, 0.018047391204163432, 0.008606041315943003, -0.04941234365105629, 0.04377221968024969, 0.07336358539760113, -0.003757389262318611, -0.015043576015159488, -0.031910238205455244, -0.05624281242489815, -0.012428474612534046, 0.015013442913186736, 0.0212922936771065, -0.024195465492084622, 0.02231004787608981, -0.0347250304184854, 0.013274379190988839, -0.06373384781181812, 0.007794078439474106, 0.013065790524706244, 0.0366965620778501, -0.02465721871703863, 0.00192763099403237, 0.006339076440781355, -0.05195793230086565, -0.0121176578104496, -0.026925288140773773, 0.01733113802038133, 0.04401502525433898, -0.008064993424341083, 0.0007377071306109428, -0.00985312508419156, -0.017538166139274836, 0.0037443318869918585, 0.015192946186289191, -0.008229356724768877, -0.04024213273078203, -0.058633158914744854, -0.0019197040237486362, -0.01624518190510571, -0.013860856648534536, 0.020741438027471304, 0.021454519126564264, -0.03712815325707197, -0.020730689248011913, 0.022085199365392327, 0.03028287913184613, 0.0373942400328815, -0.0013171397149562836, -0.03975141033879481, -0.020072639807040105, 0.00022142293164506555, -0.028361921664327383, 0.018666155636310577, 0.05197810661047697, -0.0028123375959694386, -0.013239166932180524, 0.026323282159864902, -0.018496877513825893, 0.017882685642689466, 0.01642709190491587, 0.010707875480875373, -0.05029013566672802, 0.031670630909502506, -0.014718496706336737, 0.015618635676219128, -0.048778378404676914, 0.02790466556325555, -0.03382626734673977, 0.009179094224236906, 0.05362231470644474, -0.01833874615840614, 0.011083317920565605, -0.009999303380027413, -0.0012042955495417118, 1.372210681438446e-05, -0.006236793706193566, 0.01080666040070355, -0.032230436365352944, -0.01707241777330637, -0.02087966655381024, 0.035198763478547335, 0.012106739013688639, -0.01796709978953004, -0.00045542558655142784, 0.02423242316581309, 0.04138291161507368, 0.02103447155241156, 0.0349736837670207, 0.007256507873535156, 0.01939269690774381, -0.010580112226307392, 0.042366317473351955, 0.03797469101846218, 0.026404557924252003, -0.026123663526959717, -0.0023685738997301087, 0.013973914552479982]</td>\n",
       "    </tr>\n",
       "  </tbody>\n",
       "</table>\n",
       "</div>"
      ],
      "text/plain": [
       "    id keyword                      text  target sentiment     score  \\\n",
       "31  48  ablaze  wholesale markets ablaze       1  NEGATIVE  0.962016   \n",
       "32  49  ablaze           try bring heavy       0  NEGATIVE  0.993266   \n",
       "\n",
       "                                                                                                                                                                                                                                                                                                                                                                                                                                                                                                                                                                                                                                                                                                                                                                                                                                                                                                                                                                                                                                                                                                                                                                                                                                                                                                                                                                                                                                                                                                                                                                                                                                                                                                                                                                                                                                                                                                                                                                                                                                                                                                                                                                                                                                                                                                           embedding  \n",
       "31  [-0.01854224526323378, 0.02929675648920238, 0.01016888560843654, -0.0047503202222287655, 0.005829834379255772, -0.034516443498432636, 0.030518913641572, 0.04514382081106305, -0.002217554021626711, -0.0205837725661695, -0.0199751784093678, -0.030634310329332948, -0.019342650892212987, -0.009585127234458923, 0.027568895602598786, -0.013129746774211526, -0.01810708688572049, -0.013162735383957624, 0.006522034294903278, -0.04379062890075147, 0.008104150299914181, 0.006217136280611157, 0.027530115679837763, 0.0019079773337580264, 0.015622795093804598, 0.006620567000936717, -0.020042057381942868, 0.001618970651179552, -0.028461591340601444, 0.010269281221553683, 0.03592064091935754, -0.0069270876701921225, -0.01329631230328232, -0.028161860071122646, -0.006676399381831288, -0.003256485564634204, 0.00513430341379717, 0.012284994125366211, -0.01485858263913542, -0.02025309589225799, 0.019276097882539034, -0.01619712566025555, -0.00369667774066329, 0.004940726095810533, 0.00698064872995019, -0.018542368663474917, -0.0031189951114356518, 0.01283690333366394, -0.0013814078702125698, 0.03182860743254423, 0.006530192447826266, -0.0023411738220602274, -0.01087989762891084, -0.006800010334700346, -0.014134362805634737, 0.005059599177911878, 0.03216782712843269, -0.004748185921926051, -0.019655751428217627, 0.010223882971331477, -0.008615774801000953, 0.00644851359538734, 0.0007372745785687584, -0.010235623456537724, -0.026277402066625655, 0.03187508508563042, 0.016739041544497013, 0.014366313582286239, -0.026190067641437054, 0.016278362600132823, -0.011897803749889135, 0.007083849937771447, 0.02374993567354977, -0.02721529919654131, 0.02439279796089977, 0.016284355544485152, 0.0004963064566254616, -0.001250769942998886, -0.007544901221990585, 0.011434143409132957, -0.0032830180134624243, -0.003457819577306509, -0.0018671685829758644, 0.015484967996599153, -0.009094717912375927, 0.0002319851191714406, 0.012755794217810035, 0.018715222482569516, 0.04656139016151428, 0.03204592131078243, 0.02150859055109322, 0.012950540578458458, 0.011188002885319293, -0.012197669129818678, 0.02196533977985382, 0.006158002419397235, 0.008883831091225147, -0.034256295301020145, 0.017170046688988805, 0.011707166209816933]  \n",
       "32             [-0.041873310692608356, 0.04899610672146082, 0.01839196914806962, 0.018047391204163432, 0.008606041315943003, -0.04941234365105629, 0.04377221968024969, 0.07336358539760113, -0.003757389262318611, -0.015043576015159488, -0.031910238205455244, -0.05624281242489815, -0.012428474612534046, 0.015013442913186736, 0.0212922936771065, -0.024195465492084622, 0.02231004787608981, -0.0347250304184854, 0.013274379190988839, -0.06373384781181812, 0.007794078439474106, 0.013065790524706244, 0.0366965620778501, -0.02465721871703863, 0.00192763099403237, 0.006339076440781355, -0.05195793230086565, -0.0121176578104496, -0.026925288140773773, 0.01733113802038133, 0.04401502525433898, -0.008064993424341083, 0.0007377071306109428, -0.00985312508419156, -0.017538166139274836, 0.0037443318869918585, 0.015192946186289191, -0.008229356724768877, -0.04024213273078203, -0.058633158914744854, -0.0019197040237486362, -0.01624518190510571, -0.013860856648534536, 0.020741438027471304, 0.021454519126564264, -0.03712815325707197, -0.020730689248011913, 0.022085199365392327, 0.03028287913184613, 0.0373942400328815, -0.0013171397149562836, -0.03975141033879481, -0.020072639807040105, 0.00022142293164506555, -0.028361921664327383, 0.018666155636310577, 0.05197810661047697, -0.0028123375959694386, -0.013239166932180524, 0.026323282159864902, -0.018496877513825893, 0.017882685642689466, 0.01642709190491587, 0.010707875480875373, -0.05029013566672802, 0.031670630909502506, -0.014718496706336737, 0.015618635676219128, -0.048778378404676914, 0.02790466556325555, -0.03382626734673977, 0.009179094224236906, 0.05362231470644474, -0.01833874615840614, 0.011083317920565605, -0.009999303380027413, -0.0012042955495417118, 1.372210681438446e-05, -0.006236793706193566, 0.01080666040070355, -0.032230436365352944, -0.01707241777330637, -0.02087966655381024, 0.035198763478547335, 0.012106739013688639, -0.01796709978953004, -0.00045542558655142784, 0.02423242316581309, 0.04138291161507368, 0.02103447155241156, 0.0349736837670207, 0.007256507873535156, 0.01939269690774381, -0.010580112226307392, 0.042366317473351955, 0.03797469101846218, 0.026404557924252003, -0.026123663526959717, -0.0023685738997301087, 0.013973914552479982]  "
      ]
     },
     "execution_count": 75,
     "metadata": {},
     "output_type": "execute_result"
    }
   ],
   "source": [
    "df_w2vec.head(2)"
   ]
  },
  {
   "cell_type": "markdown",
   "id": "2bdc95b5",
   "metadata": {},
   "source": [
    "### Avg Word2Vec\n",
    "Avg Word2Vec is an extension of the Word2Vec model that generates vector representations for sentences or documents instead of individual words. It works by taking the average of the vector representations of all the words in a sentence or document to generate a single vector representation for the entire text. This approach can be useful in cases where we want to classify or compare entire texts rather than individual words.\n",
    "\n",
    "##### Average Word2Vec(R)=1/n[Word2Vec(w1)+Word2Vec(w2)+……+Word2Vec(wn)]"
   ]
  },
  {
   "cell_type": "code",
   "execution_count": 76,
   "id": "eecd8d22",
   "metadata": {},
   "outputs": [],
   "source": [
    "def get_avgword2vec(df_w2vec):\n",
    "    avgw2v=[]\n",
    "    for index, row in df_w2vec.iterrows():\n",
    "        sentence_vector=np.zeros(100) #create 100 dimensions of zeros\n",
    "        words = word_tokenize(row['text'])\n",
    "        count_word=0\n",
    "        for word in words:\n",
    "            try: # for missing key exception \n",
    "                vec=model.wv[word] #get the vector representation of the word\n",
    "                sentence_vector+=vec #add the vector to sentence_vector\n",
    "                count_word+=1\n",
    "            except Exception:\n",
    "                print(word)\n",
    "                pass\n",
    "        if count_word!=0:\n",
    "            sentence_vector/=count_word\n",
    "        avgw2v.append(sentence_vector)\n",
    "    return avgw2v\n",
    "\n",
    "df_avgw2v = pd.DataFrame(df_train)\n",
    "df_avgw2v['avgw2v'] = get_avgword2vec(df_avgw2v)"
   ]
  },
  {
   "cell_type": "code",
   "execution_count": 77,
   "id": "2d70cfba",
   "metadata": {},
   "outputs": [
    {
     "name": "stdout",
     "output_type": "stream",
     "text": [
      "    id keyword                                  text  target sentiment  \\\n",
      "35  53  ablaze  plus side look sky last night ablaze       0  POSITIVE   \n",
      "\n",
      "       score  \\\n",
      "35  0.989832   \n",
      "\n",
      "                                                                                                                                                                                                                                                                                                                                                                                                                                                                                                                                                                                                                                                                                                                                                                                                                                                                                                                                                                                                                                                                                                                                                                                                                                                                                                                                                                                                                                                                                                                                                                                                                                                                                                                                                                                                                                                                                                                                                                                                                                                                                                                                                                                                                                                                                                                 avgw2v  \n",
      "35  [-0.012508323582421457, 0.032852268644741604, 0.013680457407774935, 0.0046052012392984966, 0.0002977267639445407, -0.03290435312581914, 0.021303334339920963, 0.05104758410847613, 0.0033004899908389363, -0.015243307121896319, -0.011725938280246087, -0.046578338502773216, -0.011242762831638433, 0.012730339808123452, 0.016695911264313117, -0.021813283740941967, 0.008099328593483992, -0.026852907546396767, 0.012168345307665212, -0.038217705874038596, 0.0036610587766127928, 0.009632667127464498, 0.0202199039714677, -0.008820704916226012, 0.00834436688039984, -0.000822552910124484, -0.022552797936701348, -0.008870237373879977, -0.01741431580324258, 0.004088091963369932, 0.02597490405397756, -0.008696166366072637, -0.007427194022706577, -0.024135517097810016, -0.010891417498766844, 0.014034744722136696, 0.004923060947995899, -0.008120271127804049, -0.017328517278656363, -0.035302841902843544, 0.0022615656988429172, -0.011983423527064068, -0.008159138661410128, -0.0012268522488219397, 0.013899997209331818, -0.019863918224083527, -0.020500978521470512, 0.010133665150663416, 0.014078956342668139, 0.02438338367002351, 0.006613366052209001, -0.017291147893826877, -0.01535978738762164, -0.011365826008841395, -0.02271894086152315, 0.008154185488820076, 0.02670685900375247, -0.0017607613699510694, -0.013383697119674512, 0.007141025487466582, 0.0026932581261332545, 0.014050094597873144, -0.0022575222371545222, 0.007152255308548254, -0.022136164463258216, 0.02421784577226, 0.01068228982122881, 0.01787448099016079, -0.023849790450185537, 0.018409730766766837, -0.019263597837250148, 0.008628446303191595, 0.031591379682400396, -0.016237366786559244, 0.01810896978713572, 0.013708382944709488, -0.008067801428426589, 0.004751627333462238, -0.019418019568547606, 0.004660578411338585, -0.0155499014571043, -0.001650307369085827, -0.015877028295238103, 0.025879596526335393, 0.00934446943990354, -0.0007230964589065739, 0.0005007447185302486, 0.01900955756926643, 0.03455487000090735, 0.01162712146261973, 0.022584018829677786, 0.013750361212130104, 0.01634430210521844, -0.004930398672253692, 0.0320138694452388, 0.03557223903148302, 0.01740339830783861, -0.026201477573652352, 0.004154178679787687, 0.009134267523352588]  \n"
     ]
    }
   ],
   "source": [
    "print(df_avgw2v.iloc[4:5])"
   ]
  },
  {
   "cell_type": "markdown",
   "id": "48c92044",
   "metadata": {},
   "source": [
    "### KNN on Average Word2Vec"
   ]
  },
  {
   "cell_type": "code",
   "execution_count": 78,
   "id": "c710793f",
   "metadata": {},
   "outputs": [],
   "source": [
    "# Train using the embedding \n",
    "X = df_avgw2v['avgw2v']\n",
    "y = df_avgw2v['target']\n",
    "X_train, X_test, y_train, y_test = train_test_split(X, y, random_state = 42)"
   ]
  },
  {
   "cell_type": "code",
   "execution_count": 79,
   "id": "4fa1dcd2",
   "metadata": {},
   "outputs": [
    {
     "ename": "ValueError",
     "evalue": "setting an array element with a sequence.",
     "output_type": "error",
     "traceback": [
      "\u001b[0;31m---------------------------------------------------------------------------\u001b[0m",
      "\u001b[0;31mTypeError\u001b[0m                                 Traceback (most recent call last)",
      "\u001b[0;31mTypeError\u001b[0m: only size-1 arrays can be converted to Python scalars",
      "\nThe above exception was the direct cause of the following exception:\n",
      "\u001b[0;31mValueError\u001b[0m                                Traceback (most recent call last)",
      "Cell \u001b[0;32mIn[79], line 2\u001b[0m\n\u001b[1;32m      1\u001b[0m knn_avgw2v\u001b[38;5;241m=\u001b[39mKNeighborsClassifier(n_neighbors\u001b[38;5;241m=\u001b[39m\u001b[38;5;241m5\u001b[39m,algorithm\u001b[38;5;241m=\u001b[39m\u001b[38;5;124m'\u001b[39m\u001b[38;5;124mbrute\u001b[39m\u001b[38;5;124m'\u001b[39m)\n\u001b[0;32m----> 2\u001b[0m \u001b[43mknn_avgw2v\u001b[49m\u001b[38;5;241;43m.\u001b[39;49m\u001b[43mfit\u001b[49m\u001b[43m(\u001b[49m\u001b[43mX_train\u001b[49m\u001b[43m,\u001b[49m\u001b[43my_train\u001b[49m\u001b[43m)\u001b[49m\n",
      "File \u001b[0;32m~/anaconda3/lib/python3.10/site-packages/sklearn/neighbors/_classification.py:215\u001b[0m, in \u001b[0;36mKNeighborsClassifier.fit\u001b[0;34m(self, X, y)\u001b[0m\n\u001b[1;32m    196\u001b[0m \u001b[38;5;124;03m\"\"\"Fit the k-nearest neighbors classifier from the training dataset.\u001b[39;00m\n\u001b[1;32m    197\u001b[0m \n\u001b[1;32m    198\u001b[0m \u001b[38;5;124;03mParameters\u001b[39;00m\n\u001b[0;32m   (...)\u001b[0m\n\u001b[1;32m    211\u001b[0m \u001b[38;5;124;03m    The fitted k-nearest neighbors classifier.\u001b[39;00m\n\u001b[1;32m    212\u001b[0m \u001b[38;5;124;03m\"\"\"\u001b[39;00m\n\u001b[1;32m    213\u001b[0m \u001b[38;5;28mself\u001b[39m\u001b[38;5;241m.\u001b[39m_validate_params()\n\u001b[0;32m--> 215\u001b[0m \u001b[38;5;28;01mreturn\u001b[39;00m \u001b[38;5;28;43mself\u001b[39;49m\u001b[38;5;241;43m.\u001b[39;49m\u001b[43m_fit\u001b[49m\u001b[43m(\u001b[49m\u001b[43mX\u001b[49m\u001b[43m,\u001b[49m\u001b[43m \u001b[49m\u001b[43my\u001b[49m\u001b[43m)\u001b[49m\n",
      "File \u001b[0;32m~/anaconda3/lib/python3.10/site-packages/sklearn/neighbors/_base.py:454\u001b[0m, in \u001b[0;36mNeighborsBase._fit\u001b[0;34m(self, X, y)\u001b[0m\n\u001b[1;32m    452\u001b[0m \u001b[38;5;28;01mif\u001b[39;00m \u001b[38;5;28mself\u001b[39m\u001b[38;5;241m.\u001b[39m_get_tags()[\u001b[38;5;124m\"\u001b[39m\u001b[38;5;124mrequires_y\u001b[39m\u001b[38;5;124m\"\u001b[39m]:\n\u001b[1;32m    453\u001b[0m     \u001b[38;5;28;01mif\u001b[39;00m \u001b[38;5;129;01mnot\u001b[39;00m \u001b[38;5;28misinstance\u001b[39m(X, (KDTree, BallTree, NeighborsBase)):\n\u001b[0;32m--> 454\u001b[0m         X, y \u001b[38;5;241m=\u001b[39m \u001b[38;5;28;43mself\u001b[39;49m\u001b[38;5;241;43m.\u001b[39;49m\u001b[43m_validate_data\u001b[49m\u001b[43m(\u001b[49m\n\u001b[1;32m    455\u001b[0m \u001b[43m            \u001b[49m\u001b[43mX\u001b[49m\u001b[43m,\u001b[49m\u001b[43m \u001b[49m\u001b[43my\u001b[49m\u001b[43m,\u001b[49m\u001b[43m \u001b[49m\u001b[43maccept_sparse\u001b[49m\u001b[38;5;241;43m=\u001b[39;49m\u001b[38;5;124;43m\"\u001b[39;49m\u001b[38;5;124;43mcsr\u001b[39;49m\u001b[38;5;124;43m\"\u001b[39;49m\u001b[43m,\u001b[49m\u001b[43m \u001b[49m\u001b[43mmulti_output\u001b[49m\u001b[38;5;241;43m=\u001b[39;49m\u001b[38;5;28;43;01mTrue\u001b[39;49;00m\u001b[43m,\u001b[49m\u001b[43m \u001b[49m\u001b[43morder\u001b[49m\u001b[38;5;241;43m=\u001b[39;49m\u001b[38;5;124;43m\"\u001b[39;49m\u001b[38;5;124;43mC\u001b[39;49m\u001b[38;5;124;43m\"\u001b[39;49m\n\u001b[1;32m    456\u001b[0m \u001b[43m        \u001b[49m\u001b[43m)\u001b[49m\n\u001b[1;32m    458\u001b[0m     \u001b[38;5;28;01mif\u001b[39;00m is_classifier(\u001b[38;5;28mself\u001b[39m):\n\u001b[1;32m    459\u001b[0m         \u001b[38;5;66;03m# Classification targets require a specific format\u001b[39;00m\n\u001b[1;32m    460\u001b[0m         \u001b[38;5;28;01mif\u001b[39;00m y\u001b[38;5;241m.\u001b[39mndim \u001b[38;5;241m==\u001b[39m \u001b[38;5;241m1\u001b[39m \u001b[38;5;129;01mor\u001b[39;00m y\u001b[38;5;241m.\u001b[39mndim \u001b[38;5;241m==\u001b[39m \u001b[38;5;241m2\u001b[39m \u001b[38;5;129;01mand\u001b[39;00m y\u001b[38;5;241m.\u001b[39mshape[\u001b[38;5;241m1\u001b[39m] \u001b[38;5;241m==\u001b[39m \u001b[38;5;241m1\u001b[39m:\n",
      "File \u001b[0;32m~/anaconda3/lib/python3.10/site-packages/sklearn/base.py:565\u001b[0m, in \u001b[0;36mBaseEstimator._validate_data\u001b[0;34m(self, X, y, reset, validate_separately, **check_params)\u001b[0m\n\u001b[1;32m    563\u001b[0m         y \u001b[38;5;241m=\u001b[39m check_array(y, input_name\u001b[38;5;241m=\u001b[39m\u001b[38;5;124m\"\u001b[39m\u001b[38;5;124my\u001b[39m\u001b[38;5;124m\"\u001b[39m, \u001b[38;5;241m*\u001b[39m\u001b[38;5;241m*\u001b[39mcheck_y_params)\n\u001b[1;32m    564\u001b[0m     \u001b[38;5;28;01melse\u001b[39;00m:\n\u001b[0;32m--> 565\u001b[0m         X, y \u001b[38;5;241m=\u001b[39m \u001b[43mcheck_X_y\u001b[49m\u001b[43m(\u001b[49m\u001b[43mX\u001b[49m\u001b[43m,\u001b[49m\u001b[43m \u001b[49m\u001b[43my\u001b[49m\u001b[43m,\u001b[49m\u001b[43m \u001b[49m\u001b[38;5;241;43m*\u001b[39;49m\u001b[38;5;241;43m*\u001b[39;49m\u001b[43mcheck_params\u001b[49m\u001b[43m)\u001b[49m\n\u001b[1;32m    566\u001b[0m     out \u001b[38;5;241m=\u001b[39m X, y\n\u001b[1;32m    568\u001b[0m \u001b[38;5;28;01mif\u001b[39;00m \u001b[38;5;129;01mnot\u001b[39;00m no_val_X \u001b[38;5;129;01mand\u001b[39;00m check_params\u001b[38;5;241m.\u001b[39mget(\u001b[38;5;124m\"\u001b[39m\u001b[38;5;124mensure_2d\u001b[39m\u001b[38;5;124m\"\u001b[39m, \u001b[38;5;28;01mTrue\u001b[39;00m):\n",
      "File \u001b[0;32m~/anaconda3/lib/python3.10/site-packages/sklearn/utils/validation.py:1106\u001b[0m, in \u001b[0;36mcheck_X_y\u001b[0;34m(X, y, accept_sparse, accept_large_sparse, dtype, order, copy, force_all_finite, ensure_2d, allow_nd, multi_output, ensure_min_samples, ensure_min_features, y_numeric, estimator)\u001b[0m\n\u001b[1;32m   1101\u001b[0m         estimator_name \u001b[38;5;241m=\u001b[39m _check_estimator_name(estimator)\n\u001b[1;32m   1102\u001b[0m     \u001b[38;5;28;01mraise\u001b[39;00m \u001b[38;5;167;01mValueError\u001b[39;00m(\n\u001b[1;32m   1103\u001b[0m         \u001b[38;5;124mf\u001b[39m\u001b[38;5;124m\"\u001b[39m\u001b[38;5;132;01m{\u001b[39;00mestimator_name\u001b[38;5;132;01m}\u001b[39;00m\u001b[38;5;124m requires y to be passed, but the target y is None\u001b[39m\u001b[38;5;124m\"\u001b[39m\n\u001b[1;32m   1104\u001b[0m     )\n\u001b[0;32m-> 1106\u001b[0m X \u001b[38;5;241m=\u001b[39m \u001b[43mcheck_array\u001b[49m\u001b[43m(\u001b[49m\n\u001b[1;32m   1107\u001b[0m \u001b[43m    \u001b[49m\u001b[43mX\u001b[49m\u001b[43m,\u001b[49m\n\u001b[1;32m   1108\u001b[0m \u001b[43m    \u001b[49m\u001b[43maccept_sparse\u001b[49m\u001b[38;5;241;43m=\u001b[39;49m\u001b[43maccept_sparse\u001b[49m\u001b[43m,\u001b[49m\n\u001b[1;32m   1109\u001b[0m \u001b[43m    \u001b[49m\u001b[43maccept_large_sparse\u001b[49m\u001b[38;5;241;43m=\u001b[39;49m\u001b[43maccept_large_sparse\u001b[49m\u001b[43m,\u001b[49m\n\u001b[1;32m   1110\u001b[0m \u001b[43m    \u001b[49m\u001b[43mdtype\u001b[49m\u001b[38;5;241;43m=\u001b[39;49m\u001b[43mdtype\u001b[49m\u001b[43m,\u001b[49m\n\u001b[1;32m   1111\u001b[0m \u001b[43m    \u001b[49m\u001b[43morder\u001b[49m\u001b[38;5;241;43m=\u001b[39;49m\u001b[43morder\u001b[49m\u001b[43m,\u001b[49m\n\u001b[1;32m   1112\u001b[0m \u001b[43m    \u001b[49m\u001b[43mcopy\u001b[49m\u001b[38;5;241;43m=\u001b[39;49m\u001b[43mcopy\u001b[49m\u001b[43m,\u001b[49m\n\u001b[1;32m   1113\u001b[0m \u001b[43m    \u001b[49m\u001b[43mforce_all_finite\u001b[49m\u001b[38;5;241;43m=\u001b[39;49m\u001b[43mforce_all_finite\u001b[49m\u001b[43m,\u001b[49m\n\u001b[1;32m   1114\u001b[0m \u001b[43m    \u001b[49m\u001b[43mensure_2d\u001b[49m\u001b[38;5;241;43m=\u001b[39;49m\u001b[43mensure_2d\u001b[49m\u001b[43m,\u001b[49m\n\u001b[1;32m   1115\u001b[0m \u001b[43m    \u001b[49m\u001b[43mallow_nd\u001b[49m\u001b[38;5;241;43m=\u001b[39;49m\u001b[43mallow_nd\u001b[49m\u001b[43m,\u001b[49m\n\u001b[1;32m   1116\u001b[0m \u001b[43m    \u001b[49m\u001b[43mensure_min_samples\u001b[49m\u001b[38;5;241;43m=\u001b[39;49m\u001b[43mensure_min_samples\u001b[49m\u001b[43m,\u001b[49m\n\u001b[1;32m   1117\u001b[0m \u001b[43m    \u001b[49m\u001b[43mensure_min_features\u001b[49m\u001b[38;5;241;43m=\u001b[39;49m\u001b[43mensure_min_features\u001b[49m\u001b[43m,\u001b[49m\n\u001b[1;32m   1118\u001b[0m \u001b[43m    \u001b[49m\u001b[43mestimator\u001b[49m\u001b[38;5;241;43m=\u001b[39;49m\u001b[43mestimator\u001b[49m\u001b[43m,\u001b[49m\n\u001b[1;32m   1119\u001b[0m \u001b[43m    \u001b[49m\u001b[43minput_name\u001b[49m\u001b[38;5;241;43m=\u001b[39;49m\u001b[38;5;124;43m\"\u001b[39;49m\u001b[38;5;124;43mX\u001b[39;49m\u001b[38;5;124;43m\"\u001b[39;49m\u001b[43m,\u001b[49m\n\u001b[1;32m   1120\u001b[0m \u001b[43m\u001b[49m\u001b[43m)\u001b[49m\n\u001b[1;32m   1122\u001b[0m y \u001b[38;5;241m=\u001b[39m _check_y(y, multi_output\u001b[38;5;241m=\u001b[39mmulti_output, y_numeric\u001b[38;5;241m=\u001b[39my_numeric, estimator\u001b[38;5;241m=\u001b[39mestimator)\n\u001b[1;32m   1124\u001b[0m check_consistent_length(X, y)\n",
      "File \u001b[0;32m~/anaconda3/lib/python3.10/site-packages/sklearn/utils/validation.py:879\u001b[0m, in \u001b[0;36mcheck_array\u001b[0;34m(array, accept_sparse, accept_large_sparse, dtype, order, copy, force_all_finite, ensure_2d, allow_nd, ensure_min_samples, ensure_min_features, estimator, input_name)\u001b[0m\n\u001b[1;32m    877\u001b[0m         array \u001b[38;5;241m=\u001b[39m xp\u001b[38;5;241m.\u001b[39mastype(array, dtype, copy\u001b[38;5;241m=\u001b[39m\u001b[38;5;28;01mFalse\u001b[39;00m)\n\u001b[1;32m    878\u001b[0m     \u001b[38;5;28;01melse\u001b[39;00m:\n\u001b[0;32m--> 879\u001b[0m         array \u001b[38;5;241m=\u001b[39m \u001b[43m_asarray_with_order\u001b[49m\u001b[43m(\u001b[49m\u001b[43marray\u001b[49m\u001b[43m,\u001b[49m\u001b[43m \u001b[49m\u001b[43morder\u001b[49m\u001b[38;5;241;43m=\u001b[39;49m\u001b[43morder\u001b[49m\u001b[43m,\u001b[49m\u001b[43m \u001b[49m\u001b[43mdtype\u001b[49m\u001b[38;5;241;43m=\u001b[39;49m\u001b[43mdtype\u001b[49m\u001b[43m,\u001b[49m\u001b[43m \u001b[49m\u001b[43mxp\u001b[49m\u001b[38;5;241;43m=\u001b[39;49m\u001b[43mxp\u001b[49m\u001b[43m)\u001b[49m\n\u001b[1;32m    880\u001b[0m \u001b[38;5;28;01mexcept\u001b[39;00m ComplexWarning \u001b[38;5;28;01mas\u001b[39;00m complex_warning:\n\u001b[1;32m    881\u001b[0m     \u001b[38;5;28;01mraise\u001b[39;00m \u001b[38;5;167;01mValueError\u001b[39;00m(\n\u001b[1;32m    882\u001b[0m         \u001b[38;5;124m\"\u001b[39m\u001b[38;5;124mComplex data not supported\u001b[39m\u001b[38;5;130;01m\\n\u001b[39;00m\u001b[38;5;132;01m{}\u001b[39;00m\u001b[38;5;130;01m\\n\u001b[39;00m\u001b[38;5;124m\"\u001b[39m\u001b[38;5;241m.\u001b[39mformat(array)\n\u001b[1;32m    883\u001b[0m     ) \u001b[38;5;28;01mfrom\u001b[39;00m \u001b[38;5;21;01mcomplex_warning\u001b[39;00m\n",
      "File \u001b[0;32m~/anaconda3/lib/python3.10/site-packages/sklearn/utils/_array_api.py:185\u001b[0m, in \u001b[0;36m_asarray_with_order\u001b[0;34m(array, dtype, order, copy, xp)\u001b[0m\n\u001b[1;32m    182\u001b[0m     xp, _ \u001b[38;5;241m=\u001b[39m get_namespace(array)\n\u001b[1;32m    183\u001b[0m \u001b[38;5;28;01mif\u001b[39;00m xp\u001b[38;5;241m.\u001b[39m\u001b[38;5;18m__name__\u001b[39m \u001b[38;5;129;01min\u001b[39;00m {\u001b[38;5;124m\"\u001b[39m\u001b[38;5;124mnumpy\u001b[39m\u001b[38;5;124m\"\u001b[39m, \u001b[38;5;124m\"\u001b[39m\u001b[38;5;124mnumpy.array_api\u001b[39m\u001b[38;5;124m\"\u001b[39m}:\n\u001b[1;32m    184\u001b[0m     \u001b[38;5;66;03m# Use NumPy API to support order\u001b[39;00m\n\u001b[0;32m--> 185\u001b[0m     array \u001b[38;5;241m=\u001b[39m \u001b[43mnumpy\u001b[49m\u001b[38;5;241;43m.\u001b[39;49m\u001b[43masarray\u001b[49m\u001b[43m(\u001b[49m\u001b[43marray\u001b[49m\u001b[43m,\u001b[49m\u001b[43m \u001b[49m\u001b[43morder\u001b[49m\u001b[38;5;241;43m=\u001b[39;49m\u001b[43morder\u001b[49m\u001b[43m,\u001b[49m\u001b[43m \u001b[49m\u001b[43mdtype\u001b[49m\u001b[38;5;241;43m=\u001b[39;49m\u001b[43mdtype\u001b[49m\u001b[43m)\u001b[49m\n\u001b[1;32m    186\u001b[0m     \u001b[38;5;28;01mreturn\u001b[39;00m xp\u001b[38;5;241m.\u001b[39masarray(array, copy\u001b[38;5;241m=\u001b[39mcopy)\n\u001b[1;32m    187\u001b[0m \u001b[38;5;28;01melse\u001b[39;00m:\n",
      "File \u001b[0;32m~/anaconda3/lib/python3.10/site-packages/pandas/core/series.py:893\u001b[0m, in \u001b[0;36mSeries.__array__\u001b[0;34m(self, dtype)\u001b[0m\n\u001b[1;32m    846\u001b[0m \u001b[38;5;28;01mdef\u001b[39;00m \u001b[38;5;21m__array__\u001b[39m(\u001b[38;5;28mself\u001b[39m, dtype: npt\u001b[38;5;241m.\u001b[39mDTypeLike \u001b[38;5;241m|\u001b[39m \u001b[38;5;28;01mNone\u001b[39;00m \u001b[38;5;241m=\u001b[39m \u001b[38;5;28;01mNone\u001b[39;00m) \u001b[38;5;241m-\u001b[39m\u001b[38;5;241m>\u001b[39m np\u001b[38;5;241m.\u001b[39mndarray:\n\u001b[1;32m    847\u001b[0m     \u001b[38;5;124;03m\"\"\"\u001b[39;00m\n\u001b[1;32m    848\u001b[0m \u001b[38;5;124;03m    Return the values as a NumPy array.\u001b[39;00m\n\u001b[1;32m    849\u001b[0m \n\u001b[0;32m   (...)\u001b[0m\n\u001b[1;32m    891\u001b[0m \u001b[38;5;124;03m          dtype='datetime64[ns]')\u001b[39;00m\n\u001b[1;32m    892\u001b[0m \u001b[38;5;124;03m    \"\"\"\u001b[39;00m\n\u001b[0;32m--> 893\u001b[0m     \u001b[38;5;28;01mreturn\u001b[39;00m \u001b[43mnp\u001b[49m\u001b[38;5;241;43m.\u001b[39;49m\u001b[43masarray\u001b[49m\u001b[43m(\u001b[49m\u001b[38;5;28;43mself\u001b[39;49m\u001b[38;5;241;43m.\u001b[39;49m\u001b[43m_values\u001b[49m\u001b[43m,\u001b[49m\u001b[43m \u001b[49m\u001b[43mdtype\u001b[49m\u001b[43m)\u001b[49m\n",
      "\u001b[0;31mValueError\u001b[0m: setting an array element with a sequence."
     ]
    }
   ],
   "source": [
    "knn_avgw2v=KNeighborsClassifier(n_neighbors=5,algorithm='brute')\n",
    "knn_avgw2v.fit(X_train,y_train)"
   ]
  },
  {
   "cell_type": "markdown",
   "id": "932c1b8b",
   "metadata": {},
   "source": [
    "### Solution for KNN \"ValueError: setting an array element with a sequence.\"\n",
    "\n",
    "Each row in the avgw2v has the shape (100,). When this data is fed as is into the KNN trianing set we get an error. The problem X_train is a 2D array where the element can be of any size. \n",
    "\n",
    "Inorder to fix this I had to convert each row item from (100,) to (1,100)"
   ]
  },
  {
   "cell_type": "code",
   "execution_count": 80,
   "id": "d88a12c7",
   "metadata": {},
   "outputs": [
    {
     "data": {
      "text/html": [
       "<style>#sk-container-id-1 {color: black;background-color: white;}#sk-container-id-1 pre{padding: 0;}#sk-container-id-1 div.sk-toggleable {background-color: white;}#sk-container-id-1 label.sk-toggleable__label {cursor: pointer;display: block;width: 100%;margin-bottom: 0;padding: 0.3em;box-sizing: border-box;text-align: center;}#sk-container-id-1 label.sk-toggleable__label-arrow:before {content: \"▸\";float: left;margin-right: 0.25em;color: #696969;}#sk-container-id-1 label.sk-toggleable__label-arrow:hover:before {color: black;}#sk-container-id-1 div.sk-estimator:hover label.sk-toggleable__label-arrow:before {color: black;}#sk-container-id-1 div.sk-toggleable__content {max-height: 0;max-width: 0;overflow: hidden;text-align: left;background-color: #f0f8ff;}#sk-container-id-1 div.sk-toggleable__content pre {margin: 0.2em;color: black;border-radius: 0.25em;background-color: #f0f8ff;}#sk-container-id-1 input.sk-toggleable__control:checked~div.sk-toggleable__content {max-height: 200px;max-width: 100%;overflow: auto;}#sk-container-id-1 input.sk-toggleable__control:checked~label.sk-toggleable__label-arrow:before {content: \"▾\";}#sk-container-id-1 div.sk-estimator input.sk-toggleable__control:checked~label.sk-toggleable__label {background-color: #d4ebff;}#sk-container-id-1 div.sk-label input.sk-toggleable__control:checked~label.sk-toggleable__label {background-color: #d4ebff;}#sk-container-id-1 input.sk-hidden--visually {border: 0;clip: rect(1px 1px 1px 1px);clip: rect(1px, 1px, 1px, 1px);height: 1px;margin: -1px;overflow: hidden;padding: 0;position: absolute;width: 1px;}#sk-container-id-1 div.sk-estimator {font-family: monospace;background-color: #f0f8ff;border: 1px dotted black;border-radius: 0.25em;box-sizing: border-box;margin-bottom: 0.5em;}#sk-container-id-1 div.sk-estimator:hover {background-color: #d4ebff;}#sk-container-id-1 div.sk-parallel-item::after {content: \"\";width: 100%;border-bottom: 1px solid gray;flex-grow: 1;}#sk-container-id-1 div.sk-label:hover label.sk-toggleable__label {background-color: #d4ebff;}#sk-container-id-1 div.sk-serial::before {content: \"\";position: absolute;border-left: 1px solid gray;box-sizing: border-box;top: 0;bottom: 0;left: 50%;z-index: 0;}#sk-container-id-1 div.sk-serial {display: flex;flex-direction: column;align-items: center;background-color: white;padding-right: 0.2em;padding-left: 0.2em;position: relative;}#sk-container-id-1 div.sk-item {position: relative;z-index: 1;}#sk-container-id-1 div.sk-parallel {display: flex;align-items: stretch;justify-content: center;background-color: white;position: relative;}#sk-container-id-1 div.sk-item::before, #sk-container-id-1 div.sk-parallel-item::before {content: \"\";position: absolute;border-left: 1px solid gray;box-sizing: border-box;top: 0;bottom: 0;left: 50%;z-index: -1;}#sk-container-id-1 div.sk-parallel-item {display: flex;flex-direction: column;z-index: 1;position: relative;background-color: white;}#sk-container-id-1 div.sk-parallel-item:first-child::after {align-self: flex-end;width: 50%;}#sk-container-id-1 div.sk-parallel-item:last-child::after {align-self: flex-start;width: 50%;}#sk-container-id-1 div.sk-parallel-item:only-child::after {width: 0;}#sk-container-id-1 div.sk-dashed-wrapped {border: 1px dashed gray;margin: 0 0.4em 0.5em 0.4em;box-sizing: border-box;padding-bottom: 0.4em;background-color: white;}#sk-container-id-1 div.sk-label label {font-family: monospace;font-weight: bold;display: inline-block;line-height: 1.2em;}#sk-container-id-1 div.sk-label-container {text-align: center;}#sk-container-id-1 div.sk-container {/* jupyter's `normalize.less` sets `[hidden] { display: none; }` but bootstrap.min.css set `[hidden] { display: none !important; }` so we also need the `!important` here to be able to override the default hidden behavior on the sphinx rendered scikit-learn.org. See: https://github.com/scikit-learn/scikit-learn/issues/21755 */display: inline-block !important;position: relative;}#sk-container-id-1 div.sk-text-repr-fallback {display: none;}</style><div id=\"sk-container-id-1\" class=\"sk-top-container\"><div class=\"sk-text-repr-fallback\"><pre>KNeighborsClassifier(algorithm=&#x27;brute&#x27;)</pre><b>In a Jupyter environment, please rerun this cell to show the HTML representation or trust the notebook. <br />On GitHub, the HTML representation is unable to render, please try loading this page with nbviewer.org.</b></div><div class=\"sk-container\" hidden><div class=\"sk-item\"><div class=\"sk-estimator sk-toggleable\"><input class=\"sk-toggleable__control sk-hidden--visually\" id=\"sk-estimator-id-1\" type=\"checkbox\" checked><label for=\"sk-estimator-id-1\" class=\"sk-toggleable__label sk-toggleable__label-arrow\">KNeighborsClassifier</label><div class=\"sk-toggleable__content\"><pre>KNeighborsClassifier(algorithm=&#x27;brute&#x27;)</pre></div></div></div></div></div>"
      ],
      "text/plain": [
       "KNeighborsClassifier(algorithm='brute')"
      ]
     },
     "execution_count": 80,
     "metadata": {},
     "output_type": "execute_result"
    }
   ],
   "source": [
    "# Convert the shape of avgw2v from (100,) to (1,100). \n",
    "full_array = np.empty((7469, 100))\n",
    "for index, row in df_avgw2v.iterrows():\n",
    "    arr = row['avgw2v'] \n",
    "    arr_flattened = np.reshape(arr, (1,np.product(arr.shape))) \n",
    "    np.append(full_array, arr_flattened, axis=0) \n",
    "    \n",
    "X = full_array\n",
    "y = df_avgw2v['target']\n",
    "X_train, X_test, y_train, y_test = train_test_split(X, y, random_state = 42)\n",
    "knn_avgw2v=KNeighborsClassifier(n_neighbors=5,algorithm='brute')\n",
    "knn_avgw2v.fit(X_train,y_train)"
   ]
  },
  {
   "cell_type": "code",
   "execution_count": 81,
   "id": "545871c9",
   "metadata": {},
   "outputs": [
    {
     "name": "stdout",
     "output_type": "stream",
     "text": [
      "Test set Accuracy Score:  0.5728051391862955\n",
      "Training set Accuracy Score:  0.5743617211212283\n",
      "Recall Score:  0.0\n",
      "Average Precision Score:  0.42563827887877165\n"
     ]
    }
   ],
   "source": [
    "test_acc = knn_avgw2v.score(X_test, y_test)\n",
    "y_pred=knn_avgw2v.predict(X_train)\n",
    "\n",
    "print(\"Test set Accuracy Score: \", test_acc)\n",
    "print(\"Training set Accuracy Score: \", metrics.accuracy_score(y_train, y_pred))\n",
    "print(\"Recall Score: \", metrics.recall_score(y_train, y_pred))\n",
    "print(\"Average Precision Score: \", metrics.average_precision_score(y_train, y_pred))"
   ]
  },
  {
   "cell_type": "markdown",
   "id": "a4008b90",
   "metadata": {},
   "source": [
    "### Conclusion \n",
    "word2Vec model doesn't look too promising with this training model. An out of the box trianing model with a large corpus of data might perform better."
   ]
  },
  {
   "cell_type": "markdown",
   "id": "63b8e021",
   "metadata": {},
   "source": [
    "# Addtional Exploration \n",
    "1. Retrieval Augmented Generation (RAG) Architecture \n",
    "2. Retrieval-Augmented Generation vs. Semantic Search\n",
    "3. BERT "
   ]
  },
  {
   "cell_type": "markdown",
   "id": "da392c33",
   "metadata": {},
   "source": [
    "# Retrieval Augmented Generation (RAG)\n",
    "\n",
    "## Characteristics of foundational models \n",
    "- Foundation models are usually trained offline, making the model agnostic to any data that is created after the model was trained. \n",
    "- Foundation models are trained on very general domain corpora, making them less effective for domain-specific tasks.\n",
    "- Large pre-trained language model's ability to access and precisely manipulate knowledge is still limited, and hence on knowledge-intensive tasks, their performance lags behind task-specific architectures.\n",
    "\n",
    "## RAG\n",
    "- Retrieval Augmented Generation (RAG) is used to retrieve data from outside a foundation model and augment your prompts by adding the relevant retrieved data in context\n",
    "- models which combine pre-trained parametric and non-parametric memory for language generation\n",
    "\n",
    "<center>\n",
    "    <img src = images/rag_architecture.png width = 100%/>\n",
    "</center>\n",
    "\n",
    "### Steps in RAG \n",
    "- Retrieval step, user presents prompt + query. The input query is processed as follows, \n",
    "    - Input query. This is the starting point where a user provides a query or a question that they want an answer to.\n",
    "    - Encoding. The input query is processed and encoded into a representation that can be used for further steps. This encoding captures the essence of the query in a format that the system can work with.\n",
    "    - Document retrieval. Using the encoded query, the system searches a large corpus of information to retrieve relevant documents or passages. This is done using a dense retrieval method which is efficient and can fetch the most relevant pieces of information.\n",
    "    - Retrieved documents. These are the documents or passages that the system believes are most relevant to the encoded query. They contain potential answers or information related to the original query.\n",
    "- Generation step. \n",
    "    - Context encoding. The retrieved documents are then encoded, similar to how the original query was encoded. This step prepares the documents for the generation process.\n",
    "    - Encoded documents. This is the result of the context encoding step. It's a representation of the retrieved documents that's ready to be combined with the encoded query.\n",
    "    - Combine encoded query + documents. The encoded query and the encoded documents are combined together. This combination provides a rich context that the system will use to generate a final answer.\n",
    "    - Generation using LLM (Large Language Model.) This is where the magic happens! Using the combined context from the previous step, a Large Language Model (like GPT-3 or GPT-4) generates a coherent and relevant answer. It tries to provide the best possible response based on the information it has.\n",
    "    - Output (answer.) This is the final result. It's the answer or response generated by the system in reply to the original input query.\n",
    "- Training. \n",
    "    - The entire system, including the retrieval and generation components are fine-tuned end-to-end.\n",
    "    \n",
    "### RAG  in AI application \n",
    "<center>\n",
    "    <img src = images/rag_ai_application.png width = 70%/>\n",
    "</center>"
   ]
  },
  {
   "cell_type": "code",
   "execution_count": 82,
   "id": "8b8a7d9a",
   "metadata": {},
   "outputs": [
    {
     "name": "stderr",
     "output_type": "stream",
     "text": [
      "Setting `pad_token_id` to `eos_token_id`:50256 for open-end generation.\n",
      "Input length of input_ids is 108, but `max_length` is set to 100. This can lead to unexpected behavior. You should consider increasing `max_new_tokens`.\n"
     ]
    },
    {
     "name": "stdout",
     "output_type": "stream",
     "text": [
      "Albert Einstein was a famous physicist who developed the theory of relativity. He was born on March 14, 1879, in Ulm, Germany, and died on April 18, 1955, in Princeton, New Jersey, USA. Einstein's most famous equation is E=mc^2, which relates energy (E) to mass (m) and the speed of light (c). He won the Nobel Prize in Physics in 1921 for his work on the photoelectric effect. Albert Einstein's contributions to science revolutionized our understanding of the universe. Einstein\n"
     ]
    }
   ],
   "source": [
    "# Retrieval-Augmented Generation Example using Huggingface \n",
    "\n",
    "from transformers import pipeline\n",
    "\n",
    "# Define a function for retrieval\n",
    "def retrieve_documents(query):\n",
    "    # Use your retrieval method here, e.g., Elasticsearch or dense vector retrieval\n",
    "    # Return a list of relevant documents\n",
    "    # Sample relevant documents for the query \"Tell me about Albert Einstein\"\n",
    "    relevant_documents = [\n",
    "        \"Albert Einstein was a famous physicist who developed the theory of relativity.\",\n",
    "        \"He was born on March 14, 1879, in Ulm, Germany, and died on April 18, 1955, in Princeton, New Jersey, USA.\",\n",
    "        \"Einstein's most famous equation is E=mc^2, which relates energy (E) to mass (m) and the speed of light (c).\",\n",
    "        \"He won the Nobel Prize in Physics in 1921 for his work on the photoelectric effect.\",\n",
    "        \"Albert Einstein's contributions to science revolutionized our understanding of the universe.\"\n",
    "    ]\n",
    "    return relevant_documents\n",
    "\n",
    "# Define a function for generation\n",
    "def generate_response(relevant_documents):\n",
    "    # Use a pre-trained language model for text generation\n",
    "    generator = pipeline(\"text-generation\", model=\"gpt2\")\n",
    "\n",
    "    # Concatenate the relevant documents into a single string\n",
    "    context = \" \".join(relevant_documents)\n",
    "\n",
    "    # Generate text based on the retrieved information\n",
    "    generated_text = generator(context, max_length=100)[0][\"generated_text\"]\n",
    "\n",
    "    return generated_text\n",
    "\n",
    "# Example usage\n",
    "query = \"Tell me about Albert Einstein\"\n",
    "retrieved_docs = retrieve_documents(query)\n",
    "response = generate_response(retrieved_docs)\n",
    "print(response)"
   ]
  },
  {
   "cell_type": "markdown",
   "id": "3fff90ca",
   "metadata": {},
   "source": [
    "## Retrieval-Augmented Generation Example using LangChain\n",
    "- LangChain is a Python library that makes it easy to build retrieval-augmented generation (RAG) models."
   ]
  },
  {
   "cell_type": "code",
   "execution_count": 113,
   "id": "87bf4584",
   "metadata": {},
   "outputs": [
    {
     "name": "stdout",
     "output_type": "stream",
     "text": [
      "huggingface/tokenizers: The current process just got forked, after parallelism has already been used. Disabling parallelism to avoid deadlocks...\n",
      "To disable this warning, you can either:\n",
      "\t- Avoid using `tokenizers` before the fork if possible\n",
      "\t- Explicitly set the environment variable TOKENIZERS_PARALLELISM=(true | false)\n",
      "Requirement already satisfied: langchain in /Users/sridevi/anaconda3/lib/python3.10/site-packages (0.0.350)\n",
      "Requirement already satisfied: PyYAML>=5.3 in /Users/sridevi/anaconda3/lib/python3.10/site-packages (from langchain) (6.0)\n",
      "Requirement already satisfied: langchain-community<0.1,>=0.0.2 in /Users/sridevi/anaconda3/lib/python3.10/site-packages (from langchain) (0.0.3)\n",
      "Requirement already satisfied: jsonpatch<2.0,>=1.33 in /Users/sridevi/anaconda3/lib/python3.10/site-packages (from langchain) (1.33)\n",
      "Requirement already satisfied: langsmith<0.1.0,>=0.0.63 in /Users/sridevi/anaconda3/lib/python3.10/site-packages (from langchain) (0.0.70)\n",
      "Requirement already satisfied: langchain-core<0.2,>=0.1 in /Users/sridevi/anaconda3/lib/python3.10/site-packages (from langchain) (0.1.1)\n",
      "Requirement already satisfied: dataclasses-json<0.7,>=0.5.7 in /Users/sridevi/anaconda3/lib/python3.10/site-packages (from langchain) (0.6.3)\n",
      "Requirement already satisfied: tenacity<9.0.0,>=8.1.0 in /Users/sridevi/anaconda3/lib/python3.10/site-packages (from langchain) (8.2.3)\n",
      "Requirement already satisfied: SQLAlchemy<3,>=1.4 in /Users/sridevi/anaconda3/lib/python3.10/site-packages (from langchain) (1.4.39)\n",
      "Requirement already satisfied: numpy<2,>=1 in /Users/sridevi/anaconda3/lib/python3.10/site-packages (from langchain) (1.23.5)\n",
      "Requirement already satisfied: pydantic<3,>=1 in /Users/sridevi/anaconda3/lib/python3.10/site-packages (from langchain) (2.5.2)\n",
      "Requirement already satisfied: aiohttp<4.0.0,>=3.8.3 in /Users/sridevi/anaconda3/lib/python3.10/site-packages (from langchain) (3.9.1)\n",
      "Requirement already satisfied: requests<3,>=2 in /Users/sridevi/anaconda3/lib/python3.10/site-packages (from langchain) (2.28.1)\n",
      "Requirement already satisfied: async-timeout<5.0.0,>=4.0.0 in /Users/sridevi/anaconda3/lib/python3.10/site-packages (from langchain) (4.0.3)\n",
      "Requirement already satisfied: frozenlist>=1.1.1 in /Users/sridevi/anaconda3/lib/python3.10/site-packages (from aiohttp<4.0.0,>=3.8.3->langchain) (1.4.1)\n",
      "Requirement already satisfied: aiosignal>=1.1.2 in /Users/sridevi/anaconda3/lib/python3.10/site-packages (from aiohttp<4.0.0,>=3.8.3->langchain) (1.3.1)\n",
      "Requirement already satisfied: yarl<2.0,>=1.0 in /Users/sridevi/anaconda3/lib/python3.10/site-packages (from aiohttp<4.0.0,>=3.8.3->langchain) (1.9.4)\n",
      "Requirement already satisfied: attrs>=17.3.0 in /Users/sridevi/anaconda3/lib/python3.10/site-packages (from aiohttp<4.0.0,>=3.8.3->langchain) (22.1.0)\n",
      "Requirement already satisfied: multidict<7.0,>=4.5 in /Users/sridevi/anaconda3/lib/python3.10/site-packages (from aiohttp<4.0.0,>=3.8.3->langchain) (6.0.4)\n",
      "Requirement already satisfied: typing-inspect<1,>=0.4.0 in /Users/sridevi/anaconda3/lib/python3.10/site-packages (from dataclasses-json<0.7,>=0.5.7->langchain) (0.9.0)\n",
      "Requirement already satisfied: marshmallow<4.0.0,>=3.18.0 in /Users/sridevi/anaconda3/lib/python3.10/site-packages (from dataclasses-json<0.7,>=0.5.7->langchain) (3.20.1)\n",
      "Requirement already satisfied: jsonpointer>=1.9 in /Users/sridevi/anaconda3/lib/python3.10/site-packages (from jsonpatch<2.0,>=1.33->langchain) (2.1)\n",
      "Requirement already satisfied: anyio<5,>=3 in /Users/sridevi/anaconda3/lib/python3.10/site-packages (from langchain-core<0.2,>=0.1->langchain) (3.5.0)\n",
      "Requirement already satisfied: packaging<24.0,>=23.2 in /Users/sridevi/anaconda3/lib/python3.10/site-packages (from langchain-core<0.2,>=0.1->langchain) (23.2)\n",
      "Requirement already satisfied: annotated-types>=0.4.0 in /Users/sridevi/anaconda3/lib/python3.10/site-packages (from pydantic<3,>=1->langchain) (0.6.0)\n",
      "Requirement already satisfied: pydantic-core==2.14.5 in /Users/sridevi/anaconda3/lib/python3.10/site-packages (from pydantic<3,>=1->langchain) (2.14.5)\n",
      "Requirement already satisfied: typing-extensions>=4.6.1 in /Users/sridevi/anaconda3/lib/python3.10/site-packages (from pydantic<3,>=1->langchain) (4.9.0)\n",
      "Requirement already satisfied: idna<4,>=2.5 in /Users/sridevi/anaconda3/lib/python3.10/site-packages (from requests<3,>=2->langchain) (3.4)\n",
      "Requirement already satisfied: charset-normalizer<3,>=2 in /Users/sridevi/anaconda3/lib/python3.10/site-packages (from requests<3,>=2->langchain) (2.0.4)\n",
      "Requirement already satisfied: certifi>=2017.4.17 in /Users/sridevi/anaconda3/lib/python3.10/site-packages (from requests<3,>=2->langchain) (2023.5.7)\n",
      "Requirement already satisfied: urllib3<1.27,>=1.21.1 in /Users/sridevi/anaconda3/lib/python3.10/site-packages (from requests<3,>=2->langchain) (1.26.14)\n",
      "Requirement already satisfied: greenlet!=0.4.17 in /Users/sridevi/anaconda3/lib/python3.10/site-packages (from SQLAlchemy<3,>=1.4->langchain) (2.0.1)\n",
      "Requirement already satisfied: sniffio>=1.1 in /Users/sridevi/anaconda3/lib/python3.10/site-packages (from anyio<5,>=3->langchain-core<0.2,>=0.1->langchain) (1.2.0)\n",
      "Requirement already satisfied: mypy-extensions>=0.3.0 in /Users/sridevi/anaconda3/lib/python3.10/site-packages (from typing-inspect<1,>=0.4.0->dataclasses-json<0.7,>=0.5.7->langchain) (0.4.3)\n",
      "Note: you may need to restart the kernel to use updated packages.\n"
     ]
    }
   ],
   "source": [
    "pip install langchain"
   ]
  },
  {
   "cell_type": "code",
   "execution_count": 114,
   "id": "0f556844",
   "metadata": {},
   "outputs": [
    {
     "name": "stdout",
     "output_type": "stream",
     "text": [
      "huggingface/tokenizers: The current process just got forked, after parallelism has already been used. Disabling parallelism to avoid deadlocks...\n",
      "To disable this warning, you can either:\n",
      "\t- Avoid using `tokenizers` before the fork if possible\n",
      "\t- Explicitly set the environment variable TOKENIZERS_PARALLELISM=(true | false)\n",
      "Requirement already satisfied: openai in /Users/sridevi/anaconda3/lib/python3.10/site-packages (1.4.0)\n",
      "Requirement already satisfied: distro<2,>=1.7.0 in /Users/sridevi/anaconda3/lib/python3.10/site-packages (from openai) (1.8.0)\n",
      "Requirement already satisfied: anyio<5,>=3.5.0 in /Users/sridevi/anaconda3/lib/python3.10/site-packages (from openai) (3.5.0)\n",
      "Requirement already satisfied: httpx<1,>=0.23.0 in /Users/sridevi/anaconda3/lib/python3.10/site-packages (from openai) (0.25.2)\n",
      "Requirement already satisfied: typing-extensions<5,>=4.5 in /Users/sridevi/anaconda3/lib/python3.10/site-packages (from openai) (4.9.0)\n",
      "Requirement already satisfied: pydantic<3,>=1.9.0 in /Users/sridevi/anaconda3/lib/python3.10/site-packages (from openai) (2.5.2)\n",
      "Requirement already satisfied: sniffio in /Users/sridevi/anaconda3/lib/python3.10/site-packages (from openai) (1.2.0)\n",
      "Requirement already satisfied: tqdm>4 in /Users/sridevi/anaconda3/lib/python3.10/site-packages (from openai) (4.64.1)\n",
      "Requirement already satisfied: idna>=2.8 in /Users/sridevi/anaconda3/lib/python3.10/site-packages (from anyio<5,>=3.5.0->openai) (3.4)\n",
      "Requirement already satisfied: httpcore==1.* in /Users/sridevi/anaconda3/lib/python3.10/site-packages (from httpx<1,>=0.23.0->openai) (1.0.2)\n",
      "Requirement already satisfied: certifi in /Users/sridevi/anaconda3/lib/python3.10/site-packages (from httpx<1,>=0.23.0->openai) (2023.5.7)\n",
      "Requirement already satisfied: h11<0.15,>=0.13 in /Users/sridevi/anaconda3/lib/python3.10/site-packages (from httpcore==1.*->httpx<1,>=0.23.0->openai) (0.14.0)\n",
      "Requirement already satisfied: pydantic-core==2.14.5 in /Users/sridevi/anaconda3/lib/python3.10/site-packages (from pydantic<3,>=1.9.0->openai) (2.14.5)\n",
      "Requirement already satisfied: annotated-types>=0.4.0 in /Users/sridevi/anaconda3/lib/python3.10/site-packages (from pydantic<3,>=1.9.0->openai) (0.6.0)\n",
      "Note: you may need to restart the kernel to use updated packages.\n"
     ]
    }
   ],
   "source": [
    "pip install openai"
   ]
  },
  {
   "cell_type": "code",
   "execution_count": 101,
   "id": "9806fcb2",
   "metadata": {},
   "outputs": [
    {
     "name": "stdout",
     "output_type": "stream",
     "text": [
      "huggingface/tokenizers: The current process just got forked, after parallelism has already been used. Disabling parallelism to avoid deadlocks...\n",
      "To disable this warning, you can either:\n",
      "\t- Avoid using `tokenizers` before the fork if possible\n",
      "\t- Explicitly set the environment variable TOKENIZERS_PARALLELISM=(true | false)\n",
      "Requirement already satisfied: tiktoken in /Users/sridevi/anaconda3/lib/python3.10/site-packages (0.5.2)\n",
      "Requirement already satisfied: regex>=2022.1.18 in /Users/sridevi/anaconda3/lib/python3.10/site-packages (from tiktoken) (2022.7.9)\n",
      "Requirement already satisfied: requests>=2.26.0 in /Users/sridevi/anaconda3/lib/python3.10/site-packages (from tiktoken) (2.28.1)\n",
      "Requirement already satisfied: charset-normalizer<3,>=2 in /Users/sridevi/anaconda3/lib/python3.10/site-packages (from requests>=2.26.0->tiktoken) (2.0.4)\n",
      "Requirement already satisfied: certifi>=2017.4.17 in /Users/sridevi/anaconda3/lib/python3.10/site-packages (from requests>=2.26.0->tiktoken) (2023.5.7)\n",
      "Requirement already satisfied: idna<4,>=2.5 in /Users/sridevi/anaconda3/lib/python3.10/site-packages (from requests>=2.26.0->tiktoken) (3.4)\n",
      "Requirement already satisfied: urllib3<1.27,>=1.21.1 in /Users/sridevi/anaconda3/lib/python3.10/site-packages (from requests>=2.26.0->tiktoken) (1.26.14)\n",
      "Note: you may need to restart the kernel to use updated packages.\n"
     ]
    }
   ],
   "source": [
    "pip install tiktoken"
   ]
  },
  {
   "cell_type": "code",
   "execution_count": null,
   "id": "b750b963",
   "metadata": {},
   "outputs": [],
   "source": [
    "from langchain.document_loaders import PyPDFLoader\n",
    "from langchain.text_splitter import CharacterTextSplitter\n",
    "from langchain.embeddings.openai import OpenAIEmbeddings\n",
    "from langchain.vectorstores import FAISS\n",
    "from langchain.chains import RetrievalQA\n",
    "from langchain.llms import OpenAI\n",
    "        \n",
    "def query_pdf(query):\n",
    "    \n",
    "    document = \"\"\" Albert Einstein was a famous physicist who developed the theory of relativity.\n",
    "        He was born on March 14, 1879, in Ulm, Germany, and died on April 18, 1955, in Princeton, New Jersey, USA.\n",
    "        Einstein's most famous equation is E=mc^2, which relates energy (E) to mass (m) and the speed of light (c)\n",
    "        He won the Nobel Prize in Physics in 1921 for his work on the photoelectric effect.\n",
    "        Albert Einstein's contributions to science revolutionized our understanding of the universe.\n",
    "        \"\"\"\n",
    "    \n",
    "    # Split document in chunks\n",
    "    text_splitter = CharacterTextSplitter(chunk_size=1000, chunk_overlap=0)\n",
    "    pages = text_splitter.create_documents(document)\n",
    "\n",
    "    embeddings = OpenAIEmbeddings()\n",
    "    # Create vectors\n",
    "    vectorstore = FAISS.from_documents(pages, embeddings)\n",
    "    # Persist the vectors locally on disk\n",
    "    vectorstore.save_local(\"faiss_index_constitution\")\n",
    "\n",
    "    # Load from local storage\n",
    "    persisted_vectorstore = FAISS.load_local(\"faiss_index_constitution\", embeddings)\n",
    "\n",
    "    # Use RetrievalQA chain for orchestration\n",
    "    qa = RetrievalQA.from_chain_type(llm=OpenAI(), chain_type=\"stuff\", retriever=persisted_vectorstore.as_retriever())\n",
    "    result = qa.run(query)\n",
    "    print(result)\n",
    "\n",
    "    \n",
    "query_pdf(\"When was Albert Einstein born\")\n",
    "\n",
    "\n",
    "# def main():\n",
    "#     query = input(\"Type in your query: \\n\")\n",
    "#     while query != \"exit\":\n",
    "#         query_pdf(query)\n",
    "#         query = input(\"Type in your query: \\n\")\n",
    "\n",
    "\n",
    "# if __name__ == \"__main__\":\n",
    "#     main()"
   ]
  },
  {
   "cell_type": "markdown",
   "id": "8b53107c",
   "metadata": {},
   "source": [
    "### ErrorCode 429 when using the constitution.pdf\n",
    "\n",
    "When using the code snippet \n",
    "```\n",
    "    # Load document using PyPDFLoader document loader\n",
    "    loader = PyPDFLoader(\"pdf/constitution.pdf\")\n",
    "    documents = loader.load()\n",
    "    # Split document in chunks\n",
    "    text_splitter = CharacterTextSplitter(chunk_size=1000, chunk_overlap=30, separator=\"\\n\")\n",
    "    docs = text_splitter.split_documents(documents=documents)\n",
    "```  \n",
    "\n",
    "RateLimitError: Error code: 429 - {'error': {'message': 'You exceeded your current quota, please check your plan and billing details. For more information on this error, read the docs: https://platform.openai.com/docs/guides/error-codes/api-errors.', 'type': 'insufficient_quota', 'param': None, 'code': 'insufficient_quota'}}\n",
    "\n",
    "Given the size of the pdf the data is large or diverse that requires a lot of requests to process. Switched to smaller dataset\n",
    "\n",
    "Tried with a smaller dataset but still ran into the same issue.  \n",
    "\n",
    "### Conclusion \n",
    "For assistant use cases integrating with OpenAI API directly would be preferred compared to 3rd party library like Langchain "
   ]
  },
  {
   "cell_type": "markdown",
   "id": "fb2874f9",
   "metadata": {},
   "source": [
    "# Retrieval-Augmented Generation vs. Semantic Search\n",
    "\n",
    "- RAG isn’t the only technique used to improve the accuracy of LLM-based generative AI. Another technique is semantic search, which helps the AI system narrow down the meaning of a query by seeking deep understanding of the specific words and phrases in the prompt.\n",
    "\n",
    "Traditional search is focused on keywords. For example, a basic query asking about the tree species native to France might search the AI system’s database using “trees” and “France” as keywords and find data that contains both keywords—but the system might not truly comprehend the meaning of trees in France and therefore may retrieve too much information, too little, or even the wrong information. That keyword-based search might also miss information because the keyword search is too literal: The trees native to Normandy might be missed, even though they’re in France, because that keyword was missing.\n",
    "\n",
    "Semantic search goes beyond keyword search by determining the meaning of questions and source documents and using that meaning to retrieve more accurate results. Semantic search is an integral part of RAG.\n",
    "\n",
    "<center>\n",
    "    <img src = images/TensorIoT-Gen-AI-Semantic-Search-1.png width = 40%/>\n",
    "</center>\n",
    "\n",
    "### What is Semantic Search?\n",
    "Semantic search is a way for AI assistant to understand the meaning behind words and provide more relevant answer based on context.\n",
    "\n",
    "### What are Vectors?\n",
    "Vectors, in the context of semantic search, are mathematical representations of words or documents. They capture the semantic meaning and context by mapping words or documents to numerical vectors in a high-dimensional space\n",
    "\n",
    "### What is VectorDB?\n",
    "Vector DB is a database that stores data in a way that represents the relationships and similarities between different pieces of information, making it easier to retrieve relevant results in semantic search."
   ]
  },
  {
   "cell_type": "markdown",
   "id": "ae4ecbba",
   "metadata": {},
   "source": [
    "# The building blocks of an AI-powered semantic search\n",
    "\n",
    "## 1. Semantic indexing\n",
    "- It is a technique used in information retrieval to organize and categorize documents based on their meaning rather than just their words. It involves analyzing the content of each document and assigning it to a set of keywords or concepts that describe its main ideas.\n",
    "## 2. Embedding\n",
    "- It is the process of creating numerical representations as vectors in a high-dimensional space of words or documents that capture their meanings.\n",
    "\n",
    "Putting it togeter \n",
    "- Convert chunks of the documents into a format called embeddings \n",
    "- Store those embeddings in a database\n",
    "- Convert the user query into an embedding as well\n",
    "- Compare it against the stored embeddings"
   ]
  },
  {
   "cell_type": "markdown",
   "id": "65bd20be",
   "metadata": {},
   "source": [
    "## Using FAISS(Facebook AI Similarity Search) to Build a Semantic Search"
   ]
  },
  {
   "cell_type": "code",
   "execution_count": 2,
   "id": "8ff75246",
   "metadata": {},
   "outputs": [
    {
     "name": "stdout",
     "output_type": "stream",
     "text": [
      "Requirement already satisfied: faiss-cpu in /Users/sridevi/anaconda3/lib/python3.10/site-packages (1.7.4)\n",
      "Note: you may need to restart the kernel to use updated packages.\n"
     ]
    }
   ],
   "source": [
    "pip install faiss-cpu"
   ]
  },
  {
   "cell_type": "code",
   "execution_count": 3,
   "id": "2696d240",
   "metadata": {},
   "outputs": [
    {
     "name": "stdout",
     "output_type": "stream",
     "text": [
      "Requirement already satisfied: sentence-transformers in /Users/sridevi/anaconda3/lib/python3.10/site-packages (2.2.2)\n",
      "Requirement already satisfied: huggingface-hub>=0.4.0 in /Users/sridevi/anaconda3/lib/python3.10/site-packages (from sentence-transformers) (0.10.1)\n",
      "Requirement already satisfied: scikit-learn in /Users/sridevi/anaconda3/lib/python3.10/site-packages (from sentence-transformers) (1.2.1)\n",
      "Requirement already satisfied: numpy in /Users/sridevi/anaconda3/lib/python3.10/site-packages (from sentence-transformers) (1.23.5)\n",
      "Requirement already satisfied: scipy in /Users/sridevi/anaconda3/lib/python3.10/site-packages (from sentence-transformers) (1.10.0)\n",
      "Requirement already satisfied: torch>=1.6.0 in /Users/sridevi/anaconda3/lib/python3.10/site-packages (from sentence-transformers) (2.1.2)\n",
      "Requirement already satisfied: torchvision in /Users/sridevi/anaconda3/lib/python3.10/site-packages (from sentence-transformers) (0.16.2)\n",
      "Requirement already satisfied: nltk in /Users/sridevi/anaconda3/lib/python3.10/site-packages (from sentence-transformers) (3.7)\n",
      "Requirement already satisfied: transformers<5.0.0,>=4.6.0 in /Users/sridevi/anaconda3/lib/python3.10/site-packages (from sentence-transformers) (4.24.0)\n",
      "Requirement already satisfied: sentencepiece in /Users/sridevi/anaconda3/lib/python3.10/site-packages (from sentence-transformers) (0.1.99)\n",
      "Requirement already satisfied: tqdm in /Users/sridevi/anaconda3/lib/python3.10/site-packages (from sentence-transformers) (4.64.1)\n",
      "Requirement already satisfied: requests in /Users/sridevi/anaconda3/lib/python3.10/site-packages (from huggingface-hub>=0.4.0->sentence-transformers) (2.28.1)\n",
      "Requirement already satisfied: pyyaml>=5.1 in /Users/sridevi/anaconda3/lib/python3.10/site-packages (from huggingface-hub>=0.4.0->sentence-transformers) (6.0)\n",
      "Requirement already satisfied: typing-extensions>=3.7.4.3 in /Users/sridevi/anaconda3/lib/python3.10/site-packages (from huggingface-hub>=0.4.0->sentence-transformers) (4.9.0)\n",
      "Requirement already satisfied: packaging>=20.9 in /Users/sridevi/anaconda3/lib/python3.10/site-packages (from huggingface-hub>=0.4.0->sentence-transformers) (23.2)\n",
      "Requirement already satisfied: filelock in /Users/sridevi/anaconda3/lib/python3.10/site-packages (from huggingface-hub>=0.4.0->sentence-transformers) (3.9.0)\n",
      "Requirement already satisfied: jinja2 in /Users/sridevi/anaconda3/lib/python3.10/site-packages (from torch>=1.6.0->sentence-transformers) (3.1.2)\n",
      "Requirement already satisfied: sympy in /Users/sridevi/anaconda3/lib/python3.10/site-packages (from torch>=1.6.0->sentence-transformers) (1.11.1)\n",
      "Requirement already satisfied: fsspec in /Users/sridevi/anaconda3/lib/python3.10/site-packages (from torch>=1.6.0->sentence-transformers) (2022.11.0)\n",
      "Requirement already satisfied: networkx in /Users/sridevi/anaconda3/lib/python3.10/site-packages (from torch>=1.6.0->sentence-transformers) (2.8.4)\n",
      "Requirement already satisfied: tokenizers!=0.11.3,<0.14,>=0.11.1 in /Users/sridevi/anaconda3/lib/python3.10/site-packages (from transformers<5.0.0,>=4.6.0->sentence-transformers) (0.11.4)\n",
      "Requirement already satisfied: regex!=2019.12.17 in /Users/sridevi/anaconda3/lib/python3.10/site-packages (from transformers<5.0.0,>=4.6.0->sentence-transformers) (2022.7.9)\n",
      "Requirement already satisfied: click in /Users/sridevi/anaconda3/lib/python3.10/site-packages (from nltk->sentence-transformers) (8.0.4)\n",
      "Requirement already satisfied: joblib in /Users/sridevi/anaconda3/lib/python3.10/site-packages (from nltk->sentence-transformers) (1.1.1)\n",
      "Requirement already satisfied: threadpoolctl>=2.0.0 in /Users/sridevi/anaconda3/lib/python3.10/site-packages (from scikit-learn->sentence-transformers) (2.2.0)\n",
      "Requirement already satisfied: pillow!=8.3.*,>=5.3.0 in /Users/sridevi/anaconda3/lib/python3.10/site-packages (from torchvision->sentence-transformers) (9.4.0)\n",
      "Requirement already satisfied: MarkupSafe>=2.0 in /Users/sridevi/anaconda3/lib/python3.10/site-packages (from jinja2->torch>=1.6.0->sentence-transformers) (2.1.1)\n",
      "Requirement already satisfied: certifi>=2017.4.17 in /Users/sridevi/anaconda3/lib/python3.10/site-packages (from requests->huggingface-hub>=0.4.0->sentence-transformers) (2023.5.7)\n",
      "Requirement already satisfied: idna<4,>=2.5 in /Users/sridevi/anaconda3/lib/python3.10/site-packages (from requests->huggingface-hub>=0.4.0->sentence-transformers) (3.4)\n",
      "Requirement already satisfied: charset-normalizer<3,>=2 in /Users/sridevi/anaconda3/lib/python3.10/site-packages (from requests->huggingface-hub>=0.4.0->sentence-transformers) (2.0.4)\n",
      "Requirement already satisfied: urllib3<1.27,>=1.21.1 in /Users/sridevi/anaconda3/lib/python3.10/site-packages (from requests->huggingface-hub>=0.4.0->sentence-transformers) (1.26.14)\n",
      "Requirement already satisfied: mpmath>=0.19 in /Users/sridevi/anaconda3/lib/python3.10/site-packages/mpmath-1.2.1-py3.10.egg (from sympy->torch>=1.6.0->sentence-transformers) (1.2.1)\n",
      "Note: you may need to restart the kernel to use updated packages.\n"
     ]
    }
   ],
   "source": [
    "pip install sentence-transformers"
   ]
  },
  {
   "cell_type": "code",
   "execution_count": 26,
   "id": "9142b383",
   "metadata": {},
   "outputs": [
    {
     "name": "stdout",
     "output_type": "stream",
     "text": [
      "(3, 384)\n",
      "384\n",
      "text        This is an example sentence\n",
      "category                       sentence\n",
      "Name: 0, dtype: object\n",
      "text        This is a sentence-transformers model\n",
      "category                                    model\n",
      "Name: 2, dtype: object\n",
      "text        Each sentence is converted\n",
      "category                      sentence\n",
      "Name: 1, dtype: object\n"
     ]
    }
   ],
   "source": [
    "# simple example \n",
    "\n",
    "from sentence_transformers import SentenceTransformer\n",
    "import pandas as pd\n",
    "import numpy as np\n",
    "import faiss\n",
    "\n",
    "data = [['This is an example sentence', 'sentence'], \n",
    "        ['Each sentence is converted', 'sentence'],\n",
    "        ['This is a sentence-transformers model', 'model']]\n",
    "df = pd.DataFrame(data, columns = ['text', 'category'])\n",
    "\n",
    "# Create vectors from the text\n",
    "sentences = df['text']\n",
    "model = SentenceTransformer('sentence-transformers/all-MiniLM-L6-v2')\n",
    "vectors = model.encode(sentences)\n",
    "print(vectors.shape)\n",
    "print(vectors.shape[1])\n",
    "\n",
    "# build a FAISS index from the vectors\n",
    "dimension = vectors.shape[1]\n",
    "index = faiss.IndexFlatL2(vector_dimension)\n",
    "index.add(vectors)\n",
    "\n",
    "# create a search vector \n",
    "search_text = 'example sentence'\n",
    "search_vector = model.encode(search_text)\n",
    "search_vector_arr = np.array([search_vector])\n",
    "\n",
    "# search \n",
    "k = index.ntotal\n",
    "distances, ans = index.search(search_vector_arr, k=k)\n",
    "\n",
    "results = pd.DataFrame({'distances': distances[0], 'ans': ans[0]})\n",
    "results.head()\n",
    "\n",
    "# print the closest match \n",
    "print(df.iloc[ans[0][0]])\n",
    "print(df.iloc[ans[0][1]])\n",
    "print(df.iloc[ans[0][2]])"
   ]
  },
  {
   "cell_type": "code",
   "execution_count": 30,
   "id": "9fb06902",
   "metadata": {},
   "outputs": [
    {
     "name": "stdout",
     "output_type": "stream",
     "text": [
      "(7520, 384)\n",
      "384\n"
     ]
    }
   ],
   "source": [
    "# Using FAISS for disater tweet analysis \n",
    "df_faiss = pd.read_csv('nlp-getting-started/train_with_text_processed_keyword.csv')\n",
    "sentences = df_faiss['text']\n",
    "vectors = model.encode(sentences)\n",
    "print(vectors.shape)\n",
    "print(vectors.shape[1])"
   ]
  },
  {
   "cell_type": "code",
   "execution_count": 31,
   "id": "50a4d144",
   "metadata": {},
   "outputs": [],
   "source": [
    "dimension = vectors.shape[1]\n",
    "disaster_index = faiss.IndexFlatL2(vector_dimension)\n",
    "disaster_index.add(vectors)"
   ]
  },
  {
   "cell_type": "code",
   "execution_count": 43,
   "id": "a5013324",
   "metadata": {},
   "outputs": [
    {
     "name": "stdout",
     "output_type": "stream",
     "text": [
      "wonderful day\n",
      "ruin holidays 3 work zone\n",
      "happy birthday young blood\n"
     ]
    }
   ],
   "source": [
    "# create a search vector \n",
    "search_text = 'happy holidays'\n",
    "search_vector = model.encode(search_text)\n",
    "search_vector_arr = np.array([search_vector])\n",
    "\n",
    "# search \n",
    "k = index.ntotal\n",
    "distances, ans = disaster_index.search(search_vector_arr, k=k)\n",
    "\n",
    "results = pd.DataFrame({'distances': distances[0], 'ans': ans[0]})\n",
    "results.head()\n",
    "\n",
    "#print the top 3 matches match \n",
    "print(df_faiss.iloc[ans[0][0]]['text'])\n",
    "print(df_faiss.iloc[ans[0][1]]['text'])\n",
    "print(df_faiss.iloc[ans[0][2]]['text'])"
   ]
  },
  {
   "cell_type": "markdown",
   "id": "4473eadc",
   "metadata": {},
   "source": [
    "### search result analysis \n",
    "\n",
    "search_text = 'fire evacuation'\n",
    "- theres fire alarm going years keep working minutes decide evacuate\n",
    "- tonight being interesting minutes ago fire system went evacuate building\n",
    "- evacuate life\n",
    "\n",
    "search_text = 'happy holidays'\n",
    "- wonderful day\n",
    "- ruin holidays 3 work zone\n",
    "- happy birthday young blood\n",
    "\n",
    "In the second example, \"ruin holidays 3 work zone\" couuld be an incorrect intepretation of the contextual meaning. "
   ]
  },
  {
   "cell_type": "code",
   "execution_count": null,
   "id": "39e8917a",
   "metadata": {},
   "outputs": [],
   "source": []
  },
  {
   "cell_type": "markdown",
   "id": "0c0540ca",
   "metadata": {},
   "source": [
    "### What is BERT?\n",
    "BERT, short for Bidirectional Encoder Representations from Transformers, is a Machine Learning (ML) model for natural language processing. It was developed in 2018 by researchers at Google AI Language and serves as a swiss army knife solution to 11+ of the most common language tasks, such as sentiment analysis and named entity recognition.\n",
    "\n",
    "#### What is BERT used for?\n",
    "BERT can be used on a wide variety of language tasks:\n",
    "\n",
    "- Can determine how positive or negative a movie’s reviews are. (Sentiment Analysis)\n",
    "- Helps chatbots answer your questions. (Question answering)\n",
    "- Predicts your text when writing an email (Gmail). (Text prediction)\n",
    "- Can write an article about any topic with just a few sentence inputs. (Text generation)\n",
    "- Can quickly summarize long legal contracts. (Summarization)\n",
    "- Can differentiate words that have multiple meanings (like ‘bank’) based on the surrounding text. (Polysemy resolution)\n",
    "\n",
    "Reference - https://huggingface.co/blog/bert-101 "
   ]
  },
  {
   "cell_type": "code",
   "execution_count": 45,
   "id": "8dc5e807",
   "metadata": {},
   "outputs": [
    {
     "name": "stdout",
     "output_type": "stream",
     "text": [
      "huggingface/tokenizers: The current process just got forked, after parallelism has already been used. Disabling parallelism to avoid deadlocks...\n",
      "To disable this warning, you can either:\n",
      "\t- Avoid using `tokenizers` before the fork if possible\n",
      "\t- Explicitly set the environment variable TOKENIZERS_PARALLELISM=(true | false)\n",
      "Requirement already satisfied: transformers in /Users/sridevi/anaconda3/lib/python3.10/site-packages (4.24.0)\n",
      "Requirement already satisfied: filelock in /Users/sridevi/anaconda3/lib/python3.10/site-packages (from transformers) (3.9.0)\n",
      "Requirement already satisfied: numpy>=1.17 in /Users/sridevi/anaconda3/lib/python3.10/site-packages (from transformers) (1.23.5)\n",
      "Requirement already satisfied: packaging>=20.0 in /Users/sridevi/anaconda3/lib/python3.10/site-packages (from transformers) (23.2)\n",
      "Requirement already satisfied: tqdm>=4.27 in /Users/sridevi/anaconda3/lib/python3.10/site-packages (from transformers) (4.64.1)\n",
      "Requirement already satisfied: regex!=2019.12.17 in /Users/sridevi/anaconda3/lib/python3.10/site-packages (from transformers) (2022.7.9)\n",
      "Requirement already satisfied: pyyaml>=5.1 in /Users/sridevi/anaconda3/lib/python3.10/site-packages (from transformers) (6.0)\n",
      "Requirement already satisfied: requests in /Users/sridevi/anaconda3/lib/python3.10/site-packages (from transformers) (2.28.1)\n",
      "Requirement already satisfied: tokenizers!=0.11.3,<0.14,>=0.11.1 in /Users/sridevi/anaconda3/lib/python3.10/site-packages (from transformers) (0.11.4)\n",
      "Requirement already satisfied: huggingface-hub<1.0,>=0.10.0 in /Users/sridevi/anaconda3/lib/python3.10/site-packages (from transformers) (0.10.1)\n",
      "Requirement already satisfied: typing-extensions>=3.7.4.3 in /Users/sridevi/anaconda3/lib/python3.10/site-packages (from huggingface-hub<1.0,>=0.10.0->transformers) (4.9.0)\n",
      "Requirement already satisfied: certifi>=2017.4.17 in /Users/sridevi/anaconda3/lib/python3.10/site-packages (from requests->transformers) (2023.5.7)\n",
      "Requirement already satisfied: charset-normalizer<3,>=2 in /Users/sridevi/anaconda3/lib/python3.10/site-packages (from requests->transformers) (2.0.4)\n",
      "Requirement already satisfied: idna<4,>=2.5 in /Users/sridevi/anaconda3/lib/python3.10/site-packages (from requests->transformers) (3.4)\n",
      "Requirement already satisfied: urllib3<1.27,>=1.21.1 in /Users/sridevi/anaconda3/lib/python3.10/site-packages (from requests->transformers) (1.26.14)\n"
     ]
    }
   ],
   "source": [
    "!pip install transformers"
   ]
  },
  {
   "cell_type": "code",
   "execution_count": 46,
   "id": "5bd08c84",
   "metadata": {},
   "outputs": [
    {
     "name": "stderr",
     "output_type": "stream",
     "text": [
      "Some weights of the model checkpoint at bert-base-uncased were not used when initializing BertForMaskedLM: ['cls.seq_relationship.bias', 'cls.seq_relationship.weight']\n",
      "- This IS expected if you are initializing BertForMaskedLM from the checkpoint of a model trained on another task or with another architecture (e.g. initializing a BertForSequenceClassification model from a BertForPreTraining model).\n",
      "- This IS NOT expected if you are initializing BertForMaskedLM from the checkpoint of a model that you expect to be exactly identical (initializing a BertForSequenceClassification model from a BertForSequenceClassification model).\n"
     ]
    },
    {
     "data": {
      "text/plain": [
       "[{'score': 0.3182411193847656,\n",
       "  'token': 2064,\n",
       "  'token_str': 'can',\n",
       "  'sequence': 'artificial intelligence can take over the world.'},\n",
       " {'score': 0.1829962283372879,\n",
       "  'token': 2097,\n",
       "  'token_str': 'will',\n",
       "  'sequence': 'artificial intelligence will take over the world.'},\n",
       " {'score': 0.05600151792168617,\n",
       "  'token': 2000,\n",
       "  'token_str': 'to',\n",
       "  'sequence': 'artificial intelligence to take over the world.'},\n",
       " {'score': 0.04519502446055412,\n",
       "  'token': 2015,\n",
       "  'token_str': '##s',\n",
       "  'sequence': 'artificial intelligences take over the world.'},\n",
       " {'score': 0.04515310749411583,\n",
       "  'token': 2052,\n",
       "  'token_str': 'would',\n",
       "  'sequence': 'artificial intelligence would take over the world.'}]"
      ]
     },
     "execution_count": 46,
     "metadata": {},
     "output_type": "execute_result"
    }
   ],
   "source": [
    "from transformers import pipeline\n",
    "unmasker = pipeline('fill-mask', model='bert-base-uncased')\n",
    "unmasker(\"Artificial Intelligence [MASK] take over the world.\")"
   ]
  },
  {
   "cell_type": "markdown",
   "id": "a8e4fd32",
   "metadata": {},
   "source": [
    "# BERT Embeddings\n",
    "\n",
    "Embeddings are representations of values or objects like text, images, and audio that are designed to be consumed by machine learning models and semantic search algorithms. They translate objects like these into a mathematical form according to the factors or traits each one may or may not have, and the categories they belong to.\n",
    "\n",
    "- https://mccormickml.com/2019/05/14/BERT-word-embeddings-tutorial/\n",
    "- https://medium.com/mlearning-ai/getting-contextualized-word-embeddings-with-bert-20798d8b43a4"
   ]
  },
  {
   "cell_type": "code",
   "execution_count": 51,
   "id": "27dbd7aa",
   "metadata": {},
   "outputs": [
    {
     "name": "stderr",
     "output_type": "stream",
     "text": [
      "Some weights of the model checkpoint at bert-base-uncased were not used when initializing BertModel: ['cls.seq_relationship.bias', 'cls.predictions.decoder.weight', 'cls.predictions.transform.LayerNorm.bias', 'cls.predictions.transform.LayerNorm.weight', 'cls.predictions.transform.dense.bias', 'cls.predictions.bias', 'cls.predictions.transform.dense.weight', 'cls.seq_relationship.weight']\n",
      "- This IS expected if you are initializing BertModel from the checkpoint of a model trained on another task or with another architecture (e.g. initializing a BertForSequenceClassification model from a BertForPreTraining model).\n",
      "- This IS NOT expected if you are initializing BertModel from the checkpoint of a model that you expect to be exactly identical (initializing a BertForSequenceClassification model from a BertForSequenceClassification model).\n"
     ]
    }
   ],
   "source": [
    "from transformers import BertModel, BertTokenizer\n",
    "import torch\n",
    "\n",
    "tokenizer = BertTokenizer.from_pretrained('bert-base-uncased')\n",
    "model = BertModel.from_pretrained('bert-base-uncased',\n",
    "           output_hidden_states = True,)\n"
   ]
  },
  {
   "cell_type": "code",
   "execution_count": 52,
   "id": "b308e233",
   "metadata": {},
   "outputs": [],
   "source": [
    "def bert_text_preparation(text, tokenizer):\n",
    "    marked_text = \"[CLS] \" + text + \" [SEP]\"\n",
    "    tokenized_text = tokenizer.tokenize(marked_text)\n",
    "    indexed_tokens = tokenizer.convert_tokens_to_ids(tokenized_text)\n",
    "    segments_ids = [1]*len(indexed_tokens)\n",
    "    tokens_tensor = torch.tensor([indexed_tokens])\n",
    "    segments_tensor = torch.tensor([segments_ids])\n",
    "    return tokenized_text, tokens_tensor, segments_tensor"
   ]
  },
  {
   "cell_type": "code",
   "execution_count": 53,
   "id": "5c4bf3cb",
   "metadata": {},
   "outputs": [],
   "source": [
    "def get_bert_embeddings(tokens_tensor, segments_tensor, model):\n",
    "    with torch.no_grad():\n",
    "        outputs = model(tokens_tensor, segments_tensor)\n",
    "        hidden_states = outputs[2]\n",
    "    token_embeddings = torch.stack(hidden_states, dim=0)\n",
    "    token_embeddings = torch.squeeze(token_embeddings, dim=1)\n",
    "    token_embeddings = token_embeddings.permute(1,0,2)\n",
    "    token_vecs_sum = []\n",
    "    for token in token_embeddings:\n",
    "        sum_vec = torch.sum(token[-4:], dim=0)\n",
    "        token_vecs_sum.append(sum_vec)\n",
    "    return token_vecs_sum"
   ]
  },
  {
   "cell_type": "code",
   "execution_count": 55,
   "id": "d4f9be65",
   "metadata": {},
   "outputs": [
    {
     "name": "stdout",
     "output_type": "stream",
     "text": [
      "14\n"
     ]
    }
   ],
   "source": [
    "sentence = \"residents asked shelter place being notified officers evacuation shelter place orders expected\"\n",
    "tokenized_text, tokens_tensor, segments_tensors = bert_text_preparation(sentence, tokenizer)\n",
    "embedding = get_bert_embeddings(tokens_tensor, segments_tensors, model)\n",
    "print(len(embedding))"
   ]
  },
  {
   "cell_type": "code",
   "execution_count": null,
   "id": "92c91f20",
   "metadata": {},
   "outputs": [],
   "source": []
  },
  {
   "cell_type": "code",
   "execution_count": null,
   "id": "9396dbb1",
   "metadata": {},
   "outputs": [],
   "source": []
  }
 ],
 "metadata": {
  "kernelspec": {
   "display_name": "Python 3 (ipykernel)",
   "language": "python",
   "name": "python3"
  },
  "language_info": {
   "codemirror_mode": {
    "name": "ipython",
    "version": 3
   },
   "file_extension": ".py",
   "mimetype": "text/x-python",
   "name": "python",
   "nbconvert_exporter": "python",
   "pygments_lexer": "ipython3",
   "version": "3.10.9"
  }
 },
 "nbformat": 4,
 "nbformat_minor": 5
}
